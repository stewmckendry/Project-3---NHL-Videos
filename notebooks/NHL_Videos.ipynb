{
 "cells": [
  {
   "cell_type": "markdown",
   "id": "1ace7124-35e7-4474-9c6f-513690ecc2e5",
   "metadata": {},
   "source": [
    "# **NHL Skating Video Analysis**"
   ]
  },
  {
   "cell_type": "markdown",
   "id": "a7d59c2d-d75f-4876-948b-332a521e0ea9",
   "metadata": {},
   "source": [
    "## **1: Setup & Import** <a id=\"functions\"></a>"
   ]
  },
  {
   "cell_type": "code",
   "execution_count": 99,
   "id": "8c34b726",
   "metadata": {},
   "outputs": [
    {
     "name": "stdout",
     "output_type": "stream",
     "text": [
      "/Users/liammckendry/Project3_NHL_Videos/venv310/bin/python\n"
     ]
    }
   ],
   "source": [
    "# verify the python version being used is from hockey_ai virtual environment\n",
    "!which python"
   ]
  },
  {
   "cell_type": "code",
   "execution_count": 100,
   "id": "3003df20",
   "metadata": {},
   "outputs": [],
   "source": [
    "import os  # OS library for interacting with the operating system\n",
    "import psutil  # psutil library for system monitoring\n",
    "\n",
    "import numpy as np  # NumPy library for numerical operations\n",
    "import pandas as pd # Pandas library for data manipulation\n",
    "import math  # Math library for mathematical functions\n",
    "\n",
    "from pytube import YouTube  # PyTube library for downloading YouTube videos\n",
    "import yt_dlp  # yt-dlp library for downloading videos from various platforms\n",
    "import cv2  # OpenCV library for computer vision tasks\n",
    "import mediapipe as mp  # MediaPipe library for machine learning solutions\n",
    "\n",
    "import matplotlib.pyplot as plt  # Matplotlib library for data visualization\n",
    "import seaborn as sns  # Seaborn library for data visualization\n"
   ]
  },
  {
   "cell_type": "markdown",
   "id": "d953ec9a-09f6-4bb8-97ec-ffd1ae1cdd8b",
   "metadata": {
    "jp-MarkdownHeadingCollapsed": true
   },
   "source": [
    "## **2: Functions** <a id=\"functions\"></a>"
   ]
  },
  {
   "cell_type": "markdown",
   "id": "97cdaab6",
   "metadata": {},
   "source": [
    "### **2.1 Utility Functions** <a id=\"utility\"></a>"
   ]
  },
  {
   "cell_type": "code",
   "execution_count": 101,
   "id": "a48aa039",
   "metadata": {},
   "outputs": [
    {
     "name": "stdout",
     "output_type": "stream",
     "text": [
      "NHL_Videos.ipynb: 315798 bytes\n",
      ".DS_Store: 6148 bytes\n"
     ]
    }
   ],
   "source": [
    "def print_list_of_files_by_size():\n",
    "    \"\"\"\n",
    "    Print the list of files in the current directory sorted by size in descending order\n",
    "    \"\"\"\n",
    "    files = []\n",
    "    for file in os.listdir():\n",
    "        files.append((file, os.path.getsize(file)))\n",
    "    files.sort(key=lambda x: x[1], reverse=True)\n",
    "    for file in files:\n",
    "        print(f\"{file[0]}: {file[1]} bytes\")\n",
    "\n",
    "print_list_of_files_by_size()  # Print the list of files in the current directory sorted by size"
   ]
  },
  {
   "cell_type": "code",
   "execution_count": 102,
   "id": "1417c1b8",
   "metadata": {},
   "outputs": [
    {
     "name": "stdout",
     "output_type": "stream",
     "text": [
      "Total memory: 16384.00 MB\n",
      "Used memory: 5014.36 MB\n",
      "Available memory: 3033.27 MB\n",
      "Memory usage percentage: 81.50%\n",
      "CPU usage percentage: 11.60%\n",
      "Number of CPU cores: 10\n",
      "Number of threads: 10\n",
      "Number of logical CPUs: 10\n",
      "CPU frequency: 4.00 MHz\n"
     ]
    }
   ],
   "source": [
    "# Function to print the memory usage of the current environment\n",
    "def print_memory_usage():\n",
    "    memory_info = psutil.virtual_memory()\n",
    "    print(f\"Total memory: {memory_info.total / (1024 ** 2):.2f} MB\")\n",
    "    print(f\"Used memory: {memory_info.used / (1024 ** 2):.2f} MB\")\n",
    "    print(f\"Available memory: {memory_info.available / (1024 ** 2):.2f} MB\")\n",
    "    print(f\"Memory usage percentage: {memory_info.percent:.2f}%\")\n",
    "    print(f\"CPU usage percentage: {psutil.cpu_percent(interval=1):.2f}%\")\n",
    "    print(f\"Number of CPU cores: {psutil.cpu_count()}\")\n",
    "    print(f\"Number of threads: {psutil.cpu_count(logical=False)}\")\n",
    "    print(f\"Number of logical CPUs: {psutil.cpu_count(logical=True)}\")\n",
    "    print(f\"CPU frequency: {psutil.cpu_freq().current:.2f} MHz\")\n",
    "\n",
    "print_memory_usage()  # Print the memory usage of the current environment\n",
    "    "
   ]
  },
  {
   "cell_type": "code",
   "execution_count": 103,
   "id": "cf2b837f",
   "metadata": {},
   "outputs": [],
   "source": [
    "def list_variables():\n",
    "    \"\"\"\n",
    "    Print a detailed list of all variables in the current namespace.\n",
    "    \"\"\"\n",
    "    get_ipython().magic('whos')"
   ]
  },
  {
   "cell_type": "code",
   "execution_count": 104,
   "id": "2aff0209",
   "metadata": {},
   "outputs": [],
   "source": [
    "def delete_variables(*args):\n",
    "    \"\"\"\n",
    "    Delete all variables or specific variables provided in arguments, and clear garbage.\n",
    "    \n",
    "    Parameters:\n",
    "    *args: List of variable names to delete. If no arguments are provided, all variables will be deleted.\n",
    "    \"\"\"\n",
    "    \n",
    "    ipython = get_ipython()\n",
    "    \n",
    "    if args:\n",
    "        for var in args:\n",
    "            if var in ipython.user_ns:\n",
    "                del ipython.user_ns[var]\n",
    "                print(f\"Deleted variable: {var}\")\n",
    "            else:\n",
    "                print(f\"Variable not found: {var}\")\n",
    "    else:\n",
    "        ipython.magic('reset -f')\n",
    "        print(\"Deleted all variables.\")\n",
    "    \n",
    "    gc.collect()\n",
    "    print(\"Garbage collection complete.\")"
   ]
  },
  {
   "cell_type": "code",
   "execution_count": 105,
   "id": "d8e9f993-fbae-45b5-9313-18a7757fabb0",
   "metadata": {},
   "outputs": [],
   "source": [
    "# function get a list of functions defined in notebook\n",
    "def printFunctions():\n",
    "    functions_list = [name for name, obj in globals().items() if callable(obj) and obj.__module__ == '__main__']\n",
    "    print(\"📌 Functions Defined in Notebook:\")\n",
    "    print(\"\\n\".join(functions_list))"
   ]
  },
  {
   "cell_type": "code",
   "execution_count": 106,
   "id": "d12ec0f5-b8a4-4e42-b1da-5f403489bfb3",
   "metadata": {},
   "outputs": [],
   "source": [
    "# Function to check dataset structure and print first 5 rows\n",
    "def checkDataset(df):\n",
    "    df.info()\n",
    "    df.head()"
   ]
  },
  {
   "cell_type": "code",
   "execution_count": 107,
   "id": "4f055cdf-6606-47df-8656-0fd04c5ec2e4",
   "metadata": {},
   "outputs": [],
   "source": [
    "#Function to print API response in a readable dictionary so we can investigate the structure\n",
    "def read_APIResponseStructure(url):\n",
    "    \n",
    "    # Fetch game data\n",
    "    response = requests.get(url)\n",
    "    data = response.json()\n",
    "\n",
    "    pp = pprint.PrettyPrinter(depth=4)  # Limits deep nesting\n",
    "    pp.pprint(data)"
   ]
  },
  {
   "cell_type": "code",
   "execution_count": 108,
   "id": "72456a6e-e7e8-405d-8a0e-20c3b4313bf5",
   "metadata": {},
   "outputs": [],
   "source": [
    "# Monitor DataFrame Memory Usage\n",
    "\n",
    "def show_memory_usage():\n",
    "    \"\"\"Displays memory usage of all DataFrames in global scope.\"\"\"\n",
    "    for var_name in list(globals()):\n",
    "        var_value = globals()[var_name]\n",
    "        if isinstance(var_value, (pd.DataFrame, pd.Series)):  # Check if it's a DataFrame\n",
    "            print(f\"{var_name}: {sys.getsizeof(var_value) / (1024 * 1024):.2f} MB\")\n",
    "\n",
    "show_memory_usage()  # Run this after loading data"
   ]
  },
  {
   "cell_type": "code",
   "execution_count": 109,
   "id": "475c7b8c-93e8-4149-8141-65c9c29eceb7",
   "metadata": {},
   "outputs": [],
   "source": [
    "# Delete Large DataFrames When No Longer Needed\n",
    "\n",
    "def delete_dataframe(df):\n",
    "    del df\n",
    "    gc.collect()  # Force garbage collection\n"
   ]
  },
  {
   "cell_type": "code",
   "execution_count": 110,
   "id": "3079b363-4558-4467-8dfc-aa600e0aa577",
   "metadata": {},
   "outputs": [],
   "source": [
    "# Optimize DataFrame Column Types (from 64->32 float or int vars)\n",
    "\n",
    "def optimize_dataframe(df):\n",
    "    \"\"\"Reduce memory usage by downcasting numerical columns.\"\"\"\n",
    "    for col in df.select_dtypes(include=['float64']):\n",
    "        df[col] = df[col].astype('float32')\n",
    "    for col in df.select_dtypes(include=['int64']):\n",
    "        df[col] = df[col].astype('int32')\n",
    "    return df\n"
   ]
  },
  {
   "cell_type": "code",
   "execution_count": 111,
   "id": "e685ebc8-d6cf-410c-8a91-f2188cddf9c1",
   "metadata": {},
   "outputs": [],
   "source": [
    "# remove hidden variables that are taking up memory\n",
    "\n",
    "def remove_hidden_variables():\n",
    "    %reset out -f\n"
   ]
  },
  {
   "cell_type": "markdown",
   "id": "77791453",
   "metadata": {},
   "source": [
    "### **2.2 Video Functions** <a id=\"video\"></a>"
   ]
  },
  {
   "cell_type": "code",
   "execution_count": 138,
   "id": "bf84894b",
   "metadata": {},
   "outputs": [
    {
     "name": "stdout",
     "output_type": "stream",
     "text": [
      "Processing video 1/2: https://www.youtube.com/watch?v=y0wIRVQDbJc\n",
      "Skipping download, video already exists: ../data/video_1.mp4\n",
      "Video Length: 11.64 seconds, Total Frames: 349, FPS: 29.97002997002997\n",
      "Skipping frame extraction for video_1, frames already exist in: ../data/frames_1.  Number of frames: 35\n"
     ]
    },
    {
     "name": "stderr",
     "output_type": "stream",
     "text": [
      "I0000 00:00:1741408432.536695 1354882 gl_context.cc:369] GL version: 2.1 (2.1 Metal - 89.3), renderer: Apple M4\n",
      "W0000 00:00:1741408432.602365 1454657 inference_feedback_manager.cc:114] Feedback manager requires a model with a single signature inference. Disabling support for feedback tensors.\n",
      "W0000 00:00:1741408432.616315 1454657 inference_feedback_manager.cc:114] Feedback manager requires a model with a single signature inference. Disabling support for feedback tensors.\n"
     ]
    },
    {
     "name": "stdout",
     "output_type": "stream",
     "text": [
      "Skipping pose landmarks for video_1, pose output already exists in: ../data/pose_output_1. Number of pose estimates: 25\n",
      "frame time: 0.03336666666666667\n"
     ]
    },
    {
     "name": "stderr",
     "output_type": "stream",
     "text": [
      "I0000 00:00:1741408433.285903 1354882 gl_context.cc:369] GL version: 2.1 (2.1 Metal - 89.3), renderer: Apple M4\n",
      "Context leak detected, msgtracer returned -1\n",
      "I0000 00:00:1741408433.292474 1354882 gl_context.cc:369] GL version: 2.1 (2.1 Metal - 89.3), renderer: Apple M4\n",
      "W0000 00:00:1741408433.336650 1454684 inference_feedback_manager.cc:114] Feedback manager requires a model with a single signature inference. Disabling support for feedback tensors.\n",
      "W0000 00:00:1741408433.342864 1454694 inference_feedback_manager.cc:114] Feedback manager requires a model with a single signature inference. Disabling support for feedback tensors.\n",
      "W0000 00:00:1741408433.345949 1454684 inference_feedback_manager.cc:114] Feedback manager requires a model with a single signature inference. Disabling support for feedback tensors.\n",
      "W0000 00:00:1741408433.352886 1454700 inference_feedback_manager.cc:114] Feedback manager requires a model with a single signature inference. Disabling support for feedback tensors.\n",
      "Context leak detected, msgtracer returned -1\n",
      "I0000 00:00:1741408433.359908 1354882 gl_context.cc:369] GL version: 2.1 (2.1 Metal - 89.3), renderer: Apple M4\n",
      "W0000 00:00:1741408433.411072 1454704 inference_feedback_manager.cc:114] Feedback manager requires a model with a single signature inference. Disabling support for feedback tensors.\n",
      "W0000 00:00:1741408433.418801 1454704 inference_feedback_manager.cc:114] Feedback manager requires a model with a single signature inference. Disabling support for feedback tensors.\n",
      "Context leak detected, msgtracer returned -1\n",
      "I0000 00:00:1741408433.429459 1354882 gl_context.cc:369] GL version: 2.1 (2.1 Metal - 89.3), renderer: Apple M4\n",
      "W0000 00:00:1741408433.478106 1454714 inference_feedback_manager.cc:114] Feedback manager requires a model with a single signature inference. Disabling support for feedback tensors.\n",
      "W0000 00:00:1741408433.486041 1454714 inference_feedback_manager.cc:114] Feedback manager requires a model with a single signature inference. Disabling support for feedback tensors.\n",
      "Context leak detected, msgtracer returned -1\n",
      "I0000 00:00:1741408433.495775 1354882 gl_context.cc:369] GL version: 2.1 (2.1 Metal - 89.3), renderer: Apple M4\n",
      "W0000 00:00:1741408433.545416 1454724 inference_feedback_manager.cc:114] Feedback manager requires a model with a single signature inference. Disabling support for feedback tensors.\n",
      "W0000 00:00:1741408433.553284 1454724 inference_feedback_manager.cc:114] Feedback manager requires a model with a single signature inference. Disabling support for feedback tensors.\n",
      "Context leak detected, msgtracer returned -1\n",
      "I0000 00:00:1741408433.560556 1354882 gl_context.cc:369] GL version: 2.1 (2.1 Metal - 89.3), renderer: Apple M4\n",
      "W0000 00:00:1741408433.606833 1454734 inference_feedback_manager.cc:114] Feedback manager requires a model with a single signature inference. Disabling support for feedback tensors.\n",
      "W0000 00:00:1741408433.613737 1454734 inference_feedback_manager.cc:114] Feedback manager requires a model with a single signature inference. Disabling support for feedback tensors.\n",
      "Context leak detected, msgtracer returned -1\n",
      "I0000 00:00:1741408433.619830 1354882 gl_context.cc:369] GL version: 2.1 (2.1 Metal - 89.3), renderer: Apple M4\n",
      "W0000 00:00:1741408433.664739 1454745 inference_feedback_manager.cc:114] Feedback manager requires a model with a single signature inference. Disabling support for feedback tensors.\n",
      "W0000 00:00:1741408433.671291 1454745 inference_feedback_manager.cc:114] Feedback manager requires a model with a single signature inference. Disabling support for feedback tensors.\n",
      "Context leak detected, msgtracer returned -1\n",
      "I0000 00:00:1741408433.678043 1354882 gl_context.cc:369] GL version: 2.1 (2.1 Metal - 89.3), renderer: Apple M4\n",
      "W0000 00:00:1741408433.728213 1454754 inference_feedback_manager.cc:114] Feedback manager requires a model with a single signature inference. Disabling support for feedback tensors.\n",
      "W0000 00:00:1741408433.736277 1454754 inference_feedback_manager.cc:114] Feedback manager requires a model with a single signature inference. Disabling support for feedback tensors.\n",
      "Context leak detected, msgtracer returned -1\n",
      "I0000 00:00:1741408433.743316 1354882 gl_context.cc:369] GL version: 2.1 (2.1 Metal - 89.3), renderer: Apple M4\n",
      "W0000 00:00:1741408433.792191 1454764 inference_feedback_manager.cc:114] Feedback manager requires a model with a single signature inference. Disabling support for feedback tensors.\n",
      "W0000 00:00:1741408433.798429 1454764 inference_feedback_manager.cc:114] Feedback manager requires a model with a single signature inference. Disabling support for feedback tensors.\n",
      "Context leak detected, msgtracer returned -1\n",
      "I0000 00:00:1741408433.805473 1354882 gl_context.cc:369] GL version: 2.1 (2.1 Metal - 89.3), renderer: Apple M4\n",
      "W0000 00:00:1741408433.851510 1454775 inference_feedback_manager.cc:114] Feedback manager requires a model with a single signature inference. Disabling support for feedback tensors.\n",
      "W0000 00:00:1741408433.859215 1454775 inference_feedback_manager.cc:114] Feedback manager requires a model with a single signature inference. Disabling support for feedback tensors.\n",
      "Context leak detected, msgtracer returned -1\n",
      "I0000 00:00:1741408433.867584 1354882 gl_context.cc:369] GL version: 2.1 (2.1 Metal - 89.3), renderer: Apple M4\n",
      "W0000 00:00:1741408433.918921 1454784 inference_feedback_manager.cc:114] Feedback manager requires a model with a single signature inference. Disabling support for feedback tensors.\n",
      "W0000 00:00:1741408433.926326 1454784 inference_feedback_manager.cc:114] Feedback manager requires a model with a single signature inference. Disabling support for feedback tensors.\n",
      "Context leak detected, msgtracer returned -1\n",
      "I0000 00:00:1741408433.934738 1354882 gl_context.cc:369] GL version: 2.1 (2.1 Metal - 89.3), renderer: Apple M4\n",
      "W0000 00:00:1741408433.981887 1454794 inference_feedback_manager.cc:114] Feedback manager requires a model with a single signature inference. Disabling support for feedback tensors.\n",
      "W0000 00:00:1741408433.988782 1454794 inference_feedback_manager.cc:114] Feedback manager requires a model with a single signature inference. Disabling support for feedback tensors.\n",
      "Context leak detected, msgtracer returned -1\n",
      "I0000 00:00:1741408433.994956 1354882 gl_context.cc:369] GL version: 2.1 (2.1 Metal - 89.3), renderer: Apple M4\n",
      "W0000 00:00:1741408434.040543 1454804 inference_feedback_manager.cc:114] Feedback manager requires a model with a single signature inference. Disabling support for feedback tensors.\n",
      "W0000 00:00:1741408434.047742 1454804 inference_feedback_manager.cc:114] Feedback manager requires a model with a single signature inference. Disabling support for feedback tensors.\n",
      "Context leak detected, msgtracer returned -1\n",
      "I0000 00:00:1741408434.054281 1354882 gl_context.cc:369] GL version: 2.1 (2.1 Metal - 89.3), renderer: Apple M4\n",
      "W0000 00:00:1741408434.101106 1454815 inference_feedback_manager.cc:114] Feedback manager requires a model with a single signature inference. Disabling support for feedback tensors.\n",
      "W0000 00:00:1741408434.107954 1454815 inference_feedback_manager.cc:114] Feedback manager requires a model with a single signature inference. Disabling support for feedback tensors.\n",
      "Context leak detected, msgtracer returned -1\n",
      "I0000 00:00:1741408434.114652 1354882 gl_context.cc:369] GL version: 2.1 (2.1 Metal - 89.3), renderer: Apple M4\n",
      "W0000 00:00:1741408434.162869 1454825 inference_feedback_manager.cc:114] Feedback manager requires a model with a single signature inference. Disabling support for feedback tensors.\n",
      "W0000 00:00:1741408434.170357 1454825 inference_feedback_manager.cc:114] Feedback manager requires a model with a single signature inference. Disabling support for feedback tensors.\n",
      "Context leak detected, msgtracer returned -1\n",
      "I0000 00:00:1741408434.177016 1354882 gl_context.cc:369] GL version: 2.1 (2.1 Metal - 89.3), renderer: Apple M4\n",
      "W0000 00:00:1741408434.223157 1454836 inference_feedback_manager.cc:114] Feedback manager requires a model with a single signature inference. Disabling support for feedback tensors.\n",
      "W0000 00:00:1741408434.230777 1454836 inference_feedback_manager.cc:114] Feedback manager requires a model with a single signature inference. Disabling support for feedback tensors.\n",
      "Context leak detected, msgtracer returned -1\n",
      "I0000 00:00:1741408434.237418 1354882 gl_context.cc:369] GL version: 2.1 (2.1 Metal - 89.3), renderer: Apple M4\n",
      "W0000 00:00:1741408434.284476 1454846 inference_feedback_manager.cc:114] Feedback manager requires a model with a single signature inference. Disabling support for feedback tensors.\n",
      "W0000 00:00:1741408434.291611 1454846 inference_feedback_manager.cc:114] Feedback manager requires a model with a single signature inference. Disabling support for feedback tensors.\n",
      "Context leak detected, msgtracer returned -1\n",
      "I0000 00:00:1741408434.298140 1354882 gl_context.cc:369] GL version: 2.1 (2.1 Metal - 89.3), renderer: Apple M4\n",
      "W0000 00:00:1741408434.345829 1454856 inference_feedback_manager.cc:114] Feedback manager requires a model with a single signature inference. Disabling support for feedback tensors.\n",
      "W0000 00:00:1741408434.353004 1454856 inference_feedback_manager.cc:114] Feedback manager requires a model with a single signature inference. Disabling support for feedback tensors.\n",
      "Context leak detected, msgtracer returned -1\n",
      "I0000 00:00:1741408434.359769 1354882 gl_context.cc:369] GL version: 2.1 (2.1 Metal - 89.3), renderer: Apple M4\n",
      "W0000 00:00:1741408434.407168 1454866 inference_feedback_manager.cc:114] Feedback manager requires a model with a single signature inference. Disabling support for feedback tensors.\n",
      "W0000 00:00:1741408434.415426 1454866 inference_feedback_manager.cc:114] Feedback manager requires a model with a single signature inference. Disabling support for feedback tensors.\n",
      "Context leak detected, msgtracer returned -1\n",
      "I0000 00:00:1741408434.422565 1354882 gl_context.cc:369] GL version: 2.1 (2.1 Metal - 89.3), renderer: Apple M4\n",
      "W0000 00:00:1741408434.472755 1454877 inference_feedback_manager.cc:114] Feedback manager requires a model with a single signature inference. Disabling support for feedback tensors.\n",
      "W0000 00:00:1741408434.481286 1454880 inference_feedback_manager.cc:114] Feedback manager requires a model with a single signature inference. Disabling support for feedback tensors.\n",
      "Context leak detected, msgtracer returned -1\n",
      "I0000 00:00:1741408434.488695 1354882 gl_context.cc:369] GL version: 2.1 (2.1 Metal - 89.3), renderer: Apple M4\n",
      "W0000 00:00:1741408434.539575 1454887 inference_feedback_manager.cc:114] Feedback manager requires a model with a single signature inference. Disabling support for feedback tensors.\n",
      "W0000 00:00:1741408434.547431 1454887 inference_feedback_manager.cc:114] Feedback manager requires a model with a single signature inference. Disabling support for feedback tensors.\n",
      "Context leak detected, msgtracer returned -1\n",
      "I0000 00:00:1741408434.554342 1354882 gl_context.cc:369] GL version: 2.1 (2.1 Metal - 89.3), renderer: Apple M4\n",
      "W0000 00:00:1741408434.605130 1454905 inference_feedback_manager.cc:114] Feedback manager requires a model with a single signature inference. Disabling support for feedback tensors.\n",
      "W0000 00:00:1741408434.613051 1454905 inference_feedback_manager.cc:114] Feedback manager requires a model with a single signature inference. Disabling support for feedback tensors.\n",
      "Context leak detected, msgtracer returned -1\n",
      "I0000 00:00:1741408434.619708 1354882 gl_context.cc:369] GL version: 2.1 (2.1 Metal - 89.3), renderer: Apple M4\n",
      "W0000 00:00:1741408434.666677 1454907 inference_feedback_manager.cc:114] Feedback manager requires a model with a single signature inference. Disabling support for feedback tensors.\n",
      "W0000 00:00:1741408434.672836 1454907 inference_feedback_manager.cc:114] Feedback manager requires a model with a single signature inference. Disabling support for feedback tensors.\n",
      "Context leak detected, msgtracer returned -1\n",
      "I0000 00:00:1741408434.679622 1354882 gl_context.cc:369] GL version: 2.1 (2.1 Metal - 89.3), renderer: Apple M4\n",
      "W0000 00:00:1741408434.728205 1454917 inference_feedback_manager.cc:114] Feedback manager requires a model with a single signature inference. Disabling support for feedback tensors.\n",
      "W0000 00:00:1741408434.736178 1454917 inference_feedback_manager.cc:114] Feedback manager requires a model with a single signature inference. Disabling support for feedback tensors.\n",
      "Context leak detected, msgtracer returned -1\n",
      "I0000 00:00:1741408434.743552 1354882 gl_context.cc:369] GL version: 2.1 (2.1 Metal - 89.3), renderer: Apple M4\n",
      "W0000 00:00:1741408434.791902 1454928 inference_feedback_manager.cc:114] Feedback manager requires a model with a single signature inference. Disabling support for feedback tensors.\n",
      "W0000 00:00:1741408434.799551 1454928 inference_feedback_manager.cc:114] Feedback manager requires a model with a single signature inference. Disabling support for feedback tensors.\n",
      "Context leak detected, msgtracer returned -1\n",
      "I0000 00:00:1741408434.806899 1354882 gl_context.cc:369] GL version: 2.1 (2.1 Metal - 89.3), renderer: Apple M4\n",
      "W0000 00:00:1741408434.855752 1454938 inference_feedback_manager.cc:114] Feedback manager requires a model with a single signature inference. Disabling support for feedback tensors.\n",
      "W0000 00:00:1741408434.862838 1454938 inference_feedback_manager.cc:114] Feedback manager requires a model with a single signature inference. Disabling support for feedback tensors.\n",
      "Context leak detected, msgtracer returned -1\n",
      "I0000 00:00:1741408434.869520 1354882 gl_context.cc:369] GL version: 2.1 (2.1 Metal - 89.3), renderer: Apple M4\n",
      "W0000 00:00:1741408434.917101 1454951 inference_feedback_manager.cc:114] Feedback manager requires a model with a single signature inference. Disabling support for feedback tensors.\n",
      "W0000 00:00:1741408434.923994 1454951 inference_feedback_manager.cc:114] Feedback manager requires a model with a single signature inference. Disabling support for feedback tensors.\n",
      "Context leak detected, msgtracer returned -1\n",
      "I0000 00:00:1741408434.931384 1354882 gl_context.cc:369] GL version: 2.1 (2.1 Metal - 89.3), renderer: Apple M4\n",
      "W0000 00:00:1741408434.979401 1454961 inference_feedback_manager.cc:114] Feedback manager requires a model with a single signature inference. Disabling support for feedback tensors.\n",
      "W0000 00:00:1741408434.987091 1454961 inference_feedback_manager.cc:114] Feedback manager requires a model with a single signature inference. Disabling support for feedback tensors.\n",
      "Context leak detected, msgtracer returned -1\n",
      "I0000 00:00:1741408434.993459 1354882 gl_context.cc:369] GL version: 2.1 (2.1 Metal - 89.3), renderer: Apple M4\n",
      "W0000 00:00:1741408435.042715 1454971 inference_feedback_manager.cc:114] Feedback manager requires a model with a single signature inference. Disabling support for feedback tensors.\n",
      "W0000 00:00:1741408435.050870 1454971 inference_feedback_manager.cc:114] Feedback manager requires a model with a single signature inference. Disabling support for feedback tensors.\n",
      "Context leak detected, msgtracer returned -1\n",
      "I0000 00:00:1741408435.058999 1354882 gl_context.cc:369] GL version: 2.1 (2.1 Metal - 89.3), renderer: Apple M4\n",
      "W0000 00:00:1741408435.108917 1454989 inference_feedback_manager.cc:114] Feedback manager requires a model with a single signature inference. Disabling support for feedback tensors.\n",
      "W0000 00:00:1741408435.116448 1454989 inference_feedback_manager.cc:114] Feedback manager requires a model with a single signature inference. Disabling support for feedback tensors.\n",
      "Context leak detected, msgtracer returned -1\n",
      "I0000 00:00:1741408435.123067 1354882 gl_context.cc:369] GL version: 2.1 (2.1 Metal - 89.3), renderer: Apple M4\n",
      "W0000 00:00:1741408435.169270 1454991 inference_feedback_manager.cc:114] Feedback manager requires a model with a single signature inference. Disabling support for feedback tensors.\n",
      "W0000 00:00:1741408435.177229 1454991 inference_feedback_manager.cc:114] Feedback manager requires a model with a single signature inference. Disabling support for feedback tensors.\n",
      "Context leak detected, msgtracer returned -1\n",
      "I0000 00:00:1741408435.184121 1354882 gl_context.cc:369] GL version: 2.1 (2.1 Metal - 89.3), renderer: Apple M4\n",
      "W0000 00:00:1741408435.230927 1455009 inference_feedback_manager.cc:114] Feedback manager requires a model with a single signature inference. Disabling support for feedback tensors.\n",
      "W0000 00:00:1741408435.237991 1455009 inference_feedback_manager.cc:114] Feedback manager requires a model with a single signature inference. Disabling support for feedback tensors.\n",
      "Context leak detected, msgtracer returned -1\n",
      "I0000 00:00:1741408435.244489 1354882 gl_context.cc:369] GL version: 2.1 (2.1 Metal - 89.3), renderer: Apple M4\n",
      "W0000 00:00:1741408435.294503 1455012 inference_feedback_manager.cc:114] Feedback manager requires a model with a single signature inference. Disabling support for feedback tensors.\n",
      "W0000 00:00:1741408435.302198 1455012 inference_feedback_manager.cc:114] Feedback manager requires a model with a single signature inference. Disabling support for feedback tensors.\n",
      "Context leak detected, msgtracer returned -1\n",
      "I0000 00:00:1741408435.309031 1354882 gl_context.cc:369] GL version: 2.1 (2.1 Metal - 89.3), renderer: Apple M4\n",
      "W0000 00:00:1741408435.356382 1455022 inference_feedback_manager.cc:114] Feedback manager requires a model with a single signature inference. Disabling support for feedback tensors.\n",
      "W0000 00:00:1741408435.363111 1455022 inference_feedback_manager.cc:114] Feedback manager requires a model with a single signature inference. Disabling support for feedback tensors.\n",
      "Context leak detected, msgtracer returned -1\n",
      "I0000 00:00:1741408435.369420 1354882 gl_context.cc:369] GL version: 2.1 (2.1 Metal - 89.3), renderer: Apple M4\n",
      "W0000 00:00:1741408435.416843 1455032 inference_feedback_manager.cc:114] Feedback manager requires a model with a single signature inference. Disabling support for feedback tensors.\n",
      "W0000 00:00:1741408435.423721 1455032 inference_feedback_manager.cc:114] Feedback manager requires a model with a single signature inference. Disabling support for feedback tensors.\n",
      "Context leak detected, msgtracer returned -1\n",
      "I0000 00:00:1741408435.430920 1354882 gl_context.cc:369] GL version: 2.1 (2.1 Metal - 89.3), renderer: Apple M4\n",
      "W0000 00:00:1741408435.478362 1455042 inference_feedback_manager.cc:114] Feedback manager requires a model with a single signature inference. Disabling support for feedback tensors.\n",
      "W0000 00:00:1741408435.485321 1455042 inference_feedback_manager.cc:114] Feedback manager requires a model with a single signature inference. Disabling support for feedback tensors.\n",
      "Context leak detected, msgtracer returned -1\n",
      "I0000 00:00:1741408435.492416 1354882 gl_context.cc:369] GL version: 2.1 (2.1 Metal - 89.3), renderer: Apple M4\n",
      "W0000 00:00:1741408435.539235 1455059 inference_feedback_manager.cc:114] Feedback manager requires a model with a single signature inference. Disabling support for feedback tensors.\n",
      "W0000 00:00:1741408435.546515 1455059 inference_feedback_manager.cc:114] Feedback manager requires a model with a single signature inference. Disabling support for feedback tensors.\n",
      "Context leak detected, msgtracer returned -1\n",
      "I0000 00:00:1741408435.553239 1354882 gl_context.cc:369] GL version: 2.1 (2.1 Metal - 89.3), renderer: Apple M4\n",
      "W0000 00:00:1741408435.601952 1455067 inference_feedback_manager.cc:114] Feedback manager requires a model with a single signature inference. Disabling support for feedback tensors.\n",
      "W0000 00:00:1741408435.609303 1455072 inference_feedback_manager.cc:114] Feedback manager requires a model with a single signature inference. Disabling support for feedback tensors.\n",
      "Context leak detected, msgtracer returned -1\n",
      "I0000 00:00:1741408435.617405 1354882 gl_context.cc:369] GL version: 2.1 (2.1 Metal - 89.3), renderer: Apple M4\n",
      "W0000 00:00:1741408435.663569 1455073 inference_feedback_manager.cc:114] Feedback manager requires a model with a single signature inference. Disabling support for feedback tensors.\n",
      "W0000 00:00:1741408435.670762 1455077 inference_feedback_manager.cc:114] Feedback manager requires a model with a single signature inference. Disabling support for feedback tensors.\n",
      "Context leak detected, msgtracer returned -1\n",
      "I0000 00:00:1741408435.676763 1354882 gl_context.cc:369] GL version: 2.1 (2.1 Metal - 89.3), renderer: Apple M4\n",
      "W0000 00:00:1741408435.723602 1455083 inference_feedback_manager.cc:114] Feedback manager requires a model with a single signature inference. Disabling support for feedback tensors.\n",
      "W0000 00:00:1741408435.730783 1455083 inference_feedback_manager.cc:114] Feedback manager requires a model with a single signature inference. Disabling support for feedback tensors.\n",
      "Context leak detected, msgtracer returned -1\n",
      "I0000 00:00:1741408435.737290 1354882 gl_context.cc:369] GL version: 2.1 (2.1 Metal - 89.3), renderer: Apple M4\n",
      "W0000 00:00:1741408435.784759 1455094 inference_feedback_manager.cc:114] Feedback manager requires a model with a single signature inference. Disabling support for feedback tensors.\n",
      "W0000 00:00:1741408435.792680 1455094 inference_feedback_manager.cc:114] Feedback manager requires a model with a single signature inference. Disabling support for feedback tensors.\n",
      "Context leak detected, msgtracer returned -1\n",
      "I0000 00:00:1741408435.800770 1354882 gl_context.cc:369] GL version: 2.1 (2.1 Metal - 89.3), renderer: Apple M4\n",
      "W0000 00:00:1741408435.847657 1455104 inference_feedback_manager.cc:114] Feedback manager requires a model with a single signature inference. Disabling support for feedback tensors.\n",
      "W0000 00:00:1741408435.854828 1455104 inference_feedback_manager.cc:114] Feedback manager requires a model with a single signature inference. Disabling support for feedback tensors.\n",
      "Context leak detected, msgtracer returned -1\n",
      "I0000 00:00:1741408435.861366 1354882 gl_context.cc:369] GL version: 2.1 (2.1 Metal - 89.3), renderer: Apple M4\n",
      "W0000 00:00:1741408435.906924 1455120 inference_feedback_manager.cc:114] Feedback manager requires a model with a single signature inference. Disabling support for feedback tensors.\n",
      "W0000 00:00:1741408435.914509 1455120 inference_feedback_manager.cc:114] Feedback manager requires a model with a single signature inference. Disabling support for feedback tensors.\n",
      "Context leak detected, msgtracer returned -1\n",
      "I0000 00:00:1741408435.920714 1354882 gl_context.cc:369] GL version: 2.1 (2.1 Metal - 89.3), renderer: Apple M4\n",
      "W0000 00:00:1741408435.966015 1455125 inference_feedback_manager.cc:114] Feedback manager requires a model with a single signature inference. Disabling support for feedback tensors.\n",
      "W0000 00:00:1741408435.973617 1455131 inference_feedback_manager.cc:114] Feedback manager requires a model with a single signature inference. Disabling support for feedback tensors.\n",
      "Context leak detected, msgtracer returned -1\n",
      "I0000 00:00:1741408435.980361 1354882 gl_context.cc:369] GL version: 2.1 (2.1 Metal - 89.3), renderer: Apple M4\n",
      "W0000 00:00:1741408436.028015 1455135 inference_feedback_manager.cc:114] Feedback manager requires a model with a single signature inference. Disabling support for feedback tensors.\n",
      "W0000 00:00:1741408436.036429 1455135 inference_feedback_manager.cc:114] Feedback manager requires a model with a single signature inference. Disabling support for feedback tensors.\n",
      "Context leak detected, msgtracer returned -1\n",
      "I0000 00:00:1741408436.043263 1354882 gl_context.cc:369] GL version: 2.1 (2.1 Metal - 89.3), renderer: Apple M4\n",
      "W0000 00:00:1741408436.092230 1455160 inference_feedback_manager.cc:114] Feedback manager requires a model with a single signature inference. Disabling support for feedback tensors.\n",
      "W0000 00:00:1741408436.099155 1455160 inference_feedback_manager.cc:114] Feedback manager requires a model with a single signature inference. Disabling support for feedback tensors.\n",
      "Context leak detected, msgtracer returned -1\n",
      "I0000 00:00:1741408436.106430 1354882 gl_context.cc:369] GL version: 2.1 (2.1 Metal - 89.3), renderer: Apple M4\n",
      "W0000 00:00:1741408436.152976 1455170 inference_feedback_manager.cc:114] Feedback manager requires a model with a single signature inference. Disabling support for feedback tensors.\n",
      "W0000 00:00:1741408436.161125 1455170 inference_feedback_manager.cc:114] Feedback manager requires a model with a single signature inference. Disabling support for feedback tensors.\n",
      "Context leak detected, msgtracer returned -1\n",
      "I0000 00:00:1741408436.167782 1354882 gl_context.cc:369] GL version: 2.1 (2.1 Metal - 89.3), renderer: Apple M4\n",
      "W0000 00:00:1741408436.215849 1455180 inference_feedback_manager.cc:114] Feedback manager requires a model with a single signature inference. Disabling support for feedback tensors.\n",
      "W0000 00:00:1741408436.223732 1455180 inference_feedback_manager.cc:114] Feedback manager requires a model with a single signature inference. Disabling support for feedback tensors.\n",
      "Context leak detected, msgtracer returned -1\n",
      "I0000 00:00:1741408436.231111 1354882 gl_context.cc:369] GL version: 2.1 (2.1 Metal - 89.3), renderer: Apple M4\n",
      "W0000 00:00:1741408436.277658 1455190 inference_feedback_manager.cc:114] Feedback manager requires a model with a single signature inference. Disabling support for feedback tensors.\n",
      "W0000 00:00:1741408436.284944 1455190 inference_feedback_manager.cc:114] Feedback manager requires a model with a single signature inference. Disabling support for feedback tensors.\n",
      "Context leak detected, msgtracer returned -1\n",
      "I0000 00:00:1741408436.292207 1354882 gl_context.cc:369] GL version: 2.1 (2.1 Metal - 89.3), renderer: Apple M4\n",
      "W0000 00:00:1741408436.339554 1455200 inference_feedback_manager.cc:114] Feedback manager requires a model with a single signature inference. Disabling support for feedback tensors.\n",
      "W0000 00:00:1741408436.347511 1455200 inference_feedback_manager.cc:114] Feedback manager requires a model with a single signature inference. Disabling support for feedback tensors.\n",
      "Context leak detected, msgtracer returned -1\n",
      "I0000 00:00:1741408436.354479 1354882 gl_context.cc:369] GL version: 2.1 (2.1 Metal - 89.3), renderer: Apple M4\n",
      "W0000 00:00:1741408436.403534 1455210 inference_feedback_manager.cc:114] Feedback manager requires a model with a single signature inference. Disabling support for feedback tensors.\n",
      "W0000 00:00:1741408436.410910 1455210 inference_feedback_manager.cc:114] Feedback manager requires a model with a single signature inference. Disabling support for feedback tensors.\n",
      "I0000 00:00:1741408436.425640 1354882 gl_context.cc:369] GL version: 2.1 (2.1 Metal - 89.3), renderer: Apple M4\n",
      "W0000 00:00:1741408436.474629 1455232 inference_feedback_manager.cc:114] Feedback manager requires a model with a single signature inference. Disabling support for feedback tensors.\n",
      "W0000 00:00:1741408436.483634 1455232 inference_feedback_manager.cc:114] Feedback manager requires a model with a single signature inference. Disabling support for feedback tensors.\n"
     ]
    },
    {
     "name": "stdout",
     "output_type": "stream",
     "text": [
      "printing columns in function... Index(['frame', 'acceleration', 'velocity'], dtype='object')\n",
      "Metrics calculated for video 1/2\n",
      "Metrics combined for video 1/2.  Total metrics: 25\n",
      "Processing complete for video 1/2\n",
      "Processing video 2/2: https://www.youtube.com/watch?v=7jOCmk17dsc\n",
      "Skipping download, video already exists: ../data/video_2.mp4\n",
      "Video Length: 14.43 seconds, Total Frames: 346, FPS: 23.976023976023978\n",
      "Skipping frame extraction for video_2, frames already exist in: ../data/frames_2.  Number of frames: 35\n",
      "Skipping pose landmarks for video_2, pose output already exists in: ../data/pose_output_2. Number of pose estimates: 33\n",
      "frame time: 0.04170833333333333\n"
     ]
    },
    {
     "name": "stderr",
     "output_type": "stream",
     "text": [
      "Context leak detected, msgtracer returned -1\n",
      "I0000 00:00:1741408437.203461 1354882 gl_context.cc:369] GL version: 2.1 (2.1 Metal - 89.3), renderer: Apple M4\n",
      "I0000 00:00:1741408437.208742 1354882 gl_context.cc:369] GL version: 2.1 (2.1 Metal - 89.3), renderer: Apple M4\n",
      "W0000 00:00:1741408437.253697 1455244 inference_feedback_manager.cc:114] Feedback manager requires a model with a single signature inference. Disabling support for feedback tensors.\n",
      "W0000 00:00:1741408437.259193 1455253 inference_feedback_manager.cc:114] Feedback manager requires a model with a single signature inference. Disabling support for feedback tensors.\n",
      "W0000 00:00:1741408437.266210 1455249 inference_feedback_manager.cc:114] Feedback manager requires a model with a single signature inference. Disabling support for feedback tensors.\n",
      "W0000 00:00:1741408437.269235 1455256 inference_feedback_manager.cc:114] Feedback manager requires a model with a single signature inference. Disabling support for feedback tensors.\n",
      "I0000 00:00:1741408437.277485 1354882 gl_context.cc:369] GL version: 2.1 (2.1 Metal - 89.3), renderer: Apple M4\n",
      "W0000 00:00:1741408437.328483 1455264 inference_feedback_manager.cc:114] Feedback manager requires a model with a single signature inference. Disabling support for feedback tensors.\n",
      "W0000 00:00:1741408437.337852 1455272 inference_feedback_manager.cc:114] Feedback manager requires a model with a single signature inference. Disabling support for feedback tensors.\n",
      "I0000 00:00:1741408437.344773 1354882 gl_context.cc:369] GL version: 2.1 (2.1 Metal - 89.3), renderer: Apple M4\n",
      "W0000 00:00:1741408437.394338 1455275 inference_feedback_manager.cc:114] Feedback manager requires a model with a single signature inference. Disabling support for feedback tensors.\n",
      "W0000 00:00:1741408437.403149 1455280 inference_feedback_manager.cc:114] Feedback manager requires a model with a single signature inference. Disabling support for feedback tensors.\n",
      "I0000 00:00:1741408437.410354 1354882 gl_context.cc:369] GL version: 2.1 (2.1 Metal - 89.3), renderer: Apple M4\n",
      "W0000 00:00:1741408437.461282 1455284 inference_feedback_manager.cc:114] Feedback manager requires a model with a single signature inference. Disabling support for feedback tensors.\n",
      "W0000 00:00:1741408437.469533 1455284 inference_feedback_manager.cc:114] Feedback manager requires a model with a single signature inference. Disabling support for feedback tensors.\n",
      "I0000 00:00:1741408437.477212 1354882 gl_context.cc:369] GL version: 2.1 (2.1 Metal - 89.3), renderer: Apple M4\n",
      "W0000 00:00:1741408437.529118 1455294 inference_feedback_manager.cc:114] Feedback manager requires a model with a single signature inference. Disabling support for feedback tensors.\n",
      "W0000 00:00:1741408437.537791 1455294 inference_feedback_manager.cc:114] Feedback manager requires a model with a single signature inference. Disabling support for feedback tensors.\n",
      "I0000 00:00:1741408437.545137 1354882 gl_context.cc:369] GL version: 2.1 (2.1 Metal - 89.3), renderer: Apple M4\n",
      "W0000 00:00:1741408437.598429 1455308 inference_feedback_manager.cc:114] Feedback manager requires a model with a single signature inference. Disabling support for feedback tensors.\n",
      "W0000 00:00:1741408437.606747 1455308 inference_feedback_manager.cc:114] Feedback manager requires a model with a single signature inference. Disabling support for feedback tensors.\n",
      "I0000 00:00:1741408437.613741 1354882 gl_context.cc:369] GL version: 2.1 (2.1 Metal - 89.3), renderer: Apple M4\n",
      "W0000 00:00:1741408437.662157 1455314 inference_feedback_manager.cc:114] Feedback manager requires a model with a single signature inference. Disabling support for feedback tensors.\n",
      "W0000 00:00:1741408437.670573 1455314 inference_feedback_manager.cc:114] Feedback manager requires a model with a single signature inference. Disabling support for feedback tensors.\n",
      "I0000 00:00:1741408437.677561 1354882 gl_context.cc:369] GL version: 2.1 (2.1 Metal - 89.3), renderer: Apple M4\n",
      "W0000 00:00:1741408437.728944 1455324 inference_feedback_manager.cc:114] Feedback manager requires a model with a single signature inference. Disabling support for feedback tensors.\n",
      "W0000 00:00:1741408437.737178 1455324 inference_feedback_manager.cc:114] Feedback manager requires a model with a single signature inference. Disabling support for feedback tensors.\n",
      "I0000 00:00:1741408437.744350 1354882 gl_context.cc:369] GL version: 2.1 (2.1 Metal - 89.3), renderer: Apple M4\n",
      "W0000 00:00:1741408437.791635 1455335 inference_feedback_manager.cc:114] Feedback manager requires a model with a single signature inference. Disabling support for feedback tensors.\n",
      "W0000 00:00:1741408437.798761 1455335 inference_feedback_manager.cc:114] Feedback manager requires a model with a single signature inference. Disabling support for feedback tensors.\n",
      "I0000 00:00:1741408437.805772 1354882 gl_context.cc:369] GL version: 2.1 (2.1 Metal - 89.3), renderer: Apple M4\n",
      "W0000 00:00:1741408437.855442 1455344 inference_feedback_manager.cc:114] Feedback manager requires a model with a single signature inference. Disabling support for feedback tensors.\n",
      "W0000 00:00:1741408437.861814 1455344 inference_feedback_manager.cc:114] Feedback manager requires a model with a single signature inference. Disabling support for feedback tensors.\n",
      "I0000 00:00:1741408437.868762 1354882 gl_context.cc:369] GL version: 2.1 (2.1 Metal - 89.3), renderer: Apple M4\n",
      "W0000 00:00:1741408437.917497 1455354 inference_feedback_manager.cc:114] Feedback manager requires a model with a single signature inference. Disabling support for feedback tensors.\n",
      "W0000 00:00:1741408437.924969 1455354 inference_feedback_manager.cc:114] Feedback manager requires a model with a single signature inference. Disabling support for feedback tensors.\n",
      "I0000 00:00:1741408437.934120 1354882 gl_context.cc:369] GL version: 2.1 (2.1 Metal - 89.3), renderer: Apple M4\n",
      "W0000 00:00:1741408437.985869 1455364 inference_feedback_manager.cc:114] Feedback manager requires a model with a single signature inference. Disabling support for feedback tensors.\n",
      "W0000 00:00:1741408437.994155 1455364 inference_feedback_manager.cc:114] Feedback manager requires a model with a single signature inference. Disabling support for feedback tensors.\n",
      "I0000 00:00:1741408438.004926 1354882 gl_context.cc:369] GL version: 2.1 (2.1 Metal - 89.3), renderer: Apple M4\n",
      "W0000 00:00:1741408438.056124 1455376 inference_feedback_manager.cc:114] Feedback manager requires a model with a single signature inference. Disabling support for feedback tensors.\n",
      "W0000 00:00:1741408438.063592 1455376 inference_feedback_manager.cc:114] Feedback manager requires a model with a single signature inference. Disabling support for feedback tensors.\n",
      "I0000 00:00:1741408438.069869 1354882 gl_context.cc:369] GL version: 2.1 (2.1 Metal - 89.3), renderer: Apple M4\n",
      "W0000 00:00:1741408438.116163 1455386 inference_feedback_manager.cc:114] Feedback manager requires a model with a single signature inference. Disabling support for feedback tensors.\n",
      "W0000 00:00:1741408438.123494 1455386 inference_feedback_manager.cc:114] Feedback manager requires a model with a single signature inference. Disabling support for feedback tensors.\n",
      "I0000 00:00:1741408438.130802 1354882 gl_context.cc:369] GL version: 2.1 (2.1 Metal - 89.3), renderer: Apple M4\n",
      "W0000 00:00:1741408438.180345 1455395 inference_feedback_manager.cc:114] Feedback manager requires a model with a single signature inference. Disabling support for feedback tensors.\n",
      "W0000 00:00:1741408438.188045 1455395 inference_feedback_manager.cc:114] Feedback manager requires a model with a single signature inference. Disabling support for feedback tensors.\n",
      "I0000 00:00:1741408438.194486 1354882 gl_context.cc:369] GL version: 2.1 (2.1 Metal - 89.3), renderer: Apple M4\n",
      "W0000 00:00:1741408438.242242 1455405 inference_feedback_manager.cc:114] Feedback manager requires a model with a single signature inference. Disabling support for feedback tensors.\n",
      "W0000 00:00:1741408438.249128 1455405 inference_feedback_manager.cc:114] Feedback manager requires a model with a single signature inference. Disabling support for feedback tensors.\n",
      "I0000 00:00:1741408438.256031 1354882 gl_context.cc:369] GL version: 2.1 (2.1 Metal - 89.3), renderer: Apple M4\n",
      "W0000 00:00:1741408438.303529 1455415 inference_feedback_manager.cc:114] Feedback manager requires a model with a single signature inference. Disabling support for feedback tensors.\n",
      "W0000 00:00:1741408438.310843 1455415 inference_feedback_manager.cc:114] Feedback manager requires a model with a single signature inference. Disabling support for feedback tensors.\n",
      "I0000 00:00:1741408438.317557 1354882 gl_context.cc:369] GL version: 2.1 (2.1 Metal - 89.3), renderer: Apple M4\n",
      "W0000 00:00:1741408438.369265 1455425 inference_feedback_manager.cc:114] Feedback manager requires a model with a single signature inference. Disabling support for feedback tensors.\n",
      "W0000 00:00:1741408438.376522 1455425 inference_feedback_manager.cc:114] Feedback manager requires a model with a single signature inference. Disabling support for feedback tensors.\n",
      "I0000 00:00:1741408438.383987 1354882 gl_context.cc:369] GL version: 2.1 (2.1 Metal - 89.3), renderer: Apple M4\n",
      "W0000 00:00:1741408438.433190 1455435 inference_feedback_manager.cc:114] Feedback manager requires a model with a single signature inference. Disabling support for feedback tensors.\n",
      "W0000 00:00:1741408438.440104 1455435 inference_feedback_manager.cc:114] Feedback manager requires a model with a single signature inference. Disabling support for feedback tensors.\n",
      "I0000 00:00:1741408438.446896 1354882 gl_context.cc:369] GL version: 2.1 (2.1 Metal - 89.3), renderer: Apple M4\n",
      "W0000 00:00:1741408438.495457 1455445 inference_feedback_manager.cc:114] Feedback manager requires a model with a single signature inference. Disabling support for feedback tensors.\n",
      "W0000 00:00:1741408438.502694 1455445 inference_feedback_manager.cc:114] Feedback manager requires a model with a single signature inference. Disabling support for feedback tensors.\n",
      "I0000 00:00:1741408438.509566 1354882 gl_context.cc:369] GL version: 2.1 (2.1 Metal - 89.3), renderer: Apple M4\n",
      "W0000 00:00:1741408438.556666 1455455 inference_feedback_manager.cc:114] Feedback manager requires a model with a single signature inference. Disabling support for feedback tensors.\n",
      "W0000 00:00:1741408438.563974 1455455 inference_feedback_manager.cc:114] Feedback manager requires a model with a single signature inference. Disabling support for feedback tensors.\n",
      "I0000 00:00:1741408438.569874 1354882 gl_context.cc:369] GL version: 2.1 (2.1 Metal - 89.3), renderer: Apple M4\n",
      "W0000 00:00:1741408438.619061 1455469 inference_feedback_manager.cc:114] Feedback manager requires a model with a single signature inference. Disabling support for feedback tensors.\n",
      "W0000 00:00:1741408438.626133 1455469 inference_feedback_manager.cc:114] Feedback manager requires a model with a single signature inference. Disabling support for feedback tensors.\n",
      "I0000 00:00:1741408438.633868 1354882 gl_context.cc:369] GL version: 2.1 (2.1 Metal - 89.3), renderer: Apple M4\n",
      "W0000 00:00:1741408438.684083 1455475 inference_feedback_manager.cc:114] Feedback manager requires a model with a single signature inference. Disabling support for feedback tensors.\n",
      "W0000 00:00:1741408438.691276 1455481 inference_feedback_manager.cc:114] Feedback manager requires a model with a single signature inference. Disabling support for feedback tensors.\n",
      "I0000 00:00:1741408438.697698 1354882 gl_context.cc:369] GL version: 2.1 (2.1 Metal - 89.3), renderer: Apple M4\n",
      "W0000 00:00:1741408438.747209 1455486 inference_feedback_manager.cc:114] Feedback manager requires a model with a single signature inference. Disabling support for feedback tensors.\n",
      "W0000 00:00:1741408438.754681 1455486 inference_feedback_manager.cc:114] Feedback manager requires a model with a single signature inference. Disabling support for feedback tensors.\n",
      "I0000 00:00:1741408438.761147 1354882 gl_context.cc:369] GL version: 2.1 (2.1 Metal - 89.3), renderer: Apple M4\n",
      "W0000 00:00:1741408438.811112 1455496 inference_feedback_manager.cc:114] Feedback manager requires a model with a single signature inference. Disabling support for feedback tensors.\n",
      "W0000 00:00:1741408438.818222 1455496 inference_feedback_manager.cc:114] Feedback manager requires a model with a single signature inference. Disabling support for feedback tensors.\n",
      "I0000 00:00:1741408438.825450 1354882 gl_context.cc:369] GL version: 2.1 (2.1 Metal - 89.3), renderer: Apple M4\n",
      "W0000 00:00:1741408438.876458 1455506 inference_feedback_manager.cc:114] Feedback manager requires a model with a single signature inference. Disabling support for feedback tensors.\n",
      "W0000 00:00:1741408438.884127 1455507 inference_feedback_manager.cc:114] Feedback manager requires a model with a single signature inference. Disabling support for feedback tensors.\n",
      "I0000 00:00:1741408438.892163 1354882 gl_context.cc:369] GL version: 2.1 (2.1 Metal - 89.3), renderer: Apple M4\n",
      "W0000 00:00:1741408438.939525 1455516 inference_feedback_manager.cc:114] Feedback manager requires a model with a single signature inference. Disabling support for feedback tensors.\n",
      "W0000 00:00:1741408438.947004 1455516 inference_feedback_manager.cc:114] Feedback manager requires a model with a single signature inference. Disabling support for feedback tensors.\n",
      "I0000 00:00:1741408438.953163 1354882 gl_context.cc:369] GL version: 2.1 (2.1 Metal - 89.3), renderer: Apple M4\n",
      "W0000 00:00:1741408439.000239 1455527 inference_feedback_manager.cc:114] Feedback manager requires a model with a single signature inference. Disabling support for feedback tensors.\n",
      "W0000 00:00:1741408439.007727 1455527 inference_feedback_manager.cc:114] Feedback manager requires a model with a single signature inference. Disabling support for feedback tensors.\n",
      "I0000 00:00:1741408439.015020 1354882 gl_context.cc:369] GL version: 2.1 (2.1 Metal - 89.3), renderer: Apple M4\n",
      "W0000 00:00:1741408439.063092 1455543 inference_feedback_manager.cc:114] Feedback manager requires a model with a single signature inference. Disabling support for feedback tensors.\n",
      "W0000 00:00:1741408439.069658 1455543 inference_feedback_manager.cc:114] Feedback manager requires a model with a single signature inference. Disabling support for feedback tensors.\n",
      "I0000 00:00:1741408439.076206 1354882 gl_context.cc:369] GL version: 2.1 (2.1 Metal - 89.3), renderer: Apple M4\n",
      "W0000 00:00:1741408439.125568 1455552 inference_feedback_manager.cc:114] Feedback manager requires a model with a single signature inference. Disabling support for feedback tensors.\n",
      "W0000 00:00:1741408439.133260 1455552 inference_feedback_manager.cc:114] Feedback manager requires a model with a single signature inference. Disabling support for feedback tensors.\n",
      "I0000 00:00:1741408439.139863 1354882 gl_context.cc:369] GL version: 2.1 (2.1 Metal - 89.3), renderer: Apple M4\n",
      "W0000 00:00:1741408439.187153 1455562 inference_feedback_manager.cc:114] Feedback manager requires a model with a single signature inference. Disabling support for feedback tensors.\n",
      "W0000 00:00:1741408439.194343 1455562 inference_feedback_manager.cc:114] Feedback manager requires a model with a single signature inference. Disabling support for feedback tensors.\n",
      "I0000 00:00:1741408439.201182 1354882 gl_context.cc:369] GL version: 2.1 (2.1 Metal - 89.3), renderer: Apple M4\n",
      "W0000 00:00:1741408439.252335 1455572 inference_feedback_manager.cc:114] Feedback manager requires a model with a single signature inference. Disabling support for feedback tensors.\n",
      "W0000 00:00:1741408439.260075 1455580 inference_feedback_manager.cc:114] Feedback manager requires a model with a single signature inference. Disabling support for feedback tensors.\n",
      "I0000 00:00:1741408439.267629 1354882 gl_context.cc:369] GL version: 2.1 (2.1 Metal - 89.3), renderer: Apple M4\n",
      "W0000 00:00:1741408439.316600 1455582 inference_feedback_manager.cc:114] Feedback manager requires a model with a single signature inference. Disabling support for feedback tensors.\n",
      "W0000 00:00:1741408439.323183 1455590 inference_feedback_manager.cc:114] Feedback manager requires a model with a single signature inference. Disabling support for feedback tensors.\n",
      "I0000 00:00:1741408439.330041 1354882 gl_context.cc:369] GL version: 2.1 (2.1 Metal - 89.3), renderer: Apple M4\n",
      "W0000 00:00:1741408439.380287 1455592 inference_feedback_manager.cc:114] Feedback manager requires a model with a single signature inference. Disabling support for feedback tensors.\n",
      "W0000 00:00:1741408439.387817 1455592 inference_feedback_manager.cc:114] Feedback manager requires a model with a single signature inference. Disabling support for feedback tensors.\n",
      "I0000 00:00:1741408439.393992 1354882 gl_context.cc:369] GL version: 2.1 (2.1 Metal - 89.3), renderer: Apple M4\n",
      "W0000 00:00:1741408439.441543 1455602 inference_feedback_manager.cc:114] Feedback manager requires a model with a single signature inference. Disabling support for feedback tensors.\n",
      "W0000 00:00:1741408439.448349 1455602 inference_feedback_manager.cc:114] Feedback manager requires a model with a single signature inference. Disabling support for feedback tensors.\n",
      "I0000 00:00:1741408439.455825 1354882 gl_context.cc:369] GL version: 2.1 (2.1 Metal - 89.3), renderer: Apple M4\n",
      "W0000 00:00:1741408439.505348 1455612 inference_feedback_manager.cc:114] Feedback manager requires a model with a single signature inference. Disabling support for feedback tensors.\n",
      "W0000 00:00:1741408439.512826 1455612 inference_feedback_manager.cc:114] Feedback manager requires a model with a single signature inference. Disabling support for feedback tensors.\n",
      "I0000 00:00:1741408439.520487 1354882 gl_context.cc:369] GL version: 2.1 (2.1 Metal - 89.3), renderer: Apple M4\n",
      "W0000 00:00:1741408439.570806 1455622 inference_feedback_manager.cc:114] Feedback manager requires a model with a single signature inference. Disabling support for feedback tensors.\n",
      "W0000 00:00:1741408439.578621 1455622 inference_feedback_manager.cc:114] Feedback manager requires a model with a single signature inference. Disabling support for feedback tensors.\n",
      "I0000 00:00:1741408439.585354 1354882 gl_context.cc:369] GL version: 2.1 (2.1 Metal - 89.3), renderer: Apple M4\n",
      "W0000 00:00:1741408439.633139 1455632 inference_feedback_manager.cc:114] Feedback manager requires a model with a single signature inference. Disabling support for feedback tensors.\n",
      "W0000 00:00:1741408439.640161 1455632 inference_feedback_manager.cc:114] Feedback manager requires a model with a single signature inference. Disabling support for feedback tensors.\n",
      "I0000 00:00:1741408439.646585 1354882 gl_context.cc:369] GL version: 2.1 (2.1 Metal - 89.3), renderer: Apple M4\n",
      "W0000 00:00:1741408439.695417 1455642 inference_feedback_manager.cc:114] Feedback manager requires a model with a single signature inference. Disabling support for feedback tensors.\n",
      "W0000 00:00:1741408439.702522 1455646 inference_feedback_manager.cc:114] Feedback manager requires a model with a single signature inference. Disabling support for feedback tensors.\n",
      "I0000 00:00:1741408439.709486 1354882 gl_context.cc:369] GL version: 2.1 (2.1 Metal - 89.3), renderer: Apple M4\n",
      "W0000 00:00:1741408439.760196 1455652 inference_feedback_manager.cc:114] Feedback manager requires a model with a single signature inference. Disabling support for feedback tensors.\n",
      "W0000 00:00:1741408439.767390 1455652 inference_feedback_manager.cc:114] Feedback manager requires a model with a single signature inference. Disabling support for feedback tensors.\n",
      "I0000 00:00:1741408439.776539 1354882 gl_context.cc:369] GL version: 2.1 (2.1 Metal - 89.3), renderer: Apple M4\n",
      "W0000 00:00:1741408439.825047 1455663 inference_feedback_manager.cc:114] Feedback manager requires a model with a single signature inference. Disabling support for feedback tensors.\n",
      "W0000 00:00:1741408439.831748 1455663 inference_feedback_manager.cc:114] Feedback manager requires a model with a single signature inference. Disabling support for feedback tensors.\n",
      "I0000 00:00:1741408439.838505 1354882 gl_context.cc:369] GL version: 2.1 (2.1 Metal - 89.3), renderer: Apple M4\n",
      "W0000 00:00:1741408439.885687 1455673 inference_feedback_manager.cc:114] Feedback manager requires a model with a single signature inference. Disabling support for feedback tensors.\n",
      "W0000 00:00:1741408439.893390 1455681 inference_feedback_manager.cc:114] Feedback manager requires a model with a single signature inference. Disabling support for feedback tensors.\n",
      "I0000 00:00:1741408439.900426 1354882 gl_context.cc:369] GL version: 2.1 (2.1 Metal - 89.3), renderer: Apple M4\n",
      "W0000 00:00:1741408439.952204 1455683 inference_feedback_manager.cc:114] Feedback manager requires a model with a single signature inference. Disabling support for feedback tensors.\n",
      "W0000 00:00:1741408439.959537 1455690 inference_feedback_manager.cc:114] Feedback manager requires a model with a single signature inference. Disabling support for feedback tensors.\n",
      "I0000 00:00:1741408439.968086 1354882 gl_context.cc:369] GL version: 2.1 (2.1 Metal - 89.3), renderer: Apple M4\n",
      "W0000 00:00:1741408440.016780 1455700 inference_feedback_manager.cc:114] Feedback manager requires a model with a single signature inference. Disabling support for feedback tensors.\n",
      "W0000 00:00:1741408440.024435 1455700 inference_feedback_manager.cc:114] Feedback manager requires a model with a single signature inference. Disabling support for feedback tensors.\n",
      "I0000 00:00:1741408440.031350 1354882 gl_context.cc:369] GL version: 2.1 (2.1 Metal - 89.3), renderer: Apple M4\n",
      "W0000 00:00:1741408440.080396 1455713 inference_feedback_manager.cc:114] Feedback manager requires a model with a single signature inference. Disabling support for feedback tensors.\n",
      "W0000 00:00:1741408440.087528 1455713 inference_feedback_manager.cc:114] Feedback manager requires a model with a single signature inference. Disabling support for feedback tensors.\n",
      "I0000 00:00:1741408440.093574 1354882 gl_context.cc:369] GL version: 2.1 (2.1 Metal - 89.3), renderer: Apple M4\n",
      "W0000 00:00:1741408440.147103 1455723 inference_feedback_manager.cc:114] Feedback manager requires a model with a single signature inference. Disabling support for feedback tensors.\n",
      "W0000 00:00:1741408440.154590 1455723 inference_feedback_manager.cc:114] Feedback manager requires a model with a single signature inference. Disabling support for feedback tensors.\n",
      "I0000 00:00:1741408440.160617 1354882 gl_context.cc:369] GL version: 2.1 (2.1 Metal - 89.3), renderer: Apple M4\n",
      "W0000 00:00:1741408440.208917 1455733 inference_feedback_manager.cc:114] Feedback manager requires a model with a single signature inference. Disabling support for feedback tensors.\n",
      "W0000 00:00:1741408440.216196 1455733 inference_feedback_manager.cc:114] Feedback manager requires a model with a single signature inference. Disabling support for feedback tensors.\n",
      "I0000 00:00:1741408440.223104 1354882 gl_context.cc:369] GL version: 2.1 (2.1 Metal - 89.3), renderer: Apple M4\n",
      "W0000 00:00:1741408440.268984 1455744 inference_feedback_manager.cc:114] Feedback manager requires a model with a single signature inference. Disabling support for feedback tensors.\n",
      "W0000 00:00:1741408440.275971 1455744 inference_feedback_manager.cc:114] Feedback manager requires a model with a single signature inference. Disabling support for feedback tensors.\n",
      "I0000 00:00:1741408440.284091 1354882 gl_context.cc:369] GL version: 2.1 (2.1 Metal - 89.3), renderer: Apple M4\n",
      "W0000 00:00:1741408440.331537 1455753 inference_feedback_manager.cc:114] Feedback manager requires a model with a single signature inference. Disabling support for feedback tensors.\n",
      "W0000 00:00:1741408440.339140 1455753 inference_feedback_manager.cc:114] Feedback manager requires a model with a single signature inference. Disabling support for feedback tensors.\n",
      "I0000 00:00:1741408440.345063 1354882 gl_context.cc:369] GL version: 2.1 (2.1 Metal - 89.3), renderer: Apple M4\n",
      "W0000 00:00:1741408440.392673 1455764 inference_feedback_manager.cc:114] Feedback manager requires a model with a single signature inference. Disabling support for feedback tensors.\n",
      "W0000 00:00:1741408440.400618 1455765 inference_feedback_manager.cc:114] Feedback manager requires a model with a single signature inference. Disabling support for feedback tensors.\n",
      "I0000 00:00:1741408440.406965 1354882 gl_context.cc:369] GL version: 2.1 (2.1 Metal - 89.3), renderer: Apple M4\n",
      "W0000 00:00:1741408440.454005 1455778 inference_feedback_manager.cc:114] Feedback manager requires a model with a single signature inference. Disabling support for feedback tensors.\n",
      "W0000 00:00:1741408440.461525 1455777 inference_feedback_manager.cc:114] Feedback manager requires a model with a single signature inference. Disabling support for feedback tensors.\n",
      "I0000 00:00:1741408440.468401 1354882 gl_context.cc:369] GL version: 2.1 (2.1 Metal - 89.3), renderer: Apple M4\n",
      "W0000 00:00:1741408440.517159 1455791 inference_feedback_manager.cc:114] Feedback manager requires a model with a single signature inference. Disabling support for feedback tensors.\n",
      "W0000 00:00:1741408440.523983 1455793 inference_feedback_manager.cc:114] Feedback manager requires a model with a single signature inference. Disabling support for feedback tensors.\n",
      "I0000 00:00:1741408440.530827 1354882 gl_context.cc:369] GL version: 2.1 (2.1 Metal - 89.3), renderer: Apple M4\n",
      "W0000 00:00:1741408440.578516 1455799 inference_feedback_manager.cc:114] Feedback manager requires a model with a single signature inference. Disabling support for feedback tensors.\n",
      "W0000 00:00:1741408440.586275 1455799 inference_feedback_manager.cc:114] Feedback manager requires a model with a single signature inference. Disabling support for feedback tensors.\n",
      "I0000 00:00:1741408440.592837 1354882 gl_context.cc:369] GL version: 2.1 (2.1 Metal - 89.3), renderer: Apple M4\n",
      "W0000 00:00:1741408440.642698 1455808 inference_feedback_manager.cc:114] Feedback manager requires a model with a single signature inference. Disabling support for feedback tensors.\n",
      "W0000 00:00:1741408440.650204 1455808 inference_feedback_manager.cc:114] Feedback manager requires a model with a single signature inference. Disabling support for feedback tensors.\n",
      "I0000 00:00:1741408440.656951 1354882 gl_context.cc:369] GL version: 2.1 (2.1 Metal - 89.3), renderer: Apple M4\n",
      "W0000 00:00:1741408440.705979 1455819 inference_feedback_manager.cc:114] Feedback manager requires a model with a single signature inference. Disabling support for feedback tensors.\n",
      "W0000 00:00:1741408440.712770 1455819 inference_feedback_manager.cc:114] Feedback manager requires a model with a single signature inference. Disabling support for feedback tensors.\n",
      "I0000 00:00:1741408440.719443 1354882 gl_context.cc:369] GL version: 2.1 (2.1 Metal - 89.3), renderer: Apple M4\n",
      "W0000 00:00:1741408440.768465 1455828 inference_feedback_manager.cc:114] Feedback manager requires a model with a single signature inference. Disabling support for feedback tensors.\n",
      "W0000 00:00:1741408440.776147 1455828 inference_feedback_manager.cc:114] Feedback manager requires a model with a single signature inference. Disabling support for feedback tensors.\n",
      "I0000 00:00:1741408440.784589 1354882 gl_context.cc:369] GL version: 2.1 (2.1 Metal - 89.3), renderer: Apple M4\n",
      "W0000 00:00:1741408440.832621 1455839 inference_feedback_manager.cc:114] Feedback manager requires a model with a single signature inference. Disabling support for feedback tensors.\n",
      "W0000 00:00:1741408440.839370 1455839 inference_feedback_manager.cc:114] Feedback manager requires a model with a single signature inference. Disabling support for feedback tensors.\n",
      "I0000 00:00:1741408440.846820 1354882 gl_context.cc:369] GL version: 2.1 (2.1 Metal - 89.3), renderer: Apple M4\n",
      "W0000 00:00:1741408440.896325 1455848 inference_feedback_manager.cc:114] Feedback manager requires a model with a single signature inference. Disabling support for feedback tensors.\n",
      "W0000 00:00:1741408440.902915 1455848 inference_feedback_manager.cc:114] Feedback manager requires a model with a single signature inference. Disabling support for feedback tensors.\n",
      "I0000 00:00:1741408440.909446 1354882 gl_context.cc:369] GL version: 2.1 (2.1 Metal - 89.3), renderer: Apple M4\n",
      "W0000 00:00:1741408440.956723 1455858 inference_feedback_manager.cc:114] Feedback manager requires a model with a single signature inference. Disabling support for feedback tensors.\n",
      "W0000 00:00:1741408440.963617 1455858 inference_feedback_manager.cc:114] Feedback manager requires a model with a single signature inference. Disabling support for feedback tensors.\n",
      "I0000 00:00:1741408440.969650 1354882 gl_context.cc:369] GL version: 2.1 (2.1 Metal - 89.3), renderer: Apple M4\n",
      "W0000 00:00:1741408441.022187 1455868 inference_feedback_manager.cc:114] Feedback manager requires a model with a single signature inference. Disabling support for feedback tensors.\n",
      "W0000 00:00:1741408441.029219 1455868 inference_feedback_manager.cc:114] Feedback manager requires a model with a single signature inference. Disabling support for feedback tensors.\n",
      "I0000 00:00:1741408441.035137 1354882 gl_context.cc:369] GL version: 2.1 (2.1 Metal - 89.3), renderer: Apple M4\n",
      "W0000 00:00:1741408441.085514 1455878 inference_feedback_manager.cc:114] Feedback manager requires a model with a single signature inference. Disabling support for feedback tensors.\n",
      "W0000 00:00:1741408441.093230 1455878 inference_feedback_manager.cc:114] Feedback manager requires a model with a single signature inference. Disabling support for feedback tensors.\n",
      "I0000 00:00:1741408441.100643 1354882 gl_context.cc:369] GL version: 2.1 (2.1 Metal - 89.3), renderer: Apple M4\n",
      "W0000 00:00:1741408441.149373 1455908 inference_feedback_manager.cc:114] Feedback manager requires a model with a single signature inference. Disabling support for feedback tensors.\n",
      "W0000 00:00:1741408441.156429 1455908 inference_feedback_manager.cc:114] Feedback manager requires a model with a single signature inference. Disabling support for feedback tensors.\n",
      "I0000 00:00:1741408441.163267 1354882 gl_context.cc:369] GL version: 2.1 (2.1 Metal - 89.3), renderer: Apple M4\n",
      "W0000 00:00:1741408441.210190 1455918 inference_feedback_manager.cc:114] Feedback manager requires a model with a single signature inference. Disabling support for feedback tensors.\n",
      "W0000 00:00:1741408441.217719 1455918 inference_feedback_manager.cc:114] Feedback manager requires a model with a single signature inference. Disabling support for feedback tensors.\n",
      "I0000 00:00:1741408441.225828 1354882 gl_context.cc:369] GL version: 2.1 (2.1 Metal - 89.3), renderer: Apple M4\n",
      "W0000 00:00:1741408441.272761 1455929 inference_feedback_manager.cc:114] Feedback manager requires a model with a single signature inference. Disabling support for feedback tensors.\n",
      "W0000 00:00:1741408441.279440 1455929 inference_feedback_manager.cc:114] Feedback manager requires a model with a single signature inference. Disabling support for feedback tensors.\n",
      "I0000 00:00:1741408441.286277 1354882 gl_context.cc:369] GL version: 2.1 (2.1 Metal - 89.3), renderer: Apple M4\n",
      "W0000 00:00:1741408441.334714 1455939 inference_feedback_manager.cc:114] Feedback manager requires a model with a single signature inference. Disabling support for feedback tensors.\n",
      "W0000 00:00:1741408441.342586 1455939 inference_feedback_manager.cc:114] Feedback manager requires a model with a single signature inference. Disabling support for feedback tensors.\n",
      "I0000 00:00:1741408441.350560 1354882 gl_context.cc:369] GL version: 2.1 (2.1 Metal - 89.3), renderer: Apple M4\n",
      "W0000 00:00:1741408441.400522 1455950 inference_feedback_manager.cc:114] Feedback manager requires a model with a single signature inference. Disabling support for feedback tensors.\n",
      "W0000 00:00:1741408441.408106 1455950 inference_feedback_manager.cc:114] Feedback manager requires a model with a single signature inference. Disabling support for feedback tensors.\n"
     ]
    },
    {
     "name": "stdout",
     "output_type": "stream",
     "text": [
      "printing columns in function... Index(['frame', 'acceleration', 'velocity'], dtype='object')\n",
      "Metrics calculated for video 2/2\n",
      "Metrics combined for video 2/2.  Total metrics: 58\n",
      "Processing complete for video 2/2\n",
      "Metrics saved to ../data/metrics_output.csv\n",
      "Combined Metrics:\n",
      "           frame  acceleration  velocity\n",
      "0   frame_70.jpg      0.000000       0.0\n",
      "1  frame_200.jpg      0.000000       0.0\n",
      "2  frame_210.jpg   -167.183765       0.0\n",
      "3   frame_60.jpg    167.968712       0.0\n",
      "4  frame_300.jpg    -44.706934       0.0\n"
     ]
    },
    {
     "data": {
      "image/png": "[encoded data removed]",
      "text/plain": [
       "<Figure size 500x500 with 2 Axes>"
      ]
     },
     "metadata": {},
     "output_type": "display_data"
    }
   ],
   "source": [
    "def process_videos(url_list, output_dir, frame_interval, metrics, csv_output_path):\n",
    "    \"\"\"\n",
    "    Process a list of YouTube video URLs: download, extract frames, get pose landmarks, and calculate metrics.\n",
    "\n",
    "    Parameters:\n",
    "    url_list (list): List of YouTube video URLs.\n",
    "    output_dir (str): Directory to save downloaded videos and frames.\n",
    "    frame_interval (int): Interval of frames to save (e.g., save every k-th frame).\n",
    "    metrics (list): List of metrics to calculate.\n",
    "    csv_output_path (str): Path to save the calculated metrics CSV file.\n",
    "    \"\"\"\n",
    "    for i, youtube_url in enumerate(url_list):\n",
    "        try:\n",
    "            print(f\"Processing video {i+1}/{len(url_list)}: {youtube_url}\")\n",
    "\n",
    "            # Step 1: Download the video if it doesn't already exist\n",
    "            video_output_path = os.path.join(output_dir, f\"video_{i+1}.mp4\")\n",
    "            if not os.path.exists(video_output_path):\n",
    "                download_video(youtube_url, video_output_path)\n",
    "                print(f\"Video downloaded to: {video_output_path}\")\n",
    "            else:\n",
    "                print(f\"Skipping download, video already exists: {video_output_path}\")\n",
    "            \n",
    "            # Step 2: Retrieve and print video properties\n",
    "            duration, total_frames, fps = get_video_properties(video_output_path)\n",
    "            print(f\"Video Length: {duration:.2f} seconds, Total Frames: {total_frames}, FPS: {fps}\")\n",
    "            \n",
    "            # Step 3: Extract and save frames if the folder doesn't already exist\n",
    "            frame_folder_path = os.path.join(output_dir, f\"frames_{i+1}\")\n",
    "            if not os.path.exists(frame_folder_path) or not os.listdir(frame_folder_path):\n",
    "                extract_and_save_frames(video_output_path, frame_folder_path, frame_interval)\n",
    "                print(f\"Frames for video_{i+1} saved to: {frame_folder_path}. Number of frames: {len(os.listdir(frame_folder_path))}\")\n",
    "            else:\n",
    "                print(f\"Skipping frame extraction for video_{i+1}, frames already exist in: {frame_folder_path}.  Number of frames: {len(os.listdir(frame_folder_path))}\")\n",
    "            \n",
    "            # Step 4: Get and draw pose landmarks if the folder doesn't already exist\n",
    "            pose_folder_path = os.path.join(output_dir, f\"pose_output_{i+1}\")\n",
    "            pose_estimates = get_pose_landmarks(frame_folder_path)\n",
    "            if not os.path.exists(pose_folder_path) or not os.listdir(pose_folder_path):\n",
    "                draw_pose_landmarks(pose_estimates, frame_folder_path, pose_folder_path)\n",
    "                print(f\"Pose landmarks for video_{i+1} saved to: {pose_folder_path}.  Number of pose estimates: {len(pose_estimates)}\")\n",
    "            else:\n",
    "                print(f\"Skipping pose landmarks for video_{i+1}, pose output already exists in: {pose_folder_path}. Number of pose estimates: {len(pose_estimates)}\")\n",
    "\n",
    "            # Step 5: Calculate pose metrics and save to CSV\n",
    "            frame_time = 1 / fps\n",
    "            print(f\"frame time: {frame_time}\")\n",
    "            df_metrics = calculate_metrics(pose_estimates, frame_time, metrics)\n",
    "            print(f\"Metrics calculated for video {i+1}/{len(url_list)}\")\n",
    "            \n",
    "            # Step 6: Combine metrics from all videos\n",
    "            if i == 0:\n",
    "                df_combined = df_metrics\n",
    "            else:\n",
    "                df_combined = pd.concat([df_combined, df_metrics], ignore_index=True)\n",
    "            print(f\"Metrics combined for video {i+1}/{len(url_list)}.  Total metrics: {len(df_combined)}\")\n",
    "\n",
    "            # Step 7: Print completion message\n",
    "            print(f\"Processing complete for video {i+1}/{len(url_list)}\")\n",
    "            \n",
    "\n",
    "        except Exception as e:\n",
    "            print(f\"An error occurred while processing video {i+1}/{len(url_list)}: {e}\")\n",
    "\n",
    "    # Save the combined metrics to a CSV file\n",
    "    df_combined.to_csv(csv_output_path, index=False)\n",
    "    print(f\"Metrics saved to {csv_output_path}\")\n",
    "\n",
    "    # Display the first few rows of the combined metrics DataFrame\n",
    "    print(\"Combined Metrics:\")\n",
    "    print(df_combined.head())\n",
    "    \n",
    "    # Plot the metrics for visualization\n",
    "    plot_skating_metrics(df_combined, metrics)\n",
    "\n",
    "\n",
    "# Example usage\n",
    "url_list = [\n",
    "    \"https://www.youtube.com/watch?v=y0wIRVQDbJc\",\n",
    "    \"https://www.youtube.com/watch?v=7jOCmk17dsc\",\n",
    "]\n",
    "output_dir = \"../data\"\n",
    "frame_interval = 10\n",
    "metrics = [\"velocity\", \"acceleration\"]  # corrected \"glive_efficiency\" to \"glide_efficiency\"\n",
    "csv_output_path = \"../data/metrics_output.csv\"\n",
    "process_videos(url_list, output_dir, frame_interval, metrics, csv_output_path)\n"
   ]
  },
  {
   "cell_type": "code",
   "execution_count": 113,
   "id": "46240559",
   "metadata": {},
   "outputs": [],
   "source": [
    "def download_video(youtube_url, output_path):\n",
    "    \"\"\"\n",
    "    Download a video from YouTube using yt-dlp.\n",
    "\n",
    "    Parameters:\n",
    "    youtube_url (str): URL of the YouTube video to download.\n",
    "    output_path (str): Path to save the downloaded video.\n",
    "    \"\"\"\n",
    "    # Define options for yt-dlp\n",
    "    ydl_opts = {\n",
    "        \"format\": \"bestvideo+bestaudio/best\",  # Download the best video and audio quality available\n",
    "        \"merge_output_format\": \"mp4\",  # Ensure video and audio are merged into an MP4 file\n",
    "        \"outtmpl\": output_path,  # Set the output file path\n",
    "        \"ffmpeg_location\": \"/opt/homebrew/bin/ffmpeg\"  # Specify the location of the ffmpeg executable\n",
    "    }\n",
    "\n",
    "    try:\n",
    "        # Create a YoutubeDL object with the specified options\n",
    "        with yt_dlp.YoutubeDL(ydl_opts) as ydl:\n",
    "            # Download the video from the provided URL\n",
    "            ydl.download([youtube_url])\n",
    "        print(\"Video downloaded successfully!\")\n",
    "    except Exception as e:\n",
    "        # Print an error message if an exception occurs\n",
    "        print(f\"An error occurred: {e}\")\n"
   ]
  },
  {
   "cell_type": "code",
   "execution_count": 114,
   "id": "ef8f9925",
   "metadata": {},
   "outputs": [],
   "source": [
    "def get_video_properties(video_path):\n",
    "    \"\"\"\n",
    "    Get the video length, total number of frames, and frames per second (FPS).\n",
    "\n",
    "    Parameters:\n",
    "    video_path (str): Path to the video file.\n",
    "\n",
    "    Returns:\n",
    "    tuple: A tuple containing video length (float), total number of frames (int), and frames per second (float).\n",
    "    \"\"\"\n",
    "    # Open the video file using OpenCV (cv2) library\n",
    "    cap = cv2.VideoCapture(video_path)\n",
    "\n",
    "    # Get video properties\n",
    "    fps = cap.get(cv2.CAP_PROP_FPS)  # Frames per second\n",
    "    frame_count_total = int(cap.get(cv2.CAP_PROP_FRAME_COUNT))  # Total number of frames\n",
    "    duration = frame_count_total / fps  # Duration in seconds\n",
    "\n",
    "    return duration, frame_count_total, fps\n"
   ]
  },
  {
   "cell_type": "code",
   "execution_count": 115,
   "id": "27fbe864",
   "metadata": {},
   "outputs": [],
   "source": [
    "def extract_and_save_frames(video_path, frame_folder_path, k):\n",
    "    \"\"\"\n",
    "    Extract and save every k-th frame from a video.\n",
    "\n",
    "    Parameters:\n",
    "    video_path (str): Path to the video file.\n",
    "    frame_folder_path (str): Path to the folder where frames will be saved.\n",
    "    k (int): Interval of frames to save (e.g., save every k-th frame).\n",
    "    \"\"\"\n",
    "    # Create folder for video frames if it doesn't exist\n",
    "    os.makedirs(frame_folder_path, exist_ok=True)\n",
    "\n",
    "    # Open the video file using OpenCV (cv2) library\n",
    "    cap = cv2.VideoCapture(video_path)\n",
    "    frame_count = 0  # Initialize frame count\n",
    "\n",
    "    while cap.isOpened():  # Loop until the video is opened\n",
    "        ret, frame = cap.read()  # Read a frame from the video\n",
    "        if not ret:  # If no frame is returned, break the loop\n",
    "            break\n",
    "\n",
    "        # Save every k-th frame\n",
    "        if frame_count % k == 0:  # Check if the frame count is a multiple of k\n",
    "            frame_filename = f\"{frame_folder_path}/frame_{frame_count}.jpg\"  # Create a filename for the frame\n",
    "            if not os.path.exists(frame_filename):  # Check if the frame file already exists\n",
    "                cv2.imwrite(frame_filename, frame)  # Save the frame as an image\n",
    "            else:\n",
    "                print(f\"Skipping {frame_filename}, already exists.\")\n",
    "\n",
    "        frame_count += 1  # Increment the frame count\n",
    "\n",
    "    cap.release()  # Release the video capture object\n",
    "    print(\"Frames extracted successfully!\")  # Print success message\n",
    "\n"
   ]
  },
  {
   "cell_type": "code",
   "execution_count": 116,
   "id": "af32d750",
   "metadata": {},
   "outputs": [],
   "source": [
    "def get_pose_landmarks(frame_folder_path):\n",
    "    \"\"\"\n",
    "    Return an array of pose landmarks for each frame.\n",
    "\n",
    "    Parameters:\n",
    "    frame_folder_path (str): Path to the folder containing video frames.\n",
    "\n",
    "    Returns:\n",
    "    list: A list of tuples containing frame name and pose landmarks.\n",
    "    \"\"\"\n",
    "    # Initialize MediaPipe Pose solution\n",
    "    mp_pose = mp.solutions.pose\n",
    "    pose = mp_pose.Pose(static_image_mode=True, min_detection_confidence=0.5)\n",
    "    \n",
    "    # Define valid image extensions\n",
    "    VALID_EXTENSIONS = ('.jpg', '.jpeg', '.png', '.bmp', '.tiff', '.webp')\n",
    "\n",
    "    # List to store pose estimates\n",
    "    pose_estimates = []\n",
    "\n",
    "    # Iterate over each frame in the folder\n",
    "    for frame_name in os.listdir(frame_folder_path):\n",
    "        frame_path = os.path.join(frame_folder_path, frame_name)\n",
    "        \n",
    "        # Skip files that do not have valid image extensions\n",
    "        if not frame_name.lower().endswith(VALID_EXTENSIONS):\n",
    "            continue\n",
    "\n",
    "        # Read the frame image\n",
    "        frame = cv2.imread(frame_path)\n",
    "        if frame is None:\n",
    "            continue\n",
    "\n",
    "        # Convert the image from BGR to RGB\n",
    "        rgb_frame = cv2.cvtColor(frame, cv2.COLOR_BGR2RGB)\n",
    "        \n",
    "        # Process the image to get pose landmarks\n",
    "        results = pose.process(rgb_frame)\n",
    "        \n",
    "        # If pose landmarks are detected, append them to the list\n",
    "        if results.pose_landmarks:\n",
    "            pose_estimates.append((frame_name, results.pose_landmarks))\n",
    "\n",
    "    return pose_estimates"
   ]
  },
  {
   "cell_type": "code",
   "execution_count": 117,
   "id": "5faab16c",
   "metadata": {},
   "outputs": [],
   "source": [
    "def draw_pose_landmarks(pose_estimates, frame_folder_path, pose_folder_path):\n",
    "    \"\"\"\n",
    "    Create drawings of pose landmarks on each frame and store images in a new folder.\n",
    "\n",
    "    Parameters:\n",
    "    pose_estimates (list): A list of tuples containing frame name and pose landmarks.\n",
    "    frame_folder_path (str): Path to the folder containing video frames.\n",
    "    pose_folder_path (str): Path to the folder to save frames with pose landmarks.\n",
    "    \"\"\"\n",
    "    mp_drawing = mp.solutions.drawing_utils  # MediaPipe drawing utilities for drawing landmarks\n",
    "    os.makedirs(pose_folder_path, exist_ok=True)  # Create the output folder if it doesn't exist\n",
    "\n",
    "    for frame_name, pose_landmarks in pose_estimates:\n",
    "        frame_path = os.path.join(frame_folder_path, frame_name)  # Path to the original frame\n",
    "        output_path = os.path.join(pose_folder_path, frame_name.replace(\".jpg\", \"_landmark.jpg\"))  # Path to save the frame with landmarks\n",
    "        \n",
    "        if os.path.exists(output_path):  # Skip processing if the output file already exists\n",
    "            print(f\"Skipping {output_path}, already exists.\")\n",
    "            continue\n",
    "\n",
    "        frame = cv2.imread(frame_path)  # Read the frame image\n",
    "        if frame is None:  # Skip if the frame could not be read\n",
    "            continue\n",
    "\n",
    "        mp_drawing.draw_landmarks(frame, pose_landmarks, mp.solutions.pose.POSE_CONNECTIONS)  # Draw pose landmarks on the frame\n",
    "        cv2.imwrite(output_path, frame)  # Save the frame with landmarks to the output path\n"
   ]
  },
  {
   "cell_type": "code",
   "execution_count": 118,
   "id": "26f8506c",
   "metadata": {},
   "outputs": [],
   "source": [
    "def count_frames_with_landmarks(pose_estimates):\n",
    "    \"\"\"\n",
    "    Return the number of frames with pose landmarks.\n",
    "\n",
    "    Parameters:\n",
    "    pose_estimates (list): A list of tuples containing frame name and pose landmarks.\n",
    "\n",
    "    Returns:\n",
    "    int: The number of frames with pose landmarks.\n",
    "    \"\"\"\n",
    "    return len(pose_estimates)"
   ]
  },
  {
   "cell_type": "code",
   "execution_count": 119,
   "id": "3b33e604",
   "metadata": {},
   "outputs": [
    {
     "name": "stdout",
     "output_type": "stream",
     "text": [
      "The angle between points a, b, and c is 90.00 degrees.\n"
     ]
    }
   ],
   "source": [
    "# analyze skating metrics - measure knee bend angle\n",
    "\n",
    "def calculate_angle(a, b, c):\n",
    "    \"\"\"\n",
    "    Calculate angle between three points (a, b, c).\n",
    "    a, b, c are tuples of (x, y) coordinates.\n",
    "    \"\"\"\n",
    "    # Vector from point a to point b\n",
    "    ab = np.array([a[0] - b[0], a[1] - b[1]])\n",
    "    # Vector from point c to point b\n",
    "    bc = np.array([c[0] - b[0], c[1] - b[1]])\n",
    "\n",
    "    # Calculate the cosine of the angle using dot product and magnitudes of vectors\n",
    "    cosine_angle = np.dot(ab, bc) / (np.linalg.norm(ab) * np.linalg.norm(bc))\n",
    "    # Calculate the angle in degrees\n",
    "    angle = np.degrees(np.arccos(cosine_angle))\n",
    "    return angle\n",
    "\n",
    "# Example usage:\n",
    "# Define points a, b, and c as tuples of (x, y) coordinates\n",
    "a = (0.5, 0.5)\n",
    "b = (0.5, 0.6)\n",
    "c = (0.6, 0.6)\n",
    "\n",
    "# Calculate the angle between points a, b, and c\n",
    "angle = calculate_angle(a, b, c)\n",
    "print(f\"The angle between points a, b, and c is {angle:.2f} degrees.\")"
   ]
  },
  {
   "cell_type": "code",
   "execution_count": 120,
   "id": "673e6401",
   "metadata": {},
   "outputs": [],
   "source": [
    "def calculate_knee_angles(pose_estimates):\n",
    "    \"\"\"\n",
    "    Calculate knee angles for a set of frame pose estimates.\n",
    "\n",
    "    Parameters:\n",
    "    pose_estimates (list): A list of tuples containing frame name and pose landmarks.\n",
    "\n",
    "    Returns:\n",
    "    list: A list of tuples containing frame name and knee angle.\n",
    "    \"\"\"\n",
    "    # Initialize MediaPipe Pose solution\n",
    "    mp_pose = mp.solutions.pose\n",
    "    pose = mp_pose.Pose(static_image_mode=True, min_detection_confidence=0.5)\n",
    "    \n",
    "    knee_angles = []  # Initialize an empty list to store knee angles\n",
    "    for frame_name, pose_estimate in pose_estimates:  # Iterate over each frame and its pose estimate\n",
    "        # Extract landmarks for hip, knee, and ankle\n",
    "        landmarks = pose_estimate.landmark  # Get the landmarks from the pose estimate\n",
    "        hip = (landmarks[mp_pose.PoseLandmark.LEFT_HIP].x, landmarks[mp_pose.PoseLandmark.LEFT_HIP].y)  # Get hip coordinates\n",
    "        knee = (landmarks[mp_pose.PoseLandmark.LEFT_KNEE].x, landmarks[mp_pose.PoseLandmark.LEFT_KNEE].y)  # Get knee coordinates\n",
    "        ankle = (landmarks[mp_pose.PoseLandmark.LEFT_ANKLE].x, landmarks[mp_pose.PoseLandmark.LEFT_ANKLE].y)  # Get ankle coordinates\n",
    "        \n",
    "        # Calculate knee bend angle\n",
    "        knee_angle = calculate_angle(hip, knee, ankle)  # Calculate the angle between hip, knee, and ankle\n",
    "        knee_angles.append((frame_name, knee_angle))  # Append the frame name and knee angle to the list\n",
    "    return knee_angles  # Return the list of knee angles\n",
    "\n",
    "    # Ensure proper cleanup\n",
    "    pose.close()\n",
    "    del pose"
   ]
  },
  {
   "cell_type": "code",
   "execution_count": 121,
   "id": "0b862a56",
   "metadata": {},
   "outputs": [],
   "source": [
    "def get_landmarks(pose_estimates, *landmark_names):\n",
    "    \"\"\"\n",
    "    Return specified landmarks for a set of frame pose estimates.\n",
    "\n",
    "    Parameters:\n",
    "    pose_estimates (list): A list of tuples containing frame name and pose landmarks.\n",
    "    *landmark_names (str): Names of landmarks to extract (e.g., 'left_hip', 'right_hip').\n",
    "\n",
    "    Returns:\n",
    "    list: A list of dictionaries containing frame name and specified landmarks.\n",
    "    \"\"\"\n",
    "    # Initialize MediaPipe Pose solution\n",
    "    mp_pose = mp.solutions.pose\n",
    "    pose = mp_pose.Pose(static_image_mode=True, min_detection_confidence=0.5)\n",
    "    \n",
    "    # Define a dictionary to map landmark names to their corresponding indices in the pose landmarks\n",
    "    landmark_indices = {\n",
    "        'left_hip': mp_pose.PoseLandmark.LEFT_HIP,\n",
    "        'right_hip': mp_pose.PoseLandmark.RIGHT_HIP,\n",
    "        'left_knee': mp_pose.PoseLandmark.LEFT_KNEE,\n",
    "        'right_knee': mp_pose.PoseLandmark.RIGHT_KNEE,\n",
    "        'left_ankle': mp_pose.PoseLandmark.LEFT_ANKLE,\n",
    "        'right_ankle': mp_pose.PoseLandmark.RIGHT_ANKLE,\n",
    "        'left_shoulder': mp_pose.PoseLandmark.LEFT_SHOULDER,\n",
    "        'right_shoulder': mp_pose.PoseLandmark.RIGHT_SHOULDER,\n",
    "        'left_elbow': mp_pose.PoseLandmark.LEFT_ELBOW,\n",
    "        'right_elbow': mp_pose.PoseLandmark.RIGHT_ELBOW,\n",
    "        'left_wrist': mp_pose.PoseLandmark.LEFT_WRIST,\n",
    "        'right_wrist': mp_pose.PoseLandmark.RIGHT_WRIST,\n",
    "        'left_eye': mp_pose.PoseLandmark.LEFT_EYE,\n",
    "        'right_eye': mp_pose.PoseLandmark.RIGHT_EYE,\n",
    "        'nose': mp_pose.PoseLandmark.NOSE,\n",
    "        'left_ear': mp_pose.PoseLandmark.LEFT_EAR,\n",
    "        'right_ear': mp_pose.PoseLandmark.RIGHT_EAR,\n",
    "        'mouth_left': mp_pose.PoseLandmark.MOUTH_LEFT,\n",
    "        'mouth_right': mp_pose.PoseLandmark.MOUTH_RIGHT,\n",
    "        'left_pinky': mp_pose.PoseLandmark.LEFT_PINKY,\n",
    "        'right_pinky': mp_pose.PoseLandmark.RIGHT_PINKY,\n",
    "        'left_index': mp_pose.PoseLandmark.LEFT_INDEX,\n",
    "        'right_index': mp_pose.PoseLandmark.RIGHT_INDEX,\n",
    "        'left_thumb': mp_pose.PoseLandmark.LEFT_THUMB,\n",
    "        'right_thumb': mp_pose.PoseLandmark.RIGHT_THUMB,\n",
    "        'left_foot_index': mp_pose.PoseLandmark.LEFT_FOOT_INDEX,\n",
    "        'right_foot_index': mp_pose.PoseLandmark.RIGHT_FOOT_INDEX,\n",
    "        'left_heel': mp_pose.PoseLandmark.LEFT_HEEL,\n",
    "        'right_heel': mp_pose.PoseLandmark.RIGHT_HEEL,\n",
    "        'left_big_toe': mp_pose.PoseLandmark.LEFT_BIG_TOE,\n",
    "        'right_big_toe': mp_pose.PoseLandmark.RIGHT_BIG_TOE,\n",
    "        'left_small_toe': mp_pose.PoseLandmark.LEFT_SMALL_TOE,\n",
    "        'right_small_toe': mp_pose.PoseLandmark.RIGHT_SMALL_TOE\n",
    "    }\n",
    "    \n",
    "    results = []  # Initialize an empty list to store the results\n",
    "    for frame_name, pose_estimate in pose_estimates:  # Iterate over each frame and its pose estimate\n",
    "        landmarks = pose_estimate.landmark  # Get the landmarks from the pose estimate\n",
    "        frame_landmarks = {'frame_name': frame_name}  # Initialize a dictionary to store the frame name and landmarks\n",
    "        for name in landmark_names:  # Iterate over the specified landmark names\n",
    "            if name in landmark_indices:  # Check if the landmark name is in the dictionary\n",
    "                landmark = landmarks[landmark_indices[name]]  # Get the landmark using its index\n",
    "                frame_landmarks[name] = (landmark.x, landmark.y)  # Store the landmark coordinates in the dictionary\n",
    "        results.append(frame_landmarks)  # Append the dictionary to the results list\n",
    "    return results  # Return the list of dictionaries containing frame names and specified landmarks\n",
    "\n",
    "    # Ensure proper cleanup\n",
    "    pose.close()\n",
    "    del pose\n",
    "    "
   ]
  },
  {
   "cell_type": "code",
   "execution_count": 122,
   "id": "67c1dbfb",
   "metadata": {},
   "outputs": [],
   "source": [
    "# Define function for calculating Euclidean distance (stride length)\n",
    "def euclidean_distance(p1, p2):\n",
    "    \"\"\"\n",
    "    Calculate the Euclidean distance between two points.\n",
    "\n",
    "    Parameters:\n",
    "    p1 (tuple): The (x, y) coordinates of the first point.\n",
    "    p2 (tuple): The (x, y) coordinates of the second point.\n",
    "\n",
    "    Returns:\n",
    "    float: The Euclidean distance between the two points.\n",
    "    \"\"\"\n",
    "    # Calculate the difference in x-coordinates and y-coordinates\n",
    "    dx = p1[0] - p2[0]\n",
    "    dy = p1[1] - p2[1]\n",
    "    \n",
    "    # Calculate the Euclidean distance using the Pythagorean theorem\n",
    "    distance = (dx**2 + dy**2) ** 0.5\n",
    "    \n",
    "    return distance"
   ]
  },
  {
   "cell_type": "code",
   "execution_count": 123,
   "id": "c30d5569",
   "metadata": {},
   "outputs": [],
   "source": [
    "# Function to calculate knee angle\n",
    "def calculate_knee_angle(landmarks):\n",
    "    \"\"\"\n",
    "    Calculate the knee angle based on the positions of the hip, knee, and ankle landmarks.\n",
    "\n",
    "    Parameters:\n",
    "    landmarks (google._upb._message.RepeatedCompositeContainer): Pose landmarks.\n",
    "\n",
    "    Returns:\n",
    "    float: The calculated knee angle in degrees.\n",
    "    \"\"\"\n",
    "    # Initialize MediaPipe Pose solution\n",
    "    mp_pose = mp.solutions.pose\n",
    "    pose = mp_pose.Pose(static_image_mode=True, min_detection_confidence=0.5)\n",
    "    \n",
    "    # Extract x and y coordinates of the hip\n",
    "    hip = (landmarks[mp_pose.PoseLandmark.LEFT_HIP].x, landmarks[mp_pose.PoseLandmark.LEFT_HIP].y)\n",
    "    \n",
    "    # Extract x and y coordinates of the knee\n",
    "    knee = (landmarks[mp_pose.PoseLandmark.LEFT_KNEE].x, landmarks[mp_pose.PoseLandmark.LEFT_KNEE].y)\n",
    "    \n",
    "    # Extract x and y coordinates of the ankle\n",
    "    ankle = (landmarks[mp_pose.PoseLandmark.LEFT_ANKLE].x, landmarks[mp_pose.PoseLandmark.LEFT_ANKLE].y)\n",
    "    \n",
    "    # Calculate the angle between the hip, knee, and ankle\n",
    "    angle = calculate_angle(hip, knee, ankle)\n",
    "\n",
    "    # Ensure proper cleanup\n",
    "    pose.close()\n",
    "    del pose\n",
    "    \n",
    "    return angle\n"
   ]
  },
  {
   "cell_type": "code",
   "execution_count": 124,
   "id": "2f23116f",
   "metadata": {},
   "outputs": [],
   "source": [
    "# Function to calculate stride length\n",
    "def calculate_stride_length(landmarks):\n",
    "    \"\"\"\n",
    "    Calculate the stride length based on the positions of the left and right ankles.\n",
    "\n",
    "    Parameters:\n",
    "    landmarks (google._upb._message.RepeatedCompositeContainer): Pose landmarks.\n",
    "\n",
    "    Returns:\n",
    "    float: The calculated stride length.\n",
    "    \"\"\"\n",
    "    # Initialize MediaPipe Pose solution\n",
    "    mp_pose = mp.solutions.pose\n",
    "    pose = mp_pose.Pose(static_image_mode=True, min_detection_confidence=0.5)\n",
    "    \n",
    "    # Extract x and y coordinates of the left ankle\n",
    "    left_foot = (landmarks[mp_pose.PoseLandmark.LEFT_ANKLE].x, landmarks[mp_pose.PoseLandmark.LEFT_ANKLE].y)\n",
    "    \n",
    "    # Extract x and y coordinates of the right ankle\n",
    "    right_foot = (landmarks[mp_pose.PoseLandmark.RIGHT_ANKLE].x, landmarks[mp_pose.PoseLandmark.RIGHT_ANKLE].y)\n",
    "    \n",
    "    # Calculate the Euclidean distance between the left and right ankle positions\n",
    "    stride_length = euclidean_distance(left_foot, right_foot)\n",
    "    \n",
    "    # Ensure proper cleanup\n",
    "    pose.close()\n",
    "    del pose\n",
    "    \n",
    "    return stride_length"
   ]
  },
  {
   "cell_type": "code",
   "execution_count": 125,
   "id": "1af09112",
   "metadata": {},
   "outputs": [],
   "source": [
    "# Function to calculate hip stability\n",
    "def calculate_hip_stability(landmarks):\n",
    "    \"\"\"\n",
    "    Calculate the stability of the hips based on the Euclidean distance between the left and right hip landmarks.\n",
    "\n",
    "    Parameters:\n",
    "    landmarks (google._upb._message.RepeatedCompositeContainer): Pose landmarks.\n",
    "\n",
    "    Returns:\n",
    "    float: The calculated hip stability.\n",
    "    \"\"\"\n",
    "    # Initialize MediaPipe Pose solution\n",
    "    mp_pose = mp.solutions.pose\n",
    "    pose = mp_pose.Pose(static_image_mode=True, min_detection_confidence=0.5)\n",
    "    \n",
    "    # Extract x and y coordinates of the left hip\n",
    "    left_hip = (landmarks[mp_pose.PoseLandmark.LEFT_HIP].x, landmarks[mp_pose.PoseLandmark.LEFT_HIP].y)\n",
    "    \n",
    "    # Extract x and y coordinates of the right hip\n",
    "    right_hip = (landmarks[mp_pose.PoseLandmark.RIGHT_HIP].x, landmarks[mp_pose.PoseLandmark.RIGHT_HIP].y)\n",
    "    \n",
    "    # Calculate the Euclidean distance between the left and right hip positions\n",
    "    hip_stability = euclidean_distance(left_hip, right_hip)\n",
    "    \n",
    "    # Ensure proper cleanup\n",
    "    pose.close()\n",
    "    del pose\n",
    "    \n",
    "    return hip_stability"
   ]
  },
  {
   "cell_type": "code",
   "execution_count": 126,
   "id": "fcec3a07",
   "metadata": {},
   "outputs": [],
   "source": [
    "# Function to calculate forward lean angle\n",
    "def calculate_forward_lean(landmarks):\n",
    "    \"\"\"\n",
    "    Calculate the forward lean angle based on shoulder, torso, and knee landmarks.\n",
    "\n",
    "    Parameters:\n",
    "    landmarks (google._upb._message.RepeatedCompositeContainer): Pose landmarks.\n",
    "\n",
    "    Returns:\n",
    "    float: The calculated forward lean angle in degrees.\n",
    "    \"\"\"\n",
    "    # Initialize MediaPipe Pose solution\n",
    "    mp_pose = mp.solutions.pose\n",
    "    pose = mp_pose.Pose(static_image_mode=True, min_detection_confidence=0.5)\n",
    "    \n",
    "    # Extract x and y coordinates of the left shoulder\n",
    "    shoulder = (landmarks[mp_pose.PoseLandmark.LEFT_SHOULDER].x, landmarks[mp_pose.PoseLandmark.LEFT_SHOULDER].y)\n",
    "    \n",
    "    # Extract x and y coordinates of the left hip (torso)\n",
    "    torso = (landmarks[mp_pose.PoseLandmark.LEFT_HIP].x, landmarks[mp_pose.PoseLandmark.LEFT_HIP].y)\n",
    "    \n",
    "    # Extract x and y coordinates of the left knee\n",
    "    knee = (landmarks[mp_pose.PoseLandmark.LEFT_KNEE].x, landmarks[mp_pose.PoseLandmark.LEFT_KNEE].y)\n",
    "    \n",
    "    # Calculate the angle between the shoulder, torso, and knee\n",
    "    angle = calculate_angle(shoulder, torso, knee)\n",
    "    \n",
    "    # Ensure proper cleanup\n",
    "    pose.close()\n",
    "    del pose\n",
    "    \n",
    "    return angle"
   ]
  },
  {
   "cell_type": "code",
   "execution_count": 127,
   "id": "2c67780c",
   "metadata": {},
   "outputs": [],
   "source": [
    "# Function to calculate stride cadence (steps per second)\n",
    "def calculate_stride_cadence(pose_estimates, frame_time):\n",
    "    \"\"\"\n",
    "    Calculate the stride cadence (steps per second) from pose estimates.\n",
    "\n",
    "    Parameters:\n",
    "    pose_estimates (list): List of tuples containing frame name and pose landmarks.\n",
    "    frame_time (float): Time duration of each frame.\n",
    "\n",
    "    Returns:\n",
    "    float: Stride cadence (steps per second).\n",
    "    \"\"\"\n",
    "    # Initialize MediaPipe Pose solution\n",
    "    mp_pose = mp.solutions.pose\n",
    "    pose = mp_pose.Pose(static_image_mode=True, min_detection_confidence=0.5)\n",
    "    \n",
    "    left_step_count, right_step_count = 0, 0  # Initialize step counts for left and right foot\n",
    "    prev_left_foot, prev_right_foot = None, None  # Initialize previous positions of left and right foot\n",
    "\n",
    "    for frame_name, pose_estimate in pose_estimates:\n",
    "        landmarks = pose_estimate.landmark  # Extract landmarks from pose estimate\n",
    "        left_foot = (landmarks[mp_pose.PoseLandmark.LEFT_ANKLE].x, landmarks[mp_pose.PoseLandmark.LEFT_ANKLE].y)  # Get left foot position\n",
    "        right_foot = (landmarks[mp_pose.PoseLandmark.RIGHT_ANKLE].x, landmarks[mp_pose.PoseLandmark.RIGHT_ANKLE].y)  # Get right foot position\n",
    "\n",
    "        if prev_left_foot is not None and prev_right_foot is not None:\n",
    "            # Detect if a step has occurred for left and right foot\n",
    "            left_step, right_step, _, _ = detect_stride_cadence(landmarks, prev_left_foot, prev_right_foot, frame_time)\n",
    "            if left_step:\n",
    "                left_step_count += 1  # Increment left step count if a step is detected\n",
    "            if right_step:\n",
    "                right_step_count += 1  # Increment right step count if a step is detected\n",
    "\n",
    "        prev_left_foot, prev_right_foot = left_foot, right_foot  # Update previous foot positions\n",
    "\n",
    "    total_steps = left_step_count + right_step_count  # Calculate total steps\n",
    "\n",
    "    # Ensure proper cleanup\n",
    "    pose.close()\n",
    "    del pose\n",
    "    \n",
    "    return total_steps / (len(pose_estimates) * frame_time)  # Calculate and return stride cadence (steps per second)"
   ]
  },
  {
   "cell_type": "code",
   "execution_count": 128,
   "id": "6c7dd011",
   "metadata": {},
   "outputs": [],
   "source": [
    "# Function to calculate arm swing angle\n",
    "def calculate_arm_swing(landmarks):\n",
    "    \"\"\"\n",
    "    Calculate the arm swing angle based on shoulder and hip landmarks.\n",
    "\n",
    "    Parameters:\n",
    "    landmarks (google._upb._message.RepeatedCompositeContainer): Pose landmarks.\n",
    "\n",
    "    Returns:\n",
    "    float: The calculated arm swing angle in degrees.\n",
    "    \"\"\"\n",
    "    # Initialize MediaPipe Pose solution\n",
    "    mp_pose = mp.solutions.pose\n",
    "    pose = mp_pose.Pose(static_image_mode=True, min_detection_confidence=0.5)\n",
    "    \n",
    "    # Extract x and y coordinates of the left shoulder\n",
    "    left_shoulder = (landmarks[mp_pose.PoseLandmark.LEFT_SHOULDER].x, landmarks[mp_pose.PoseLandmark.LEFT_SHOULDER].y)\n",
    "    \n",
    "    # Extract x and y coordinates of the right shoulder\n",
    "    right_shoulder = (landmarks[mp_pose.PoseLandmark.RIGHT_SHOULDER].x, landmarks[mp_pose.PoseLandmark.RIGHT_SHOULDER].y)\n",
    "    \n",
    "    # Extract x and y coordinates of the left hip (torso)\n",
    "    torso = (landmarks[mp_pose.PoseLandmark.LEFT_HIP].x, landmarks[mp_pose.PoseLandmark.LEFT_HIP].y)\n",
    "    \n",
    "    # Ensure proper cleanup\n",
    "    pose.close()\n",
    "    del pose\n",
    "\n",
    "    # Calculate the angle between the left shoulder, right shoulder, and torso\n",
    "    angle = calculate_angle(left_shoulder, right_shoulder, torso)\n",
    "    return angle\n"
   ]
  },
  {
   "cell_type": "code",
   "execution_count": 129,
   "id": "ffb1a007",
   "metadata": {},
   "outputs": [],
   "source": [
    "# Function to get position (left_hip position as centre of mass)\n",
    "def get_position(landmarks):\n",
    "    \"\"\"\n",
    "    Get the position of the left hip from the pose landmarks.\n",
    "\n",
    "    Parameters:\n",
    "    landmarks (google._upb._message.RepeatedCompositeContainer): Pose landmarks.\n",
    "\n",
    "    Returns:\n",
    "    tuple: Position of the left hip as (x, y) coordinates.\n",
    "\n",
    "    Raises:\n",
    "    ValueError: If the landmark positions are negative.\n",
    "    \"\"\"\n",
    "    # Initialize MediaPipe Pose solution\n",
    "    mp_pose = mp.solutions.pose\n",
    "    pose = mp_pose.Pose(static_image_mode=True, min_detection_confidence=0.5)\n",
    "    \n",
    "    # Extract x and y coordinates of the left hip\n",
    "    left_hip_x = landmarks[mp_pose.PoseLandmark.LEFT_HIP].x\n",
    "    left_hip_y = landmarks[mp_pose.PoseLandmark.LEFT_HIP].y\n",
    "    \n",
    "    # Check if the coordinates are non-negative\n",
    "    if left_hip_x < 0 or left_hip_y < 0:\n",
    "        raise ValueError(\"Landmark positions must be non-negative\")\n",
    "    \n",
    "    # Ensure proper cleanup\n",
    "    pose.close()\n",
    "    del pose\n",
    "    \n",
    "    # Return the position as a tuple\n",
    "    return (left_hip_x, left_hip_y)"
   ]
  },
  {
   "cell_type": "code",
   "execution_count": 130,
   "id": "9f041151",
   "metadata": {},
   "outputs": [],
   "source": [
    "# Function to compute velocity (current position - previous position / frame time)\n",
    "def compute_velocity(current_position, prev_position, frame_time):\n",
    "    \"\"\"\n",
    "    Compute the velocity given the current and previous positions and the frame time.\n",
    "\n",
    "    Parameters:\n",
    "    current_position (tuple): Current position as a tuple (x, y).\n",
    "    prev_position (tuple): Previous position as a tuple (x, y).\n",
    "    frame_time (float): Time duration of each frame.\n",
    "\n",
    "    Returns:\n",
    "    float: Combined velocity.\n",
    "    \"\"\"\n",
    "    if frame_time == 0:\n",
    "        raise ValueError(\"Frame time must be greater than zero.\")  # Raise an error if frame time is zero to avoid division by zero\n",
    "\n",
    "    # Calculate velocity for each component (x and y)\n",
    "    vx = (current_position[0] - prev_position[0]) / frame_time\n",
    "    vy = (current_position[1] - prev_position[1]) / frame_time\n",
    "\n",
    "    # Calculate combined velocity using Euclidean distance formula\n",
    "    combined_velocity = (vx**2 + vy**2) ** 0.5\n",
    "\n",
    "    return combined_velocity  # Return the velocity "
   ]
  },
  {
   "cell_type": "code",
   "execution_count": 131,
   "id": "72b7ad9b",
   "metadata": {},
   "outputs": [],
   "source": [
    "# Function to compute acceleration (current velocity - previous velocity / frame time)\n",
    "def compute_acceleration(current_velocity, prev_velocity, frame_time):\n",
    "    \"\"\"\n",
    "    Compute the acceleration given the current and previous velocities and the frame time.\n",
    "\n",
    "    Parameters:\n",
    "    current_velocity (float): Current velocity (float)\n",
    "    prev_velocity (float): Previous velocity (float)\n",
    "    frame_time (float): Time duration of each frame.\n",
    "\n",
    "    Returns:\n",
    "    float: Combined acceleration.\n",
    "    \"\"\"\n",
    "    if frame_time == 0:\n",
    "        raise ValueError(\"Frame time cannot be zero.\")  # Raise an error if frame time is zero to avoid division by zero\n",
    "\n",
    "    # Calculate acceleration\n",
    "    acceleration = (current_velocity - prev_velocity) / frame_time  # Dividing by frame time instead of previous velocity\n",
    "    \n",
    "    return acceleration  # Return the acceleration"
   ]
  },
  {
   "cell_type": "code",
   "execution_count": 132,
   "id": "e0f698e0",
   "metadata": {},
   "outputs": [],
   "source": [
    "# Function to calculate specified metrics and append to data frame\n",
    "def calculate_metrics(pose_estimates, frame_time, metrics):\n",
    "    \"\"\"\n",
    "    Calculate specified metrics from pose estimates and append to a DataFrame.\n",
    "\n",
    "    Args:\n",
    "        pose_estimates (list): List of tuples containing frame names and pose estimates.\n",
    "        frame_time (float): Time duration of each frame.\n",
    "        metrics (list): List of metrics to calculate.\n",
    "\n",
    "    Returns:\n",
    "        pd.DataFrame: DataFrame containing the calculated metrics for each frame.\n",
    "    \"\"\"\n",
    "    # Initialize MediaPipe Pose solution\n",
    "    mp_pose = mp.solutions.pose\n",
    "    pose = mp_pose.Pose(static_image_mode=True, min_detection_confidence=0.5)\n",
    "    \n",
    "    # Initialize lists to store metrics\n",
    "    frame_numbers, knee_angles, stride_lengths, hip_stabilities, lean_angles = [], [], [], [], []\n",
    "    stride_cadences, arm_swing_angles, glide_times, glide_ratios, glide_lengths, glide_symmetries, glide_stabilities, glide_efficiencies = [], [], [], [], [], [], [], []\n",
    "    positions, velocities, accelerations = [], [], []\n",
    "    prev_position, prev_velocity = None, None\n",
    "\n",
    "    # Iterate through each frame and its corresponding pose estimate\n",
    "    for frame_name, pose_estimate in pose_estimates:\n",
    "        landmarks = pose_estimate.landmark  # Extract landmarks from pose estimate\n",
    "\n",
    "        # Calculate knee angle if specified in metrics\n",
    "        if 'knee_angle' in metrics:\n",
    "            knee_angle = calculate_knee_angle(landmarks)\n",
    "            knee_angles.append(knee_angle)\n",
    "\n",
    "        # Calculate stride length if specified in metrics\n",
    "        if 'stride_length' in metrics:\n",
    "            stride_length = calculate_stride_length(landmarks)\n",
    "            stride_lengths.append(stride_length)\n",
    "        \n",
    "        # calculate stride cadence if specified in metrics\n",
    "        if 'stride_cadence' in metrics:\n",
    "            stride_cadence = calculate_stride_cadence(pose_estimates, frame_time)\n",
    "            stride_cadences.append(stride_cadence)\n",
    "\n",
    "        # Calculate hip stability if specified in metrics\n",
    "        if 'hip_stability' in metrics:\n",
    "            hip_stability = calculate_hip_stability(landmarks)\n",
    "            hip_stabilities.append(hip_stability)\n",
    "\n",
    "        # Calculate forward lean angle if specified in metrics\n",
    "        if 'lean_angle' in metrics:\n",
    "            lean_angle = calculate_forward_lean(landmarks)\n",
    "            lean_angles.append(lean_angle)\n",
    "        \n",
    "        # Calculate arm swing angle if specified in metrics\n",
    "        if 'arm_swing_angle' in metrics:\n",
    "            arm_swing_angle = calculate_arm_swing(landmarks)\n",
    "            arm_swing_angles.append(arm_swing_angle)\n",
    "\n",
    "        # Calculate acceleration if specified in metrics\n",
    "        if 'acceleration' in metrics: \n",
    "            current_position = get_position(landmarks)\n",
    "            if prev_position is None and prev_velocity is None: # first frame\n",
    "                current_velocity = None\n",
    "                acceleration = 0\n",
    "            elif prev_velocity is None: # second frame\n",
    "                current_velocity = compute_velocity(current_position, prev_position, frame_time)\n",
    "                acceleration = 0\n",
    "            else: # subsequent frames\n",
    "                current_velocity = compute_velocity(current_position, prev_position, frame_time)\n",
    "                acceleration = compute_acceleration(current_velocity, prev_velocity, frame_time)\n",
    "            accelerations.append(acceleration)\n",
    "            prev_position = current_position\n",
    "            prev_velocity = current_velocity\n",
    "\n",
    "        # Calculate velocity if specified in metrics\n",
    "        if 'velocity' in metrics: \n",
    "            current_position = get_position(landmarks)\n",
    "            if prev_position is None:\n",
    "                velocity = 0\n",
    "            else:\n",
    "                velocity = compute_velocity(current_position, prev_position, frame_time)\n",
    "            prev_position = current_position\n",
    "            velocities.append(velocity)\n",
    "\n",
    "        # Append frame name to frame numbers list\n",
    "        frame_numbers.append(frame_name)\n",
    "\n",
    "    # Create a dictionary to store the data\n",
    "    data = {\n",
    "        \"frame\": frame_numbers,\n",
    "        \"knee_angle\": knee_angles if knee_angles else None,\n",
    "        \"stride_length\": stride_lengths if stride_lengths else None,\n",
    "        \"hip_stability\": hip_stabilities if hip_stabilities else None,\n",
    "        \"lean_angle\": lean_angles if lean_angles else None,\n",
    "        \"stride_cadence\": stride_cadences if stride_cadences else None,\n",
    "        \"arm_swing_angle\": arm_swing_angles if arm_swing_angles else None,\n",
    "        \"glide_length\": glide_lengths if glide_lengths else None,\n",
    "        \"glide_symmetry\": glide_symmetries if glide_symmetries else None,\n",
    "        \"glide_stability\": glide_stabilities if glide_stabilities else None,\n",
    "        \"glide_efficiency\": glide_efficiencies if glide_efficiencies else None,\n",
    "        \"acceleration\": accelerations if accelerations else None,\n",
    "        \"velocity\": velocities if velocities else None,\n",
    "    }\n",
    "\n",
    "    # Create a DataFrame from the data dictionary, excluding empty lists\n",
    "    df = pd.DataFrame({k: v for k, v in data.items() if v is not None})\n",
    "    print(f\"printing columns in function...\", df.columns) # Print columns for debugging\n",
    "    \n",
    "    # Ensure proper cleanup\n",
    "    pose.close()\n",
    "    del pose\n",
    "\n",
    "    return df\n"
   ]
  },
  {
   "cell_type": "code",
   "execution_count": 133,
   "id": "5f7d8931",
   "metadata": {},
   "outputs": [],
   "source": [
    "# Function to save data to specified CSV file\n",
    "def save_to_csv(df, file_path):\n",
    "    \"\"\"\n",
    "    Save the given DataFrame to a CSV file.\n",
    "\n",
    "    Parameters:\n",
    "    df (pd.DataFrame): DataFrame to save.\n",
    "    file_path (str): Path to the CSV file where data will be saved.\n",
    "    \"\"\"\n",
    "    df.to_csv(file_path, index=False)  # Save DataFrame to CSV without row indices\n",
    "    print(f\"Data saved to {file_path}\")  # Print confirmation message"
   ]
  },
  {
   "cell_type": "code",
   "execution_count": 134,
   "id": "7a73261f",
   "metadata": {},
   "outputs": [],
   "source": [
    "# Example usage\n",
    "def get_video_fps(video_path):\n",
    "    \"\"\"\n",
    "    Get the frames per second (FPS) of a video.\n",
    "\n",
    "    Parameters:\n",
    "    video_path (str): Path to the video file.\n",
    "\n",
    "    Returns:\n",
    "    float: Frames per second (FPS) of the video.\n",
    "\n",
    "    Raises:\n",
    "    ValueError: If FPS could not be determined.\n",
    "    \"\"\"\n",
    "    # Open the video file using OpenCV\n",
    "    cap = cv2.VideoCapture(video_path)\n",
    "    \n",
    "    # Retrieve the FPS property from the video\n",
    "    fps = cap.get(cv2.CAP_PROP_FPS)\n",
    "    \n",
    "    # Release the video capture object\n",
    "    cap.release()\n",
    "    \n",
    "    # Check if FPS is valid\n",
    "    if fps == 0:\n",
    "        raise ValueError(\"FPS could not be determined. Please check the video path or file.\")\n",
    "    \n",
    "    return fps"
   ]
  },
  {
   "cell_type": "code",
   "execution_count": 135,
   "id": "3b095e3c",
   "metadata": {},
   "outputs": [],
   "source": [
    "# Function to track foot movements over time\n",
    "def detect_stride_cadence(landmarks, prev_left_foot, prev_right_foot, frame_time):\n",
    "    \"\"\"\n",
    "    Detect stride cadence by tracking foot movements over time.\n",
    "\n",
    "    Parameters:\n",
    "    landmarks (google._upb._message.RepeatedCompositeContainer): Pose landmarks.\n",
    "    prev_left_foot (numpy.ndarray): Previous position of the left foot.\n",
    "    prev_right_foot (numpy.ndarray): Previous position of the right foot.\n",
    "    frame_time (float): Time duration of each frame.\n",
    "\n",
    "    Returns:\n",
    "    tuple: A tuple containing boolean values indicating left and right steps, and the current positions of left and right feet.\n",
    "    \"\"\"\n",
    "    # Initialize MediaPipe Pose solution\n",
    "    mp_pose = mp.solutions.pose\n",
    "    pose = mp_pose.Pose(static_image_mode=True, min_detection_confidence=0.5)\n",
    "    \n",
    "    # Extract current positions of left and right feet\n",
    "    left_foot = np.array([landmarks[mp_pose.PoseLandmark.LEFT_ANKLE].x, landmarks[mp_pose.PoseLandmark.LEFT_ANKLE].y])\n",
    "    right_foot = np.array([landmarks[mp_pose.PoseLandmark.RIGHT_ANKLE].x, landmarks[mp_pose.PoseLandmark.RIGHT_ANKLE].y])\n",
    "\n",
    "    # Detect movement by checking the change in distance\n",
    "    left_movement = np.linalg.norm(left_foot - prev_left_foot) if prev_left_foot is not None else 0\n",
    "    right_movement = np.linalg.norm(right_foot - prev_right_foot) if prev_right_foot is not None else 0\n",
    "\n",
    "    # Consider a movement significant if it's above a threshold\n",
    "    movement_threshold = 0.01  # Adjust based on camera angle & resolution\n",
    "    left_step = left_movement > movement_threshold\n",
    "    right_step = right_movement > movement_threshold\n",
    "\n",
    "    # Ensure proper cleanup\n",
    "    pose.close()\n",
    "    del pose\n",
    "    \n",
    "    return left_step, right_step, left_foot, right_foot\n"
   ]
  },
  {
   "cell_type": "code",
   "execution_count": 136,
   "id": "345627a9",
   "metadata": {},
   "outputs": [],
   "source": [
    "def plot_skating_metrics(df, metrics):\n",
    "    \"\"\"\n",
    "    Plot specified skating metrics over frames.\n",
    "\n",
    "    Parameters:\n",
    "    df (pd.DataFrame): DataFrame containing skating metrics.\n",
    "    metrics (list): List of metrics to plot (e.g., ['Knee_Angle', 'Stride_Length']).\n",
    "    \"\"\"\n",
    "\n",
    "    plt.figure(figsize=(5, 5))  # Create a figure with specified size\n",
    "    num_metrics = len(metrics)  # Get the number of metrics to plot\n",
    "    \n",
    "    for i, metric in enumerate(metrics, 1):  # Loop through each metric\n",
    "        if metric not in df.columns:\n",
    "            print(f\"{metric} not in df\")\n",
    "            continue\n",
    "        plt.subplot((num_metrics + 1) // 2, 2, i)  # Create a subplot for each metric\n",
    "        plt.plot(df[\"frame\"], df[metric], marker='o')  # Plot the metric over frames\n",
    "        plt.title(f'{metric.replace(\"_\", \" \")} Over Frames')  # Set the title of the plot\n",
    "        plt.xlabel('Frame')  # Set the x-axis label\n",
    "        plt.ylabel(metric.replace(\"_\", \" \"))  # Set the y-axis label\n",
    "        plt.grid()  # Enable grid for the plot\n",
    "\n",
    "    plt.tight_layout()  # Adjust subplots to fit into the figure area\n",
    "    plt.show()  # Display the plot\n"
   ]
  },
  {
   "cell_type": "code",
   "execution_count": 137,
   "id": "3da816bd",
   "metadata": {},
   "outputs": [
    {
     "name": "stdout",
     "output_type": "stream",
     "text": [
      "📌 Functions Defined in Notebook:\n",
      "print_list_of_files_by_size\n",
      "print_memory_usage\n",
      "list_variables\n",
      "delete_variables\n",
      "printFunctions\n",
      "checkDataset\n",
      "read_APIResponseStructure\n",
      "show_memory_usage\n",
      "delete_dataframe\n",
      "optimize_dataframe\n",
      "remove_hidden_variables\n",
      "process_videos\n",
      "download_video\n",
      "get_video_properties\n",
      "extract_and_save_frames\n",
      "get_pose_landmarks\n",
      "draw_pose_landmarks\n",
      "count_frames_with_landmarks\n",
      "calculate_angle\n",
      "calculate_knee_angles\n",
      "get_landmarks\n",
      "euclidean_distance\n",
      "calculate_knee_angle\n",
      "calculate_stride_length\n",
      "calculate_hip_stability\n",
      "calculate_forward_lean\n",
      "calculate_stride_cadence\n",
      "calculate_arm_swing\n",
      "calculate_glide_length\n",
      "calculate_glide_time\n",
      "calculate_glide_ratio\n",
      "calculate_glide_symmetry\n",
      "calculate_glide_stability\n",
      "calculate_glide_efficiency\n",
      "get_position\n",
      "compute_velocity\n",
      "compute_acceleration\n",
      "calculate_metrics\n",
      "save_to_csv\n",
      "get_video_fps\n",
      "detect_stride_cadence\n",
      "plot_skating_metrics\n"
     ]
    }
   ],
   "source": [
    "printFunctions()"
   ]
  },
  {
   "cell_type": "markdown",
   "id": "b88ed495-421c-4b3e-8775-b8fcc4332bb0",
   "metadata": {
    "jp-MarkdownHeadingCollapsed": true
   },
   "source": [
    "## **Section 3: Load & Save Data** <a id=\"data_load\"></a>"
   ]
  },
  {
   "cell_type": "code",
   "execution_count": null,
   "id": "23c4848c",
   "metadata": {},
   "outputs": [],
   "source": [
    "# Example usage\n",
    "url_list = [\n",
    "    \"https://www.youtube.com/watch?v=y0wIRVQDbJc\",\n",
    "]\n",
    "output_dir = \"../data\"\n",
    "frame_interval = 10\n",
    "metrics = ['knee_angle']\n",
    "csv_output_path = \"../data/skating_metrics.csv\"\n",
    "\n",
    "process_videos(url_list, output_dir, frame_interval, metrics, csv_output_path)\n"
   ]
  },
  {
   "cell_type": "code",
   "execution_count": null,
   "id": "2ca8382f",
   "metadata": {},
   "outputs": [],
   "source": [
    "# Example usage\n",
    "youtube_url = \"https://www.youtube.com/watch?v=y0wIRVQDbJc\"\n",
    "output_path = \"../data/temp_video_2.mp4\"\n",
    "download_video(youtube_url, output_path)"
   ]
  },
  {
   "cell_type": "code",
   "execution_count": null,
   "id": "45465ad4",
   "metadata": {},
   "outputs": [],
   "source": [
    "# Example usage\n",
    "video_length, total_frames, fps = get_video_properties(output_path)\n",
    "print(f\"Video Length: {video_length:.2f} seconds\")\n",
    "print(f\"Total Frames: {total_frames}\")\n",
    "print(f\"Frames per Second (FPS): {fps}\")"
   ]
  },
  {
   "cell_type": "code",
   "execution_count": null,
   "id": "d614af7e",
   "metadata": {},
   "outputs": [],
   "source": [
    "# Example usage\n",
    "video_path = \"../data/temp_video_2.mp4\"\n",
    "frame_folder_path = \"../data/frames\"\n",
    "k = 10\n",
    "extract_and_save_frames(video_path, frame_folder_path, k)"
   ]
  },
  {
   "cell_type": "code",
   "execution_count": null,
   "id": "686affa3",
   "metadata": {},
   "outputs": [],
   "source": [
    "# Example usage\n",
    "frame_folder_path = \"../data/frames\"\n",
    "pose_folder_path = \"../data/pose_output\"\n",
    "\n",
    "pose_estimates = get_pose_landmarks(frame_folder_path)\n",
    "draw_pose_landmarks(pose_estimates, frame_folder_path, pose_folder_path)\n",
    "num_frames_with_landmarks = count_frames_with_landmarks(pose_estimates)\n",
    "\n",
    "print(f\"Total number of pose estimates: {num_frames_with_landmarks}\")\n",
    "print(\"Pose estimation complete! Processed frames saved in 'pose_output' folder.\")"
   ]
  },
  {
   "cell_type": "code",
   "execution_count": null,
   "id": "1248ced7",
   "metadata": {},
   "outputs": [],
   "source": [
    "# Example usage:\n",
    "knee_angles = calculate_knee_angles(pose_estimates)\n",
    "for frame_name, knee_angle in knee_angles:\n",
    "    print(f\"Frame: {frame_name}, Knee Bend Angle: {knee_angle:.2f} degrees\")\n",
    "\n",
    "landmarks = get_landmarks(pose_estimates, 'left_hip', 'right_hip', 'left_knee', 'right_knee')\n",
    "for frame_landmarks in landmarks:\n",
    "    formatted_landmarks = ', '.join([f\"{key}: {value}\" for key, value in frame_landmarks.items()])\n",
    "    print(f\"Landmarks: {formatted_landmarks}\")"
   ]
  },
  {
   "cell_type": "code",
   "execution_count": null,
   "id": "e310a375",
   "metadata": {},
   "outputs": [],
   "source": [
    "# Example usage\n",
    "metrics_to_plot = ['Knee_Angle', 'Stride_Length', 'Hip_Stability', 'Lean_Angle']  # List of metrics to plot\n",
    "plot_skating_metrics(df, metrics_to_plot)  # Call the function to plot the metrics\n"
   ]
  },
  {
   "cell_type": "code",
   "execution_count": 4,
   "id": "2e235705",
   "metadata": {},
   "outputs": [
    {
     "ename": "NameError",
     "evalue": "name 'os' is not defined",
     "output_type": "error",
     "traceback": [
      "\u001b[0;31m---------------------------------------------------------------------------\u001b[0m",
      "\u001b[0;31mNameError\u001b[0m                                 Traceback (most recent call last)",
      "Cell \u001b[0;32mIn[4], line 12\u001b[0m\n\u001b[1;32m      9\u001b[0m max_pages \u001b[38;5;241m=\u001b[39m \u001b[38;5;241m5\u001b[39m\n\u001b[1;32m     11\u001b[0m \u001b[38;5;66;03m#load NHL interview data from API if file doesn't exist / not saved already\u001b[39;00m\n\u001b[0;32m---> 12\u001b[0m \u001b[38;5;28;01mif\u001b[39;00m \u001b[43mos\u001b[49m\u001b[38;5;241m.\u001b[39mpath\u001b[38;5;241m.\u001b[39mexists(file_path):\n\u001b[1;32m     13\u001b[0m     \u001b[38;5;28mprint\u001b[39m(\u001b[38;5;124m\"\u001b[39m\u001b[38;5;124m📂 Teams CSV file found! Loading from saved file...\u001b[39m\u001b[38;5;124m\"\u001b[39m)\n\u001b[1;32m     14\u001b[0m     df_interviews \u001b[38;5;241m=\u001b[39m pd\u001b[38;5;241m.\u001b[39mread_csv(file_path)\n",
      "\u001b[0;31mNameError\u001b[0m: name 'os' is not defined"
     ]
    }
   ],
   "source": [
    "# Load NHL Interviews\n",
    "# NB --> improvements: (1) add a file_age condition, (2) add a boolean y/n refresh, (3) turn this into general function for any dataset\n",
    "\n",
    "# 📂 File path for the saved dataset (in a sibling folder)\n",
    "file_path = \"../data/all_nhl_interviews_5pages.csv\"\n",
    "\n",
    "# 🌐 URL for the NHL interviews + maximum sub-pages on main URL to scan\n",
    "main_url = \"https://mapleleafshotstove.com/leafs-news/game-day\"\n",
    "max_pages = 5\n",
    "\n",
    "#load NHL interview data from API if file doesn't exist / not saved already\n",
    "if os.path.exists(file_path):\n",
    "    print(\"📂 Teams CSV file found! Loading from saved file...\")\n",
    "    df_interviews = pd.read_csv(file_path)\n",
    "else:\n",
    "    print(\"🌍 Teams CSV file not found. Fetching data from API...\")\n",
    "    df_interviews = scrape_multiple_interviews(main_url, max_pages)\n",
    "    df_interviews.to_csv(file_path, index=False)  # Save for future use\n",
    "\n",
    "#verify\n",
    "checkDataset(df_interviews)"
   ]
  },
  {
   "cell_type": "code",
   "execution_count": null,
   "id": "3ea039c1-57f0-47c8-b399-7e3bc2a5ec17",
   "metadata": {
    "scrolled": true
   },
   "outputs": [
    {
     "name": "stdout",
     "output_type": "stream",
     "text": [
      "📌 Functions Defined in Notebook:\n",
      "get_rag_answer\n",
      "get_bm25_answer\n",
      "get_bm25_top_k_answers\n",
      "print_memory_usage\n",
      "list_variables\n",
      "delete_variables\n",
      "LossLogger\n",
      "display_html_structure\n",
      "find_html_tag\n",
      "scrape_interview\n",
      "find_interview_urls\n",
      "scrape_multiple_interviews\n",
      "clean_text\n",
      "lemmatize_text\n",
      "filter_photo_questions\n",
      "filter_long_questions\n",
      "plot_question_length_distribution\n",
      "get_answer\n",
      "get_best_answer_SBERT\n",
      "calculate_exact_match_accuracy\n",
      "mean_reciprocal_rank\n",
      "mean_reciprocal_rank_SBERT\n",
      "compute_accuracy\n",
      "compute_mrr\n",
      "evaluate_bm25\n",
      "encode_text_dpr\n",
      "get_dpr_answer\n",
      "process_batches_dpr\n",
      "evaluate_dpr\n",
      "printFunctions\n",
      "checkDataset\n",
      "read_APIResponseStructure\n",
      "show_memory_usage\n",
      "delete_dataframe\n",
      "optimize_dataframe\n",
      "remove_hidden_variables\n"
     ]
    }
   ],
   "source": [
    "printFunctions()"
   ]
  },
  {
   "cell_type": "markdown",
   "id": "2f8dc504-459d-4eae-8771-be877fe1f862",
   "metadata": {},
   "source": [
    "## **Section 4: Data Preprocessing & Feature Engineering** <a id=\"data_processing\"></a>"
   ]
  },
  {
   "cell_type": "code",
   "execution_count": null,
   "id": "aa54b17b",
   "metadata": {},
   "outputs": [
    {
     "name": "stdout",
     "output_type": "stream",
     "text": [
      "<class 'pandas.core.frame.DataFrame'>\n",
      "RangeIndex: 832 entries, 0 to 831\n",
      "Data columns (total 2 columns):\n",
      " #   Column    Non-Null Count  Dtype \n",
      "---  ------    --------------  ----- \n",
      " 0   Question  832 non-null    object\n",
      " 1   Answer    832 non-null    object\n",
      "dtypes: object(2)\n",
      "memory usage: 13.1+ KB\n"
     ]
    }
   ],
   "source": [
    "# Keep only the necessary columns - remove URL column as its not required for training\n",
    "# remove rows with missing values\n",
    "df_cleaned = df_interviews[['Question', 'Answer']].dropna() \n",
    "\n",
    "checkDataset(df_cleaned)"
   ]
  },
  {
   "cell_type": "code",
   "execution_count": null,
   "id": "f35cf98a",
   "metadata": {},
   "outputs": [
    {
     "name": "stdout",
     "output_type": "stream",
     "text": [
      "<class 'pandas.core.frame.DataFrame'>\n",
      "Index: 826 entries, 0 to 831\n",
      "Data columns (total 2 columns):\n",
      " #   Column    Non-Null Count  Dtype \n",
      "---  ------    --------------  ----- \n",
      " 0   Question  826 non-null    object\n",
      " 1   Answer    826 non-null    object\n",
      "dtypes: object(2)\n",
      "memory usage: 19.4+ KB\n"
     ]
    }
   ],
   "source": [
    "# Filter out questions that start with \"photo\" (not relevant to interview questions)\n",
    "df_cleaned = filter_photo_questions(df_cleaned)\n",
    "\n",
    "checkDataset(df_cleaned)"
   ]
  },
  {
   "cell_type": "code",
   "execution_count": null,
   "id": "bbb30e7e",
   "metadata": {},
   "outputs": [
    {
     "data": {
      "image/png": "[encoded data removed]",
      "text/plain": [
       "<Figure size 1000x600 with 1 Axes>"
      ]
     },
     "metadata": {},
     "output_type": "display_data"
    }
   ],
   "source": [
    "# Plot the distribution of question lengths to determine the maximum length for filtering\n",
    "plot_question_length_distribution(df_cleaned)"
   ]
  },
  {
   "cell_type": "code",
   "execution_count": null,
   "id": "0c9a3b60",
   "metadata": {},
   "outputs": [
    {
     "name": "stdout",
     "output_type": "stream",
     "text": [
      "<class 'pandas.core.frame.DataFrame'>\n",
      "Index: 802 entries, 1 to 831\n",
      "Data columns (total 2 columns):\n",
      " #   Column    Non-Null Count  Dtype \n",
      "---  ------    --------------  ----- \n",
      " 0   Question  802 non-null    object\n",
      " 1   Answer    802 non-null    object\n",
      "dtypes: object(2)\n",
      "memory usage: 18.8+ KB\n"
     ]
    }
   ],
   "source": [
    "# Filter out questions that are much longer than others\n",
    "df_cleaned = filter_long_questions(df_cleaned, max_length=150)\n",
    "\n",
    "checkDataset(df_cleaned)"
   ]
  },
  {
   "cell_type": "code",
   "execution_count": null,
   "id": "5121cd99",
   "metadata": {},
   "outputs": [
    {
     "name": "stdout",
     "output_type": "stream",
     "text": [
      "<class 'pandas.core.frame.DataFrame'>\n",
      "Index: 802 entries, 1 to 831\n",
      "Data columns (total 2 columns):\n",
      " #   Column    Non-Null Count  Dtype \n",
      "---  ------    --------------  ----- \n",
      " 0   Question  802 non-null    object\n",
      " 1   Answer    802 non-null    object\n",
      "dtypes: object(2)\n",
      "memory usage: 18.8+ KB\n"
     ]
    }
   ],
   "source": [
    "# Create a copy of the original DataFrame before cleaning\n",
    "# This will be used for displaying the original questions and answers\n",
    "df_original = df_cleaned.copy()\n",
    "\n",
    "checkDataset(df_original)"
   ]
  },
  {
   "cell_type": "code",
   "execution_count": null,
   "id": "74511bd5",
   "metadata": {},
   "outputs": [
    {
     "name": "stdout",
     "output_type": "stream",
     "text": [
      "                                            Question  \\\n",
      "1     rod brindamour on craig berubes coaching style   \n",
      "2  craig berube on rod brindamours coaching succe...   \n",
      "3  steven lorentz on his memories of playing for ...   \n",
      "4  lorentz on the similarities between brindamour...   \n",
      "5  berube on the challenge presented by the hurri...   \n",
      "\n",
      "                                              Answer  \n",
      "1  he never took a shift off and thats carried ov...  \n",
      "2  he has done a great job here how he played as ...  \n",
      "3  i learned a lot it was how i broke into the le...  \n",
      "4  there are a lot actually and same with paul ma...  \n",
      "5  theyve always been a tough opponent theyve bee...  \n"
     ]
    }
   ],
   "source": [
    "# Apply cleaning to both question and answer columns\n",
    "df_cleaned['Question'] = df_cleaned['Question'].apply(clean_text)\n",
    "df_cleaned['Answer'] = df_cleaned['Answer'].apply(clean_text)\n",
    "\n",
    "# Display the first few cleaned rows\n",
    "print(df_cleaned.head())"
   ]
  },
  {
   "cell_type": "code",
   "execution_count": null,
   "id": "90a9fbd0",
   "metadata": {},
   "outputs": [
    {
     "name": "stdout",
     "output_type": "stream",
     "text": [
      "                                            Question  \\\n",
      "1        rod brindamour craig berubes coaching style   \n",
      "2  craig berube rod brindamours coaching success ...   \n",
      "3  steven lorentz memory playing brindamour carolina   \n",
      "4  lorentz similarity brindamour berubes coaching...   \n",
      "5               berube challenge presented hurricane   \n",
      "\n",
      "                                              Answer  \n",
      "1  never took shift thats carried coaching doesnt...  \n",
      "2  done great job played player brought team work...  \n",
      "3  learned lot broke league tremendous coach guy ...  \n",
      "4  lot actually paul maurice last year play hard ...  \n",
      "5  theyve always tough opponent theyve really goo...  \n"
     ]
    }
   ],
   "source": [
    "# Remove stop words (common filler words) and apply lemmatization (standardize words to their base form)\n",
    "df_cleaned['Question'] = df_cleaned['Question'].apply(lemmatize_text)\n",
    "df_cleaned['Answer'] = df_cleaned['Answer'].apply(lemmatize_text)\n",
    "\n",
    "# Display the first few cleaned rows\n",
    "print(df_cleaned.head())"
   ]
  },
  {
   "cell_type": "code",
   "execution_count": null,
   "id": "42635ab2",
   "metadata": {},
   "outputs": [
    {
     "name": "stdout",
     "output_type": "stream",
     "text": [
      "Number of test questions: 81\n"
     ]
    }
   ],
   "source": [
    "# Split into 90% training and 10% testing\n",
    "df_train, df_test = train_test_split(df_cleaned, test_size=0.1, random_state=42)\n",
    "\n",
    "# Extract test questions and expected answers from the original DataFrame\n",
    "test_questions = df_original.loc[df_test.index, 'Question'].tolist()\n",
    "expected_answers = df_original.loc[df_test.index, 'Answer'].tolist()\n",
    "\n",
    "print(f\"Number of test questions: {len(test_questions)}\")\n"
   ]
  },
  {
   "cell_type": "code",
   "execution_count": null,
   "id": "8b6dd99a-64d3-4c97-afb8-00afd49e6609",
   "metadata": {},
   "outputs": [
    {
     "name": "stdout",
     "output_type": "stream",
     "text": [
      "df_interviews: 0.86 MB\n",
      "df_cleaned: 0.31 MB\n",
      "df_original: 0.73 MB\n",
      "df_train: 0.25 MB\n",
      "df_test: 0.03 MB\n"
     ]
    }
   ],
   "source": [
    "show_memory_usage()"
   ]
  },
  {
   "cell_type": "markdown",
   "id": "38d40939-d072-4814-9582-48bce2b66916",
   "metadata": {},
   "source": [
    "## **Section 5: Model 1 - Term Frequency-Inverse Document Frequency (TF-IDF)** <a id=\"logistic_model\"></a>"
   ]
  },
  {
   "cell_type": "markdown",
   "id": "918b909d-e1b1-4309-8046-9d97bfcc2462",
   "metadata": {
    "jp-MarkdownHeadingCollapsed": true
   },
   "source": [
    "### **Section 5a: Train a Model (TF-IDF)** <a id=\"tfidf_train\"></a> ###"
   ]
  },
  {
   "cell_type": "code",
   "execution_count": null,
   "id": "6c0c52a0-ba27-4f3a-aeb3-11b859db2f9e",
   "metadata": {},
   "outputs": [],
   "source": [
    "# Using the TfidfVectorizer to convert text data to numerical vectors\n",
    "# This is a common technique for text data in machine learning\n",
    "# It converts text data into a matrix of TF-IDF features\n",
    "vectorizer = TfidfVectorizer()\n",
    "\n",
    "# Fit the vectorizer on the question text data (on the training set)\n",
    "# This step calculates the IDF values for each word in the corpus\n",
    "# Fit_transform learns the vocabulary and transforms the text data into vectors\n",
    "question_vectors = vectorizer.fit_transform(df_train['Question'])"
   ]
  },
  {
   "cell_type": "markdown",
   "id": "dc0c2062-6f26-4ff3-a489-ce8c8d9401a4",
   "metadata": {
    "jp-MarkdownHeadingCollapsed": true
   },
   "source": [
    "### **Section 5b: Evaluate/Test a Model (TF-IDF)** <a id=\"tfidf_eval\"></a> ###"
   ]
  },
  {
   "cell_type": "code",
   "execution_count": null,
   "id": "69e1a06a",
   "metadata": {},
   "outputs": [
    {
     "name": "stdout",
     "output_type": "stream",
     "text": [
      "Predicted Answer: Opportunities are there. They hit some posts. They’ve missed the net a little bit. It is not clean as much at times, but overall, I am happy with the effort. They are working and doing the right things. The scoring will come.\n"
     ]
    }
   ],
   "source": [
    "# Example of predicting an answer for a question using TF-IDF vectors\n",
    "# The get_answer function uses cosine similarity to find the most similar question\n",
    "# Then returns the answer to that question\n",
    "input_question = \"How did the team perform tonight?\"\n",
    "predicted_answer = get_answer(input_question)\n",
    "print(\"Predicted Answer:\", predicted_answer)"
   ]
  },
  {
   "cell_type": "code",
   "execution_count": null,
   "id": "76f29f9c",
   "metadata": {},
   "outputs": [
    {
     "name": "stdout",
     "output_type": "stream",
     "text": [
      "Model Accuracy: 0.0\n"
     ]
    }
   ],
   "source": [
    "# Predict answers for the test questions\n",
    "predicted_answers = [get_answer(q) for q in test_questions]\n",
    "\n",
    "# Calculate the accuracy of predictions using exact match (i.e., the predicted answer matches the expected answer)\n",
    "accuracy = calculate_exact_match_accuracy(expected_answers, predicted_answers)\n",
    "print(\"Model Accuracy:\", accuracy)\n"
   ]
  },
  {
   "cell_type": "code",
   "execution_count": null,
   "id": "bebfbdfc",
   "metadata": {},
   "outputs": [
    {
     "name": "stdout",
     "output_type": "stream",
     "text": [
      "Mean Reciprocal Rank (MRR): 0.010799732287647985\n"
     ]
    }
   ],
   "source": [
    "# Compute MRR -- mean reciprocal rank\n",
    "# Fuzzier evaluation by considering the rank of the correct answer in the list of predicted answers\n",
    "# Higher MRR is better\n",
    "mrr_score = mean_reciprocal_rank(test_questions, expected_answers)\n",
    "print(\"Mean Reciprocal Rank (MRR):\", mrr_score)\n"
   ]
  },
  {
   "cell_type": "markdown",
   "id": "fe858f51",
   "metadata": {},
   "source": [
    "**Step 5: Analyze the Results**\n",
    "- **Accuracy > 70%:** Model is doing well.\n",
    "- **Accuracy < 50%:** Model needs improvement (e.g., better cleaning, using embeddings instead of TF-IDF).\n",
    "- **MRR > 0.7:** Correct answers appear in the top-2 results.\n",
    "- **MRR < 0.4:** The model is struggling to rank answers correctly.\n",
    "\n",
    "If both Exact Match = 100% and MRR = 1.0, it means (before we split test and training data):\n",
    "- The model is retrieving perfect answers with no ranking errors.\n",
    "- It’s likely overfitting or the dataset is too easy --> **test data was in the training data (previously)!**\n",
    "- In real-world Q&A tasks, MRR is a better metric than Exact Match, since correct answers can be phrased differently.\n",
    "\n",
    "If Exact Match and MRR are below 40%, \n",
    "|Issue\t|Symptoms|\tSolution|\n",
    "|--|--|--|\n",
    "|Poor text preprocessing|\tModel treats \"win\" ≠ \"winning\" ≠ \"victory\"|\tImprove text cleaning (lemmatization, stopwords)|\n",
    "|Lack of understanding |\tModel fails for paraphrased questions |\tUse SBERT or BERT embeddings |\n",
    "| Too small dataset |\tModel retrieves random answers |\tExpand dataset with more interview questions|\n",
    "|Wrong similarity metric |\tModel ranks irrelevant answers higher\t| Tune TF-IDF parameters or switch to embeddings|\n",
    "|Over-reliance on keywords |\tModel struggles with reworded questions\t|Use word embeddings instead of TF-IDF|\n",
    "\n",
    "Update: I updated model to apply lemmatization and stop words.  Exact Match stayed at 0%.  MRR went up from 1.3 to 1.6%.  Still not significant enough.  This was with a dataset that had ~200 questions.  \n",
    "\n",
    "The model accuracy got worse with ~800 records at 1% accuracy."
   ]
  },
  {
   "cell_type": "markdown",
   "id": "e0e93015-b8ac-4333-9c19-063f38474f10",
   "metadata": {},
   "source": [
    "### **Section 5c: Fine-Tune the Model (TF-LDF)**  <a id=\"tfldf_finetune\"></id>"
   ]
  },
  {
   "cell_type": "code",
   "execution_count": null,
   "id": "413b4ed0",
   "metadata": {},
   "outputs": [],
   "source": [
    "# Fine tune the TF-IDF vectorizer to improve the model performance\n",
    "# TfidfVectorizer parameters:\n",
    "# - stop_words: Remove common words\n",
    "# - ngram_range: Include word pairs (bigrams, eg \"power play\")\n",
    "# - max_df: Ignore words in 85%+ of documents (remove common words)\n",
    "# - min_df: Ignore rare words appearing in <2 docs (remove uncommon words)\n",
    "# - max_features: Limit the number of features (words) to consider\n",
    "# - sublinear_tf: Apply sublinear TF scaling (replace TF with 1 + log(TF))\n",
    "# - use_idf: Enable inverse document frequency (IDF) reweighting\n",
    "# - smooth_idf: Smooth IDF weights by adding 1 to document frequencies\n",
    "# - norm: Apply L2 normalization to feature vectors\n",
    "# - binary: Convert non-zero feature values to 1 (binary representation)\n",
    "# - token_pattern: Regular expression pattern for tokenizing words\n",
    "# - tokenizer: Custom tokenizer function (if needed, eg to keep hockey-related terms)\n",
    "# - preprocessor: Custom preprocessor function (if needed)\n",
    "# - lowercase: Convert text to lowercase\n",
    "# - encoding: Text encoding format\n",
    "# - decode_error: Error handling during text decoding\n",
    "# - strip_accents: Remove accents from characters\n",
    "# - analyzer: Custom analyzer for extracting features\n",
    "vectorizer = TfidfVectorizer(\n",
    "    stop_words='english',  # Remove common words\n",
    "    ngram_range=(1, 2),  # Include word pairs (bigrams)\n",
    "    max_df=0.85,  # Ignore words in 85%+ of documents\n",
    "    min_df=2  # Ignore rare words appearing in <2 docs\n",
    ")\n",
    "\n",
    "question_vectors = vectorizer.fit_transform(df_train['Question'])\n"
   ]
  },
  {
   "cell_type": "code",
   "execution_count": null,
   "id": "c48cb7ab",
   "metadata": {},
   "outputs": [
    {
     "name": "stdout",
     "output_type": "stream",
     "text": [
      "Model Accuracy: 0.0\n"
     ]
    }
   ],
   "source": [
    "# Predict answers for the test questions with fine-tuned vectorizer\n",
    "predicted_answers = [get_answer(q) for q in test_questions]\n",
    "\n",
    "# Calculate the accuracy of predictions using exact match (i.e., the predicted answer matches the expected answer)\n",
    "accuracy = calculate_exact_match_accuracy(expected_answers, predicted_answers)\n",
    "print(\"Model Accuracy:\", accuracy)\n"
   ]
  },
  {
   "cell_type": "code",
   "execution_count": null,
   "id": "9733f75d",
   "metadata": {},
   "outputs": [
    {
     "name": "stdout",
     "output_type": "stream",
     "text": [
      "Mean Reciprocal Rank (MRR): 0.011183230323748109\n"
     ]
    }
   ],
   "source": [
    "# Compute MRR -- mean reciprocal rank -- with fine-tuned vectorizer\n",
    "# Fuzzier evaluation by considering the rank of the correct answer in the list of predicted answers\n",
    "# Higher MRR is better\n",
    "mrr_score = mean_reciprocal_rank(test_questions, expected_answers)\n",
    "print(\"Mean Reciprocal Rank (MRR):\", mrr_score)\n"
   ]
  },
  {
   "cell_type": "markdown",
   "id": "3fe366c2",
   "metadata": {},
   "source": [
    "Changing the parameters **increased MRR from 1.6% to 3.4%** with ~200 record data set.\n",
    "\n",
    "Model accuracy got worse with 800 records - 0.1%"
   ]
  },
  {
   "cell_type": "markdown",
   "id": "ed68b147-c3d3-417b-96dd-2fe66b8336d1",
   "metadata": {},
   "source": [
    "## **Section 6: Model 2 - Sentence BERT** <a id=\"sbert_model\"></a> ##"
   ]
  },
  {
   "cell_type": "markdown",
   "id": "540df088-a2e2-4444-bca6-01d148649920",
   "metadata": {},
   "source": [
    "**What is SBERT?**\n",
    "- Understands sentence meaning instead of just individual words.\n",
    "- Handles reworded questions better than TF-IDF.\n",
    "- Uses pre-trained deep learning models to generate vector representations.\n",
    "- Works well even with small datasets.\n",
    "\n",
    "\n",
    "**Why is it better than TF-IDF and BERT?**\n",
    "|Feature\t|TF-IDF|\tBERT\t|SBERT|\n",
    "|---|---|---|---|\n",
    "|Understands Word Meaning?\t|❌ No (only counts words)|\t✅ Yes (deep contextual understanding)|\t✅ Yes (optimized for sentence similarity)|\n",
    "|Handles Synonyms?\t|❌ No|\t✅ Yes|\t✅ Yes|\n",
    "|Handles Paraphrased Questions?\t|❌ No|\t✅ Yes|\t✅ Yes|\n",
    "|Computational Efficiency\t|✅ Fast|\t❌ Slow|\t✅ Fast|\n",
    "|Requires Large Training Data?\t|❌ No|\t✅ Yes (requires fine-tuning)|\t✅ Yes (but works well out-of-the-box)|\n",
    "|Handles Short Text Well?\t|✅ Yes\t|✅ Yes\t|✅ Yes|\n",
    "|Best for Q&A Retrieval?|\t❌ No|\t✅ Yes (but slow)|\t✅ Yes (faster than BERT)|\n",
    "|Best for Sentence Similarity?|\t❌ No|\t✅ Yes\t|✅ Yes (optimized for this)|\n",
    "|Pre-trained Model Available?|\t❌ No (requires manual vectorization)\t|✅ Yes\t|✅ Yes|\n",
    "|Example Use Cases|\tSearch engines, keyword matching|\tChatbots, language understanding, deep NLP tasks\t|Chatbots, Q&A, semantic search, recommendation systems|"
   ]
  },
  {
   "cell_type": "markdown",
   "id": "cf7dabb8",
   "metadata": {},
   "source": [
    "### **Section 6a: Prepare Data for SBERT Model** <a id=\"sbert_data\"></a> ###\n",
    "\n",
    "SBERT training works with looking at the relationship between sentences.  We will prepare dataset to have:\n",
    "1. Question\n",
    "2. Correct Answer\n",
    "3. Negative Answer (a random other answer in the dataset)\n",
    "\n",
    "The SBERT model will be trained to match question closer to the correct answer then the negative answer"
   ]
  },
  {
   "cell_type": "code",
   "execution_count": null,
   "id": "d30b7279",
   "metadata": {},
   "outputs": [],
   "source": [
    "# Retrive interview dataset (cleaned) and ensure all text columns are strings\n",
    "df_cleaned[\"Question\"] = df_cleaned[\"Question\"].astype(str)\n",
    "df_cleaned[\"Answer\"] = df_cleaned[\"Answer\"].astype(str)\n",
    "\n",
    "# Shuffle answers to generate negative samples\n",
    "df_cleaned[\"Negative Answer\"] = df_cleaned[\"Answer\"].sample(frac=1, random_state=42).reset_index(drop=True)\n",
    "\n",
    "# Remove cases where positive and negative answers are the same\n",
    "df_cleaned = df_cleaned[df_cleaned[\"Answer\"] != df_cleaned[\"Negative Answer\"]]\n",
    "\n",
    "# Ensure all values are string types before passing to InputExample\n",
    "df_cleaned[\"Negative Answer\"] = df_cleaned[\"Negative Answer\"].astype(str)"
   ]
  },
  {
   "cell_type": "code",
   "execution_count": null,
   "id": "e1b45c17",
   "metadata": {},
   "outputs": [],
   "source": [
    "# Split into 80% training and 20% testing for training\n",
    "df_train, df_test = train_test_split(df_cleaned, test_size=0.2, random_state=42)"
   ]
  },
  {
   "cell_type": "code",
   "execution_count": null,
   "id": "9f36aabd",
   "metadata": {},
   "outputs": [],
   "source": [
    "# Convert to InputExample format - data structure used in SBERT for training models\n",
    "train_examples = [InputExample(texts=[row[\"Question\"], row[\"Answer\"], row[\"Negative Answer\"]]) for _, row in df_train.iterrows()]\n",
    "test_examples = [InputExample(texts=[row[\"Question\"], row[\"Answer\"], row[\"Negative Answer\"]]) for _, row in df_test.iterrows()]\n"
   ]
  },
  {
   "cell_type": "markdown",
   "id": "65c9bb6c",
   "metadata": {},
   "source": [
    "### **Section 6a: Use Pre-Trained SBERT Model - No Fine-Tuning** <a id=\"sbert_train\"></a> ###\n",
    "\n",
    "We will start by checking accuracy of pre-trained SBERT model without any fine-tuning using training data (i.e. domain-specific info related to NHL questions and answers).  In this case, we are just loading a model, and checking accuracy."
   ]
  },
  {
   "cell_type": "code",
   "execution_count": null,
   "id": "3b0cece9-41fe-433f-98ef-be505dfa9445",
   "metadata": {},
   "outputs": [
    {
     "name": "stdout",
     "output_type": "stream",
     "text": [
      "Using device: mps\n"
     ]
    }
   ],
   "source": [
    "# Check if MPS (Metal Performance Shaders) is available\n",
    "device = \"mps\" if torch.backends.mps.is_available() else \"cpu\"\n",
    "print(f\"Using device: {device}\")\n",
    "\n",
    "# Load SBERT model and move to correct device\n",
    "model = SentenceTransformer(\"all-MiniLM-L6-v2\", device=device)"
   ]
  },
  {
   "cell_type": "markdown",
   "id": "305bf316",
   "metadata": {},
   "source": [
    "Why all-MiniLM-L6-v2?\n",
    "- Fast & lightweight (smaller embedding size)\n",
    "- Optimized for sentence similarity\n",
    "- Good balance of accuracy vs speed"
   ]
  },
  {
   "cell_type": "code",
   "execution_count": null,
   "id": "efd34562",
   "metadata": {},
   "outputs": [
    {
     "name": "stdout",
     "output_type": "stream",
     "text": [
      "Model Accuracy: 0.7453\n",
      "Model MRR: 0.7727\n"
     ]
    }
   ],
   "source": [
    "# Compute accuracy\n",
    "accuracy = compute_accuracy(model, df_test)\n",
    "print(f\"Model Accuracy: {accuracy:.4f}\")\n",
    "\n",
    "# Compute MRR\n",
    "mrr_score = compute_mrr(model, df_test)\n",
    "print(f\"Model MRR: {mrr_score:.4f}\")\n",
    "\n"
   ]
  },
  {
   "cell_type": "markdown",
   "id": "d9433777-7af9-4d41-a37b-4a80be8c2bda",
   "metadata": {},
   "source": [
    "### **Section 6c: Fine-Tune SBERT with Training Data** <a id=\"sbert_hyper\"></a>\n",
    "\n",
    "This time we will fine-tune pre-trained SBERT model with NHL interview training data and check impact on accuracy."
   ]
  },
  {
   "cell_type": "code",
   "execution_count": null,
   "id": "46361a9a",
   "metadata": {},
   "outputs": [
    {
     "name": "stdout",
     "output_type": "stream",
     "text": [
      "Loss Logger Initiated!\n"
     ]
    },
    {
     "data": {
      "application/vnd.jupyter.widget-view+json": {
       "model_id": "b33d41be704a416aa7a2bd5234106c0b",
       "version_major": 2,
       "version_minor": 0
      },
      "text/plain": [
       "Computing widget examples:   0%|          | 0/1 [00:00<?, ?example/s]"
      ]
     },
     "metadata": {},
     "output_type": "display_data"
    },
    {
     "data": {
      "text/html": [
       "\n",
       "    <div>\n",
       "      \n",
       "      <progress value='641' max='641' style='width:300px; height:20px; vertical-align: middle;'></progress>\n",
       "      [641/641 01:05, Epoch 1/1]\n",
       "    </div>\n",
       "    <table border=\"1\" class=\"dataframe\">\n",
       "  <thead>\n",
       " <tr style=\"text-align: left;\">\n",
       "      <th>Step</th>\n",
       "      <th>Training Loss</th>\n",
       "    </tr>\n",
       "  </thead>\n",
       "  <tbody>\n",
       "    <tr>\n",
       "      <td>500</td>\n",
       "      <td>4.910300</td>\n",
       "    </tr>\n",
       "  </tbody>\n",
       "</table><p>"
      ],
      "text/plain": [
       "<IPython.core.display.HTML object>"
      ]
     },
     "metadata": {},
     "output_type": "display_data"
    }
   ],
   "source": [
    "# Define DataLoader\n",
    "train_dataloader = DataLoader(train_examples, shuffle=True, batch_size=1, pin_memory=False, num_workers=0)\n",
    "\n",
    "# Define loss function: compares question vs. current answer vs. negative answer\n",
    "train_loss = losses.TripletLoss(model)\n",
    "\n",
    "# Initiate callback for logging losses during training process\n",
    "loss_logger = LossLogger(log_interval=10)\n",
    "\n",
    "# Train model with logging\n",
    "try:\n",
    "    model.fit(\n",
    "        train_objectives=[(train_dataloader, train_loss)],\n",
    "        epochs=1,\n",
    "        warmup_steps=100,\n",
    "        max_grad_norm=0.5,  # Prevents gradient explosion\n",
    "        show_progress_bar=True,\n",
    "        callback=loss_logger  # Manually pass batch callback\n",
    "    )\n",
    "except Exception as e:\n",
    "    import traceback\n",
    "    print(\"Error:\", e)\n",
    "    traceback.print_exc()"
   ]
  },
  {
   "cell_type": "code",
   "execution_count": null,
   "id": "0598b352",
   "metadata": {},
   "outputs": [
    {
     "name": "stdout",
     "output_type": "stream",
     "text": [
      "Model Accuracy: 0.7516\n",
      "Model MRR: 0.7481\n"
     ]
    }
   ],
   "source": [
    "# Compute accuracy\n",
    "accuracy = compute_accuracy(model, df_test)\n",
    "print(f\"Model Accuracy: {accuracy:.4f}\")\n",
    "\n",
    "# Compute MRR\n",
    "mrr_score = compute_mrr(model, df_test)\n",
    "print(f\"Model MRR: {mrr_score:.4f}\")"
   ]
  },
  {
   "cell_type": "markdown",
   "id": "76aa43e8",
   "metadata": {},
   "source": [
    "The MRR dropped from 77% to 75% after fine-tuning (i.e. the pre-trained / generic SBERT model was better!).  Why? \n",
    "\n",
    "1. **Not Enough Training Data**\n",
    "    1. SBERT is already pre-trained on a large, diverse dataset with general sentence relationships.\n",
    "    2. If your NHL dataset is too small (~800 examples), the model may overfit to the small sample, losing generalization ability.\n",
    "    3. *Fix:* \n",
    "        1. Try adding more training data (more interview Q&A pairs\n",
    "        2. Consider data augmentation (e.g., paraphrasing questions and answers using NLP).\n",
    "2. **Overfitting to Training Data**\n",
    "    1. When fine-tuning, the model may have memorized the training data instead of learning general NHL interview patterns.\n",
    "    2. This could cause it to perform well on training but poorly on test data.\n",
    "    3. *Fix:*\n",
    "        1. Use early stopping (stop training when validation loss stops improving).\n",
    "        2. Regularization techniques:\n",
    "            1. Reduce epochs (e.g., try 0.5-1 epoch instead of 2-3).\n",
    "            2. Increase dropout rate (SBERT uses dropout layers to prevent overfitting).\n",
    "3. **The Pre-Trained Model Was Already \"Good Enough\"**\n",
    "    1. SBERT is trained on diverse sentence pairs, including question-answering datasets.\n",
    "    2. Your NHL dataset may not be different enough from SBERT’s original training set, so fine-tuning doesn’t add much value and instead distorts the pre-trained weights.\n",
    "    3. *Fix:*\n",
    "        1. Instead of fine-tuning all layers, try only updating the last few layers (freeze=True for earlier layers).\n",
    "        2. Use \"adapter layers\" (lightweight layers added to SBERT without overwriting pre-trained knowledge).\n",
    "4. **Incorrect Training Setup**\n",
    "    1. You used Triplet Loss, which forces the model to distinguish between:\n",
    "        1. Question → Correct Answer (high similarity)\n",
    "        2. Question → Negative Answer (low similarity)\n",
    "    2. If your negative samples are too similar to the correct answers, the model may struggle.\n",
    "    3. Fix:\n",
    "        1. Make sure negative answers are truly incorrect (not semantically similar to correct answers).\n",
    "        2. Experiment with other loss functions:\n",
    "            1. MultipleNegativesRankingLoss (better for ranking tasks)\n",
    "            2. ContrastiveLoss (may work better for answer retrieval)\n",
    "5. Learning Rate May Be Too High\n",
    "    1. If the learning rate is too high, the model may make big jumps, forgetting useful pre-trained knowledge.\n",
    "    2. If it’s too low, the model may not learn anything meaningful.\n",
    "    3. Fix:\n",
    "        1. Try lowering the learning rate (1e-5 instead of 2e-5).\n",
    "        2. Use slower warmup steps (e.g., increase warmup_steps from 100 to 200)."
   ]
  },
  {
   "cell_type": "markdown",
   "id": "f82463a0",
   "metadata": {},
   "source": [
    "### **Section 6d: Optimize SBERT** <a id=\"sbert_optimize\"></a>\n",
    "\n",
    "Try to improve SBERT performance over baseline pre-trained model by:\n",
    "1. Change loss function from TripletLoss to MultipleNegativesRankingLoss --> ranks correct answers higher than negative, makes training faster\n",
    "2. Freeze earlier layers of neural net --> first layers already encode general sentence structure that the pre-trained SBERT does well.  We only wnat to fine-tune later layers with NHL-specific knowledge.\n",
    "3. Lower learning rate --> if LR is too high, model may forget pre-trained knowledge (skips too quickly)\n",
    "4. Add more training data with bigger training set OR by augmenting data (eg paraphrasing, synonyms)\n",
    "5. Try larger pre-trained SBERT model (more parameters to understand meaning of interview data)"
   ]
  },
  {
   "cell_type": "markdown",
   "id": "36fbefd4",
   "metadata": {},
   "source": [
    "**Trial 1: Change Loss Function**"
   ]
  },
  {
   "cell_type": "code",
   "execution_count": null,
   "id": "c02fa761",
   "metadata": {},
   "outputs": [],
   "source": [
    "# Re-load SBERT model and move to correct device\n",
    "model = SentenceTransformer(\"all-MiniLM-L6-v2\", device=device)"
   ]
  },
  {
   "cell_type": "code",
   "execution_count": null,
   "id": "9f9651a7",
   "metadata": {},
   "outputs": [],
   "source": [
    "# change loss function \n",
    "train_loss = losses.MultipleNegativesRankingLoss(model)"
   ]
  },
  {
   "cell_type": "code",
   "execution_count": null,
   "id": "683161ed",
   "metadata": {},
   "outputs": [
    {
     "name": "stdout",
     "output_type": "stream",
     "text": [
      "Skipped model fit\n"
     ]
    }
   ],
   "source": [
    "run_trial = False\n",
    "# Re-train model\n",
    "try:\n",
    "    if(run_trial):\n",
    "        model.fit(\n",
    "            train_objectives=[(train_dataloader, train_loss)],\n",
    "            epochs=1,\n",
    "            warmup_steps=100,\n",
    "            max_grad_norm=0.5,  # Prevents gradient explosion\n",
    "            show_progress_bar=True,\n",
    "            callback=loss_logger  # Manually pass batch callback\n",
    "        )\n",
    "    else:  \n",
    "        print(\"Skipped model fit\")\n",
    "except Exception as e:\n",
    "    print(f\"Error: {e}\")\n"
   ]
  },
  {
   "cell_type": "code",
   "execution_count": null,
   "id": "b7337d75",
   "metadata": {},
   "outputs": [],
   "source": [
    "run_trial = False\n",
    "\n",
    "if(run_trial):\n",
    "    # Compute accuracy\n",
    "    accuracy = compute_accuracy(model, df_test)\n",
    "    print(f\"Model Accuracy: {accuracy:.4f}\")\n",
    "\n",
    "    # Compute MRR\n",
    "    mrr_score = compute_mrr(model, df_test)\n",
    "    print(f\"Model MRR: {mrr_score:.4f}\")"
   ]
  },
  {
   "cell_type": "markdown",
   "id": "c2adffec",
   "metadata": {},
   "source": [
    "**Trial 2: Freeze Earlier Layers**\n",
    "\n",
    "Trial 1 (loss function) + Freeze layers "
   ]
  },
  {
   "cell_type": "code",
   "execution_count": null,
   "id": "ef062c29",
   "metadata": {},
   "outputs": [],
   "source": [
    "# Freeze the first 4 layers of the model - i.e. turn off SGD\n",
    "for param in model[0].auto_model.encoder.layer[:4].parameters():\n",
    "    param.requires_grad = False"
   ]
  },
  {
   "cell_type": "code",
   "execution_count": null,
   "id": "cf0354bf",
   "metadata": {},
   "outputs": [
    {
     "name": "stdout",
     "output_type": "stream",
     "text": [
      "Skipped model fine-tuning\n"
     ]
    }
   ],
   "source": [
    "run_trial = False\n",
    "# Re-train model\n",
    "try:\n",
    "    if(run_trial):\n",
    "        model.fit(\n",
    "            train_objectives=[(train_dataloader, train_loss)],\n",
    "            epochs=1,\n",
    "            warmup_steps=100,\n",
    "            max_grad_norm=0.5,  # Prevents gradient explosion\n",
    "            show_progress_bar=True,\n",
    "            callback=loss_logger  # Manually pass batch callback\n",
    "        )\n",
    "    else:\n",
    "        print(\"Skipped model fine-tuning\")\n",
    "except Exception as e:\n",
    "    print(f\"Error: {e}\")"
   ]
  },
  {
   "cell_type": "code",
   "execution_count": null,
   "id": "1a0a0b38",
   "metadata": {},
   "outputs": [],
   "source": [
    "run_trial = False\n",
    "\n",
    "if(run_trial):\n",
    "    # Compute accuracy\n",
    "    accuracy = compute_accuracy(model, df_test)\n",
    "    print(f\"Model Accuracy: {accuracy:.4f}\")\n",
    "\n",
    "    # Compute MRR\n",
    "    mrr_score = compute_mrr(model, df_test)\n",
    "    print(f\"Model MRR: {mrr_score:.4f}\")"
   ]
  },
  {
   "cell_type": "markdown",
   "id": "699252e3",
   "metadata": {},
   "source": [
    "**Trial 3: Lower Learning Rate**\n",
    "\n",
    "Trial 1 & 2 + Lower Learning Rate (cumulative)"
   ]
  },
  {
   "cell_type": "code",
   "execution_count": null,
   "id": "e8823b70",
   "metadata": {},
   "outputs": [
    {
     "name": "stdout",
     "output_type": "stream",
     "text": [
      "Skipped model fine-tuning\n"
     ]
    }
   ],
   "source": [
    "run_trial = False\n",
    "# Re-train model\n",
    "if(run_trial):\n",
    "    model.fit(\n",
    "        train_objectives=[(train_dataloader, train_loss)],\n",
    "        epochs=1,  \n",
    "        warmup_steps=200,  # Increased for smoother transition\n",
    "        max_grad_norm=0.5,  \n",
    "        optimizer_params={'lr': 1e-5},  # Lowered learning rate\n",
    "        show_progress_bar=True\n",
    "    )\n",
    "else:\n",
    "    print(\"Skipped model fine-tuning\")"
   ]
  },
  {
   "cell_type": "markdown",
   "id": "cf15ee7b",
   "metadata": {},
   "source": [
    "**Trial 4: More Training Data**\n",
    "\n",
    "Trial 1/2/3 + more training data"
   ]
  },
  {
   "cell_type": "code",
   "execution_count": null,
   "id": "d4c0dad9",
   "metadata": {},
   "outputs": [],
   "source": [
    "#re-load SBERT pre-trained model\n",
    "base_model = SentenceTransformer(\"all-MiniLM-L6-v2\", device=device)"
   ]
  },
  {
   "cell_type": "code",
   "execution_count": null,
   "id": "0f388f6e",
   "metadata": {},
   "outputs": [
    {
     "name": "stdout",
     "output_type": "stream",
     "text": [
      "📂 Teams CSV file found! Loading from saved file...\n"
     ]
    }
   ],
   "source": [
    "# Get more training data from API or CSV (if saved)\n",
    "\n",
    "# 📂 File path for the saved dataset (in a sibling folder)\n",
    "file_path = \"../data/all_nhl_interviews_20pages.csv\"\n",
    "\n",
    "# 🌐 URL for the NHL interviews + maximum sub-pages on main URL to scan\n",
    "main_url = \"https://mapleleafshotstove.com/leafs-news/game-day\"\n",
    "max_pages = 20\n",
    "\n",
    "#load NHL interview data from API if file doesn't exist / not saved already\n",
    "if os.path.exists(file_path):\n",
    "    print(\"📂 Teams CSV file found! Loading from saved file...\")\n",
    "    df_interviews_lg = pd.read_csv(file_path)\n",
    "else:\n",
    "    print(\"🌍 Teams CSV file not found. Fetching data from API...\")\n",
    "    df_interviews_lg = scrape_multiple_interviews(main_url, max_pages)\n",
    "    df_interviews_lg.to_csv(file_path, index=False)  # Save for future use\n"
   ]
  },
  {
   "cell_type": "code",
   "execution_count": null,
   "id": "db376a05",
   "metadata": {},
   "outputs": [
    {
     "name": "stdout",
     "output_type": "stream",
     "text": [
      "<class 'pandas.core.frame.DataFrame'>\n",
      "RangeIndex: 2605 entries, 0 to 2604\n",
      "Data columns (total 3 columns):\n",
      " #   Column    Non-Null Count  Dtype \n",
      "---  ------    --------------  ----- \n",
      " 0   URL       2605 non-null   object\n",
      " 1   Question  2597 non-null   object\n",
      " 2   Answer    2605 non-null   object\n",
      "dtypes: object(3)\n",
      "memory usage: 61.2+ KB\n"
     ]
    }
   ],
   "source": [
    "checkDataset(df_interviews_lg)"
   ]
  },
  {
   "cell_type": "code",
   "execution_count": null,
   "id": "84495576",
   "metadata": {},
   "outputs": [],
   "source": [
    "# Data pre-processing for training\n",
    "\n",
    "# Keep only the necessary columns - remove URL column as its not required for training\n",
    "# remove rows with missing values\n",
    "df_cleaned_lg = df_interviews_lg[['Question', 'Answer']].dropna() \n",
    "\n",
    "# Filter out questions that start with \"photo\" (not relevant to interview questions)\n",
    "df_cleaned_lg = filter_photo_questions(df_cleaned_lg)\n",
    "\n",
    "# Filter out questions that are much longer than others\n",
    "df_cleaned_lg = filter_long_questions(df_cleaned_lg, max_length=150)\n",
    "\n",
    "# This will be used for displaying the original questions and answers\n",
    "df_original_lg = df_cleaned_lg.copy()\n",
    "\n",
    "# Apply cleaning to both question and answer columns\n",
    "df_cleaned_lg['Question'] = df_cleaned_lg['Question'].apply(clean_text)\n",
    "df_cleaned_lg['Answer'] = df_cleaned_lg['Answer'].apply(clean_text)\n",
    "\n",
    "# Remove stop words (common filler words) and apply lemmatization (standardize words to their base form)\n",
    "df_cleaned_lg['Question'] = df_cleaned_lg['Question'].apply(lemmatize_text)\n",
    "df_cleaned_lg['Answer'] = df_cleaned_lg['Answer'].apply(lemmatize_text)"
   ]
  },
  {
   "cell_type": "code",
   "execution_count": null,
   "id": "404b2613",
   "metadata": {},
   "outputs": [],
   "source": [
    "# Prepare (Question, Correct Answer, Negative Answer) for training\n",
    "\n",
    "# Retrive interview dataset (cleaned) and ensure all text columns are strings\n",
    "df_cleaned_lg[\"Question\"] = df_cleaned_lg[\"Question\"].astype(str)\n",
    "df_cleaned_lg[\"Answer\"] = df_cleaned_lg[\"Answer\"].astype(str)\n",
    "\n",
    "# Shuffle answers to generate negative samples\n",
    "df_cleaned_lg[\"Negative Answer\"] = df_cleaned_lg[\"Answer\"].sample(frac=1, random_state=42).reset_index(drop=True)\n",
    "\n",
    "# Remove cases where positive and negative answers are the same\n",
    "df_cleaned_lg = df_cleaned_lg[df_cleaned_lg[\"Answer\"] != df_cleaned_lg[\"Negative Answer\"]]\n",
    "\n",
    "# Ensure all values are string types before passing to InputExample\n",
    "df_cleaned_lg[\"Negative Answer\"] = df_cleaned_lg[\"Negative Answer\"].astype(str)"
   ]
  },
  {
   "cell_type": "code",
   "execution_count": null,
   "id": "43b1fa58",
   "metadata": {},
   "outputs": [],
   "source": [
    "# Split into 80% training and 20% testing for training\n",
    "df_train_lg, df_test_lg = train_test_split(df_cleaned_lg, test_size=0.2, random_state=42)"
   ]
  },
  {
   "cell_type": "code",
   "execution_count": null,
   "id": "aebca620",
   "metadata": {},
   "outputs": [],
   "source": [
    "# Convert to InputExample format - data structure used in SBERT for training models\n",
    "train_examples_lg = [InputExample(texts=[row[\"Question\"], row[\"Answer\"], row[\"Negative Answer\"]]) for _, row in df_train_lg.iterrows()]\n",
    "test_examples_lg = [InputExample(texts=[row[\"Question\"], row[\"Answer\"], row[\"Negative Answer\"]]) for _, row in df_test_lg.iterrows()]\n"
   ]
  },
  {
   "cell_type": "code",
   "execution_count": null,
   "id": "c7d028c6",
   "metadata": {},
   "outputs": [],
   "source": [
    "# Freeze the first 4 layers of the model - i.e. turn off SGD\n",
    "for param in base_model[0].auto_model.encoder.layer[:4].parameters():\n",
    "    param.requires_grad = False"
   ]
  },
  {
   "cell_type": "code",
   "execution_count": null,
   "id": "c8ecb5fb",
   "metadata": {},
   "outputs": [
    {
     "name": "stdout",
     "output_type": "stream",
     "text": [
      "Loss Logger Initiated!\n"
     ]
    },
    {
     "data": {
      "application/vnd.jupyter.widget-view+json": {
       "model_id": "4fba43bbd97e4655b26ae91cd320200c",
       "version_major": 2,
       "version_minor": 0
      },
      "text/plain": [
       "Computing widget examples:   0%|          | 0/1 [00:00<?, ?example/s]"
      ]
     },
     "metadata": {},
     "output_type": "display_data"
    },
    {
     "data": {
      "text/html": [
       "\n",
       "    <div>\n",
       "      \n",
       "      <progress value='2005' max='2005' style='width:300px; height:20px; vertical-align: middle;'></progress>\n",
       "      [2005/2005 02:59, Epoch 1/1]\n",
       "    </div>\n",
       "    <table border=\"1\" class=\"dataframe\">\n",
       "  <thead>\n",
       " <tr style=\"text-align: left;\">\n",
       "      <th>Step</th>\n",
       "      <th>Training Loss</th>\n",
       "    </tr>\n",
       "  </thead>\n",
       "  <tbody>\n",
       "    <tr>\n",
       "      <td>500</td>\n",
       "      <td>4.923100</td>\n",
       "    </tr>\n",
       "    <tr>\n",
       "      <td>1000</td>\n",
       "      <td>4.894000</td>\n",
       "    </tr>\n",
       "    <tr>\n",
       "      <td>1500</td>\n",
       "      <td>4.869100</td>\n",
       "    </tr>\n",
       "    <tr>\n",
       "      <td>2000</td>\n",
       "      <td>4.842300</td>\n",
       "    </tr>\n",
       "  </tbody>\n",
       "</table><p>"
      ],
      "text/plain": [
       "<IPython.core.display.HTML object>"
      ]
     },
     "metadata": {},
     "output_type": "display_data"
    }
   ],
   "source": [
    "# Define DataLoader\n",
    "train_dataloader_lg = DataLoader(train_examples_lg, shuffle=True, batch_size=1, pin_memory=False, num_workers=0)\n",
    "\n",
    "# Define loss function: compares question vs. current answer vs. negative answer\n",
    "train_loss = losses.TripletLoss(base_model)\n",
    "\n",
    "# Initiate callback for logging losses during training process\n",
    "loss_logger = LossLogger(log_interval=10)\n",
    "\n",
    "# Train model with logging\n",
    "try:\n",
    "    top_sbert_model = base_model.fit(\n",
    "        train_objectives=[(train_dataloader_lg, train_loss)],\n",
    "        epochs=1,\n",
    "        warmup_steps=100,\n",
    "        max_grad_norm=0.5,  # Prevents gradient explosion\n",
    "        show_progress_bar=True,\n",
    "        callback=loss_logger  # Manually pass batch callback\n",
    "    )\n",
    "except Exception as e:\n",
    "    print(f\"Error: {e}\")\n"
   ]
  },
  {
   "cell_type": "code",
   "execution_count": null,
   "id": "346dd06c",
   "metadata": {},
   "outputs": [
    {
     "name": "stdout",
     "output_type": "stream",
     "text": [
      "Model Accuracy: 0.7453 for 641 size training data\n",
      "Model MRR: 0.7727 for 641 size training data\n"
     ]
    }
   ],
   "source": [
    "# Compute accuracy\n",
    "accuracy = compute_accuracy(model, df_test)\n",
    "print(f\"Model Accuracy: {accuracy:.4f} for {df_train.shape[0]} size training data\")\n",
    "\n",
    "# Compute MRR\n",
    "mrr_score = compute_mrr(model, df_test)\n",
    "print(f\"Model MRR: {mrr_score:.4f} for {df_train.shape[0]} size training data\")"
   ]
  },
  {
   "cell_type": "markdown",
   "id": "04cb281d",
   "metadata": {},
   "source": [
    "**Trial 5: Use a larger SBERT model**\n",
    "\n",
    "\"all-mpnet-base-v2\" performs better for ranking tasks than \"all-MiniLM-L6-v2\".\n",
    "\n",
    "Took up 25GB RAM and crashed on Apple M4 / MPS CPU.  The smaller model took up 15GB RAM and was OK."
   ]
  },
  {
   "cell_type": "code",
   "execution_count": null,
   "id": "b1a88611",
   "metadata": {},
   "outputs": [],
   "source": [
    "#load different (larger) SBERT pre-trained model\n",
    "model = SentenceTransformer(\"all-mpnet-base-v2\", device=device)"
   ]
  },
  {
   "cell_type": "code",
   "execution_count": null,
   "id": "aebc1518",
   "metadata": {},
   "outputs": [
    {
     "name": "stdout",
     "output_type": "stream",
     "text": [
      "Skipped model fine-tuning\n"
     ]
    }
   ],
   "source": [
    "# loss function \n",
    "train_loss = losses.MultipleNegativesRankingLoss(model)\n",
    "\n",
    "run_trial = False\n",
    "# Re-train model\n",
    "if(run_trial):\n",
    "    model.fit(\n",
    "        train_objectives=[(train_dataloader, train_loss)],\n",
    "        epochs=1,  \n",
    "        warmup_steps=200,  # Increased for smoother transition\n",
    "        max_grad_norm=0.5,  \n",
    "        optimizer_params={'lr': 1e-5},  # Lowered learning rate\n",
    "        show_progress_bar=True\n",
    "    )\n",
    "else:\n",
    "    print(\"Skipped model fine-tuning\")"
   ]
  },
  {
   "cell_type": "code",
   "execution_count": null,
   "id": "1d877d3a",
   "metadata": {},
   "outputs": [],
   "source": [
    "run_trial = False\n",
    "\n",
    "if(run_trial):\n",
    "    # Compute accuracy\n",
    "    accuracy = compute_accuracy(model, df_test)\n",
    "    print(f\"Model Accuracy: {accuracy:.4f} for {df_train.shape[0]} size training data\")\n",
    "\n",
    "    # Compute MRR\n",
    "    mrr_score = compute_mrr(model, df_test)\n",
    "    print(f\"Model MRR: {mrr_score:.4f} for {df_train.shape[0]} size training data\")"
   ]
  },
  {
   "cell_type": "markdown",
   "id": "b55814d7",
   "metadata": {},
   "source": [
    "**Overall - training with more data and freezing lower layers (trial 2 and 4) improved accuracy.  Larger model can't run on my machine, and LR and loss functions impact were immaterial.**\n",
    "\n",
    "**Use trial 4 model for deployment**"
   ]
  },
  {
   "cell_type": "markdown",
   "id": "e684e6e7",
   "metadata": {},
   "source": [
    "## **Section 7: Model 3 - BM25**<a id=\"bm25\"></a>\n",
    "\n",
    "**BM25 (Best Matching 25)**\n",
    "- An improved TF-IDF with better term weighting and ranking for ranking relevant answers.\n",
    "- Great for retrieval tasks when you have a large dataset.\n",
    "- Implement with rank_bm25 from the rank_bm25 library."
   ]
  },
  {
   "cell_type": "code",
   "execution_count": null,
   "id": "de13a532",
   "metadata": {},
   "outputs": [],
   "source": [
    "# Prepare data for BM25 model\n",
    "# Splits each answer into a list of words basd on whitespace as default\n",
    "# Result is a list of list of answers, where each inner list is the words/tokens of an answer\n",
    "# Starts with large dataset (20 pages; n=2000); both training and test data because its looking at all answers to choose from\n",
    "tokenized_answers = [answer.split() for answer in df_cleaned_lg[\"Answer\"].tolist()]"
   ]
  },
  {
   "cell_type": "code",
   "execution_count": null,
   "id": "47347ee9",
   "metadata": {},
   "outputs": [],
   "source": [
    "#Run BM25 model on the training data (answer tokens)\n",
    "bm25 = BM25Okapi(tokenized_answers)"
   ]
  },
  {
   "cell_type": "code",
   "execution_count": null,
   "id": "083cd58f",
   "metadata": {},
   "outputs": [
    {
     "name": "stdout",
     "output_type": "stream",
     "text": [
      "Question: granato knew matthew could handle toronto market enjoy huge success nhler\n",
      "Predicted Answer: worked best possibly could worked going process didnt look team besides toronto knew door closed didnt much choice regard door soon door closed quickly looked edmonton said team place want wife got permission went visited right away knew spot key thing think grow family important hockeywise dream fit knew start would fit best would best chance win ultimately want win stanley cup opportunity play connor leon nuge dream scenario worked best possibly could\n",
      "Correct Answer: really simple coach challenge player every day guy across ice colour jersey going challenge harder coach probably need play ahl auston around nhl didnt feel player going break confidence ended struggling certain night would want go back play player tell working want player fix right essence process happens guy enter league confident enough opponent across skill level high dynamic removed night lost confidence didnt play well knew could fix talented player\n",
      "Predicted Answer Score: 558.0000\n",
      "================================================================================\n",
      "Question: keefe history heated rivalry game jet\n",
      "Predicted Answer: storied rivalry ontario theyre always exciting game intense true rivalry team playing something creates lot passion game definitely know buzz whenever theleafsand senator play going buzz town one tonight rightfully\n",
      "Correct Answer: seems like maybe stuff left canadian division played 10 time something like also two competitive highlyskilled team lot backandforth type game new coaching staff winnipeg think lot element would remain side think give u different look ability depth change look team particular depth team heading season camp something thought would different time feel could use bit boost energy little veteran presence team\n",
      "Predicted Answer Score: 1675.0000\n",
      "================================================================================\n",
      "Question: giordano reason offense drying\n",
      "Predicted Answer: holl giordano together taken much allowed sandin liljegren find game sandinliljegren really come come together u support defensemen received forward really helped everybody else better includes goaltender everybody kind covering forward slip making big play forward slipping goalie making save giving u life confidence coming together reason found success\n",
      "Correct Answer: hasnt felt sync much year sometimes oversimplify start shooting puck angle get net hopefully get ugly one way get u going five five\n",
      "Predicted Answer Score: 2382.0000\n",
      "================================================================================\n",
      "Question: matthew knies role complementing auston matthew mitch marner\n",
      "Predicted Answer: obviously wherever put mitch line done really well thats something confident comfortable mitch auston together well stack line game havent worked marner nylander together lot thats something wanted give little bit time think way matthew jarnkrok come together theyve played late give opportunity let continue develop also knowing matthew bunting really well together bunting game trending right direction look ive wanting work towards\n",
      "Correct Answer: want get puck wall earn puck back key success u right get wall get middle around net creating chaos goalscoring ability come let dance let work role around net screen goalie little thing make life little bit easier really dangerous puck goal get puck much possible make play find good area find put back net\n",
      "Predicted Answer Score: 2071.0000\n",
      "================================================================================\n",
      "Question: matthew team bounced back last year playoff disappointment best season franchise history\n",
      "Predicted Answer: greatest challenge played last week good night building theyre great team good season good team league number year good reason would expect bounce back tonight bounced back played well since played expect best term challenge great goaltending special team combine power play penalty kill among best league dangerous player dominate play lot manage hope would get another good start tonight good start day v pittsburgh good start new york try take hold game early\n",
      "Correct Answer: think thats always strive continue grow continue get better maybe extra motivation past loss stuff like think goal every year whether individually team get better push best version every day think recognize obviously team success come first thats trying build trying grow playing long time spring\n",
      "Predicted Answer Score: 627.0000\n",
      "================================================================================\n",
      "BM25 Test Accuracy: 0.0000\n"
     ]
    }
   ],
   "source": [
    "# Compute BM25 accuracy on the test set\n",
    "bm25_accuracy = evaluate_bm25(df_test_lg, bm25, df_cleaned_lg)\n",
    "print(f\"BM25 Test Accuracy: {bm25_accuracy:.4f}\")"
   ]
  },
  {
   "cell_type": "code",
   "execution_count": null,
   "id": "a6726541",
   "metadata": {},
   "outputs": [
    {
     "name": "stdout",
     "output_type": "stream",
     "text": [
      "Question: What are the keys to the game?\n",
      "BM25 Answer: I think it is just experience. When he first came in, he was 18. He has learned a lot in the last couple of years. It hasn’t been easy for him with injuries and the way the world kind of shifted as he was entering the league. It is not easy mentally or physically going through that, but he has looked really confident so far. I think the biggest thing for him is that sometimes you try too hard and it almost works against you where you are trying, forcing, pushing, and wanting it so bad. Sometimes you just have to kind of relax out there and play your game — work hard, play smart, and don’t try to force the issue too much. I think in this camp he has done a really good job of finding his game. When you score a couple of goals, you get that confidence. That has been great to see.\n"
     ]
    }
   ],
   "source": [
    "# Test BM25\n",
    "query = \"What are the keys to the game?\"\n",
    "print(f\"Question: {query}\")\n",
    "print(\"BM25 Answer:\", get_bm25_answer(query, bm25))"
   ]
  },
  {
   "cell_type": "code",
   "execution_count": null,
   "id": "7c1e1441",
   "metadata": {},
   "outputs": [
    {
     "name": "stdout",
     "output_type": "stream",
     "text": [
      "Question: What are the keys to the game?\n",
      "BM25 Answer: [2604    He moves pucks well. He has played in the leag...\n",
      "863     Yeah, it was just a really awkward situation. ...\n",
      "870     With Dermott and Engvall coming back in, those...\n",
      "Name: Answer, dtype: object, 2604    He moves pucks well. He has played in the leag...\n",
      "863     Yeah, it was just a really awkward situation. ...\n",
      "870     With Dermott and Engvall coming back in, those...\n",
      "Name: Answer, dtype: object, 2604    He moves pucks well. He has played in the leag...\n",
      "863     Yeah, it was just a really awkward situation. ...\n",
      "870     With Dermott and Engvall coming back in, those...\n",
      "Name: Answer, dtype: object]\n"
     ]
    }
   ],
   "source": [
    "# Test BM25\n",
    "query = \"What are the keys to the game?\"\n",
    "top_k = 3\n",
    "print(f\"Question: {query}\")\n",
    "print(\"BM25 Answer:\", get_bm25_top_k_answers(query, bm25, top_k))"
   ]
  },
  {
   "cell_type": "markdown",
   "id": "542505f6",
   "metadata": {},
   "source": [
    "## **Section 8: Model 4 - Dense Passage Retrieval (DPR)**<a id=\"dpr\"></a>\n",
    "\n",
    "**DPR (Dense Passage Retrieval)**\n",
    "- DPR encodes questions and answers into embeddings, using deep learning for better similarity ranking.\n",
    "- Unlike TF-IDF or BM25, DPR uses deep learning embeddings for better retrieval.\n",
    "- Pre-trained by Facebook AI on large datasets.\n",
    "- Available via Hugging Face’s transformers library.\n",
    "\n",
    "**Limitations**\n",
    "- Pre-trained model we used (single-nq-base) has 512 character limit - most answers got cut off\n",
    "- "
   ]
  },
  {
   "cell_type": "code",
   "execution_count": null,
   "id": "82ecdaa6",
   "metadata": {},
   "outputs": [
    {
     "name": "stderr",
     "output_type": "stream",
     "text": [
      "Some weights of the model checkpoint at facebook/dpr-question_encoder-single-nq-base were not used when initializing DPRQuestionEncoder: ['question_encoder.bert_model.pooler.dense.bias', 'question_encoder.bert_model.pooler.dense.weight']\n",
      "- This IS expected if you are initializing DPRQuestionEncoder from the checkpoint of a model trained on another task or with another architecture (e.g. initializing a BertForSequenceClassification model from a BertForPreTraining model).\n",
      "- This IS NOT expected if you are initializing DPRQuestionEncoder from the checkpoint of a model that you expect to be exactly identical (initializing a BertForSequenceClassification model from a BertForSequenceClassification model).\n",
      "Some weights of the model checkpoint at facebook/dpr-ctx_encoder-single-nq-base were not used when initializing DPRContextEncoder: ['ctx_encoder.bert_model.pooler.dense.bias', 'ctx_encoder.bert_model.pooler.dense.weight']\n",
      "- This IS expected if you are initializing DPRContextEncoder from the checkpoint of a model trained on another task or with another architecture (e.g. initializing a BertForSequenceClassification model from a BertForPreTraining model).\n",
      "- This IS NOT expected if you are initializing DPRContextEncoder from the checkpoint of a model that you expect to be exactly identical (initializing a BertForSequenceClassification model from a BertForSequenceClassification model).\n",
      "The tokenizer class you load from this checkpoint is not the same type as the class this function is called from. It may result in unexpected tokenization. \n",
      "The tokenizer class you load from this checkpoint is 'DPRQuestionEncoderTokenizer'. \n",
      "The class this function is called from is 'DPRContextEncoderTokenizer'.\n"
     ]
    }
   ],
   "source": [
    "# Load DPR models & tokenizers if they are not already loaded\n",
    "question_encoder = DPRQuestionEncoder.from_pretrained(\"facebook/dpr-question_encoder-single-nq-base\")\n",
    "context_encoder = DPRContextEncoder.from_pretrained(\"facebook/dpr-ctx_encoder-single-nq-base\")\n",
    "question_tokenizer = DPRQuestionEncoderTokenizer.from_pretrained(\"facebook/dpr-question_encoder-single-nq-base\")\n",
    "context_tokenizer = DPRContextEncoderTokenizer.from_pretrained(\"facebook/dpr-ctx_encoder-single-nq-base\")"
   ]
  },
  {
   "cell_type": "code",
   "execution_count": null,
   "id": "94c1efd2",
   "metadata": {},
   "outputs": [],
   "source": [
    "# Load dataset of answers\n",
    "all_answers = df_cleaned_lg[\"Answer\"].tolist()\n",
    "\n",
    "# Define batch size for processing answers (to reduce memory load)\n",
    "batch_size = 4\n",
    "\n",
    "# Process answers in batches and get embeddings for each answer\n",
    "answer_embeddings = process_batches_dpr(all_answers, batch_size, context_tokenizer, context_encoder)\n"
   ]
  },
  {
   "cell_type": "code",
   "execution_count": null,
   "id": "a277fe4a",
   "metadata": {},
   "outputs": [
    {
     "name": "stdout",
     "output_type": "stream",
     "text": [
      "DPR Test Accuracy: 0.0062\n"
     ]
    }
   ],
   "source": [
    "# Compute DPR accuracy on the test set\n",
    "dpr_accuracy = evaluate_dpr(df_test, question_encoder, question_tokenizer, answer_embeddings, all_answers)\n",
    "print(f\"DPR Test Accuracy: {dpr_accuracy:.4f}\")"
   ]
  },
  {
   "cell_type": "code",
   "execution_count": null,
   "id": "c71629ab",
   "metadata": {},
   "outputs": [
    {
     "name": "stdout",
     "output_type": "stream",
     "text": [
      "Question: What is the key to the game?\n",
      "DPR Answer: It is always a funny game, the last one before the break. It is just the reality of it. It is one of those things where you can’t help that you have plans after the game. You have family in, or you are trying to get out. You have all sorts of stuff that is happening. Our message today was really just about focusing on the fact that you have 60 minutes remaining to play. As good as things have gone for us of late —  the two-game losing streak on the road notwithstanding — we feel good about our game and want to go into the break with that same feeling.\n"
     ]
    }
   ],
   "source": [
    "# Test DPR search retrieval\n",
    "query = \"What is the key to the game?\"\n",
    "all_answers_orig = df_original_lg[\"Answer\"]\n",
    "print(f\"Question: {query}\")\n",
    "print(\"DPR Answer:\", get_dpr_answer(query, question_tokenizer, question_encoder, answer_embeddings, all_answers_orig))"
   ]
  },
  {
   "cell_type": "markdown",
   "id": "91adbf03",
   "metadata": {},
   "source": [
    "## **Section 9: Model 5 - T5 (Generative)**<a id=\"T5\"></a>\n",
    "\n",
    "**T5 (Text-to-Text Transfer Transformer)**\n",
    "- Instead of retrieving an answer, these models generate a new answer.\n",
    "- Pre-trained for question answering and summarization.\n",
    "- T5 can generate complete, human-like answers.\n",
    "- Available via Hugging Face transformers.\n",
    "\n",
    "**Limitations**\n",
    "- t5-small appears to be used for translating from EN to FR only.  Otherwise, responses have been useless\n",
    "- t5-flan appears to be able to answer more questions; still no NHL knowledge, and not robust\n",
    "\n",
    "**Use cases**\n",
    "|Task|Example Input Prompt\t|Example Output|\n",
    "|--|--|--|\n",
    "|Summarization\t|\"summarize: The hockey team played a fast-paced game and secured a win.\"|\t\"The hockey team won.\"|\n",
    "|Question Answering\t|\"question: What is the capital of Canada? answer:\"\t|\"Ottawa\"|\n",
    "|Translation\t|\"translate English to French: I play hockey.\"\t|\"Je joue au hockey.\"|\n",
    "|Text Completion\t|\"complete: The best way to win in hockey is to\"\t|\"play as a team and move the puck.\"|\n",
    "|Paraphrasing\t|\"paraphrase: Hockey is a fast-paced sport.\"|\t\"The sport of hockey is known for its speed.\"|\n",
    "|Sentiment Analysis|\t\"sentiment analysis: I love playing hockey!\"|\t\"Positive\"|\n",
    "|Grammar Correction\t|\"correct: She go to school every day.\"\t|\"She goes to school every day.\"|\n",
    "|Code Generation\t|\"write python function to add two numbers.\"\t|\"def add(a, b): return a + b\"|\n"
   ]
  },
  {
   "cell_type": "code",
   "execution_count": null,
   "id": "1d1474e9",
   "metadata": {},
   "outputs": [
    {
     "name": "stdout",
     "output_type": "stream",
     "text": [
      "[23483, 16, 2379, 10, 363, 19, 8, 200, 47, 12, 2967, 21, 3, 9, 467, 58, 1]\n",
      "Quelle era la meilleure manière d'ajuster à la question : Quel est le meilleur serait pour préparer le jeu?\n"
     ]
    }
   ],
   "source": [
    "# Load model and tokenizer\n",
    "model = T5ForConditionalGeneration.from_pretrained(\"t5-small\")\n",
    "tokenizer = T5Tokenizer.from_pretrained(\"t5-small\")\n",
    "\n",
    "# Generate an answer\n",
    "def generate_answer_t5small(question):\n",
    "    input_text = f\"Respond in French: {question}\"\n",
    "    print(tokenizer.encode(input_text))\n",
    "    input_ids = tokenizer(input_text, return_tensors=\"pt\").input_ids\n",
    "    output_ids = model.generate(input_ids, max_length=50, do_sample=True)\n",
    "    return tokenizer.decode(output_ids[0], skip_special_tokens=True)\n",
    "\n",
    "# Example:\n",
    "print(generate_answer_t5small(\"What is the best was to prepare for a game?\"))\n"
   ]
  },
  {
   "cell_type": "code",
   "execution_count": null,
   "id": "e2f86f4d",
   "metadata": {},
   "outputs": [
    {
     "name": "stdout",
     "output_type": "stream",
     "text": [
      "[822, 10, 363, 19, 8, 1784, 13, 2312, 58, 1525, 10, 1]\n",
      "elmerio\n"
     ]
    }
   ],
   "source": [
    "# Load model and tokenizer\n",
    "model = T5ForConditionalGeneration.from_pretrained(\"google/flan-t5-small\")\n",
    "tokenizer = T5Tokenizer.from_pretrained(\"google/flan-t5-small\")\n",
    "\n",
    "# Generate an answer\n",
    "def generate_answer_t5flan(question):\n",
    "    input_text = f\"question: {question} answer:\"\n",
    "    print(tokenizer.encode(input_text))\n",
    "    input_ids = tokenizer(input_text, return_tensors=\"pt\").input_ids\n",
    "    output_ids = model.generate(input_ids, max_length=50, do_sample=True)\n",
    "    return tokenizer.decode(output_ids[0], skip_special_tokens=True)\n",
    "\n",
    "# Example:\n",
    "print(generate_answer_t5flan(\"What is the capital of USA?\"))\n"
   ]
  },
  {
   "cell_type": "code",
   "execution_count": null,
   "id": "55fed0db",
   "metadata": {},
   "outputs": [
    {
     "name": "stdout",
     "output_type": "stream",
     "text": [
      "[21603, 10, 48, 19, 3, 9, 310, 310, 310, 310, 310, 307, 7142, 1]\n",
      "Question: this is a really really really really really long sentence, Answer: a really really really really really really really really really long sentence .\n"
     ]
    }
   ],
   "source": [
    "# Load model and tokenizer\n",
    "model_t5 = T5ForConditionalGeneration.from_pretrained(\"t5-base\")\n",
    "tokenizer_t5 = T5Tokenizer.from_pretrained(\"t5-base\")\n",
    "\n",
    "# Generate an answer\n",
    "def generate_answer_t5base(question):\n",
    "    input_text = f\"summarize: {question}\"\n",
    "    print(tokenizer_t5.encode(input_text))\n",
    "    input_ids = tokenizer_t5(input_text, return_tensors=\"pt\").input_ids\n",
    "    output_ids = model_t5.generate(input_ids, max_length=50, do_sample=True)\n",
    "    return tokenizer_t5.decode(output_ids[0], skip_special_tokens=True)\n",
    "\n",
    "# Example:\n",
    "question = \"this is a really really really really really long sentence\"\n",
    "generated_response = generate_answer_t5base(question)\n",
    "print(f\"Question: {question}, Answer: {generated_response}\")"
   ]
  },
  {
   "cell_type": "code",
   "execution_count": null,
   "id": "91f3a82f",
   "metadata": {},
   "outputs": [],
   "source": [
    "# Fine-tune T5 model with NHL interview dataset\n",
    "\"\"\"\n",
    "training_args = TrainingArguments(\n",
    "    output_dir=\"./t5_finetuned\",\n",
    "    per_device_train_batch_size=8,\n",
    "    evaluation_strategy=\"epoch\",\n",
    "    save_strategy=\"epoch\",\n",
    "    logging_dir=\"./logs\",\n",
    ")\n",
    "\n",
    "trainer = Trainer(\n",
    "    model=model,\n",
    "    args=training_args,\n",
    "    train_dataset=df_train_lg,\n",
    "    eval_dataset=df_test_lg,\n",
    ")\n",
    "trainer.train()\n",
    "\"\"\""
   ]
  },
  {
   "cell_type": "markdown",
   "id": "e050ec6d",
   "metadata": {},
   "source": [
    "## **Section 10: Model 6 - GPT-4 (Generative)**<a id=\"gpt4\"></a>\n",
    "\n",
    "Placeholder"
   ]
  },
  {
   "cell_type": "code",
   "execution_count": null,
   "id": "f0b841b8",
   "metadata": {},
   "outputs": [],
   "source": [
    "\"\"\"\n",
    "openai.api_key = \"\"\n",
    "def ask_gpt(question):\n",
    "    response = openai.ChatCompletion.create(\n",
    "        model=\"gpt-4\",\n",
    "        messages=[{\"role\": \"user\", \"content\": question}]\n",
    "    )\n",
    "    return response[\"choices\"][0][\"message\"][\"content\"]\n",
    "\n",
    "# Test GPT-4\n",
    "query = \"What were the keys to the hockey game?\"\n",
    "print(\"GPT-4 Answer:\", ask_gpt(query))\n",
    "\"\"\""
   ]
  },
  {
   "cell_type": "markdown",
   "id": "5d7a43d9",
   "metadata": {},
   "source": [
    "## **Section 11: Model 7 - RAG (Hybrid)**<a id=\"rag\"></a>\n",
    "\n",
    "**RAG (Hybrid answer retrieval and generation)**\n",
    "1. Retrieve top 3 most relevant answers using BM25 or DPR.\n",
    "2. Pass retrieved answers as context to T5/GPT for final response.\n",
    "\n",
    "**Limitations**\n",
    "\n",
    "\n",
    "**Use cases**\n",
    "- tailor general purpose generative models to domain knowledge by adding specific answers to prompt"
   ]
  },
  {
   "cell_type": "code",
   "execution_count": null,
   "id": "e649ffd3",
   "metadata": {},
   "outputs": [
    {
     "name": "stdout",
     "output_type": "stream",
     "text": [
      "Summarize: It is more of me trying to be the best player I possibly can day in and day out — not just on the ice but off the ice. I am in the best shape of my life right now. He and the strength guys have been on me this summer. I was here quite a bit for the summer trying to prepare for the season. I feel amazing. Sometimes, when I get sloppy or I am not at my best, he is going to let me know. That is the way a coach should be. You have to be at your best. That is the way I would put it. You have to be aware of where he is at and where everything is at on the ice. You have to give it your best. A lot of times, with him or any other great player, you need all five guys out there on the same page helping out. It is challenging, but it is fun at the same time. It is what you want to do: compete against the best in the world. Playing with him has been a big opportunity for me. We hang out off of the ice quite a bit. We build that chemistry off the ice and bring it on the ice. Playing with him is a lot of fun. I try to get open for him, dig pucks out for him, and make plays for him. Obviously, he is one of the best players in the world. Every single night, he is bringing his game. I know I have to bring mine.\n",
      "RAG Answer: Obviously, he is one of the best players in the world. Every single night,\n"
     ]
    }
   ],
   "source": [
    "# Test RAG\n",
    "query = \"Who was the best player on the ice\"\n",
    "print(\"RAG Answer:\", get_rag_answer(query, retrieval_method=\"bm25\", generator=\"t5\"))"
   ]
  },
  {
   "cell_type": "markdown",
   "id": "69d9aeba-69da-4c26-8dd5-e7c08fcb44ac",
   "metadata": {},
   "source": [
    "## **Section 11: Save the Trained Model** <a id=\"save_model\"></a>"
   ]
  },
  {
   "cell_type": "markdown",
   "id": "b4974c3a-4ec4-4842-92e7-e77b7f13d39c",
   "metadata": {},
   "source": [
    "Both **joblib** and **pickle** libraries are used to save and load Python objects (like machine learning models), but they work differently.\n",
    "\n",
    "**Using joblib (Recommended for ML models)**\n",
    "- import joblib\n",
    "- joblib.dump(best_xgb_model, \"model.pkl\")  # Save\n",
    "- model = joblib.load(\"model.pkl\")  # Load\n",
    "\n",
    "**Using pickle**\n",
    "- import pickle\n",
    "- with open(\"model.pkl\", \"wb\") as f:\n",
    "    - pickle.dump(best_xgb_model, f)\n",
    "- with open(\"model.pkl\", \"rb\") as f:\n",
    "    - model = pickle.load(f)\n",
    "\n",
    "**Summary: joblib.dump() vs. pickle.dump()**\n",
    "|Scenario|\tUse joblib?|\tUse pickle?|\n",
    "|--|--|--|\n",
    "|Saving ML models (XGBoost, Scikit-learn)?|\t✅ Yes|\t❌ No|\n",
    "|Saving general Python objects?\t|❌ No|\t✅ Yes|\n",
    "|Storing large NumPy arrays?|\t✅ Yes|\t❌ No|\n",
    "|Need speed & efficiency?\t|✅ Yes|\t❌ No|\n",
    "\n",
    "\n"
   ]
  },
  {
   "cell_type": "code",
   "execution_count": null,
   "id": "76d35063-ace5-4c7b-887e-5615fd8f7224",
   "metadata": {},
   "outputs": [],
   "source": [
    "# pickle library saves the trained model \n",
    "# it serializes the model object into a binary format and writes it into a pkl file\n",
    "# later, we'll read and load the file for use in an app\n",
    "\n",
    "with open(\"xgboost_model.pkl\", \"wb\") as model_file:\n",
    "    pickle.dump(best_xgb_model, model_file)\n"
   ]
  },
  {
   "cell_type": "code",
   "execution_count": null,
   "id": "b2f8ec9c-bad2-489e-a4ef-742aefbe4b2c",
   "metadata": {},
   "outputs": [],
   "source": [
    "# we also need to save how the model is scaling input data so we can apply the same method in the application\n",
    "#If your app (eg Flask API) does not scale the input data the same way as during training, predictions will be off.\n",
    "\n",
    "# Check how your model was trained (re-do from Section 5c)\n",
    "scaler = StandardScaler()\n",
    "X_scaled_filtered = scaler.fit_transform(X_filtered)\n",
    "\n",
    "# Save the scaler for API use\n",
    "joblib.dump(scaler, \"scaler.pkl\")"
   ]
  }
 ],
 "metadata": {
  "kernelspec": {
   "display_name": "venv310",
   "language": "python",
   "name": "python3"
  },
  "language_info": {
   "codemirror_mode": {
    "name": "ipython",
    "version": 3
   },
   "file_extension": ".py",
   "mimetype": "text/x-python",
   "name": "python",
   "nbconvert_exporter": "python",
   "pygments_lexer": "ipython3",
   "version": "3.10.16"
  }
 },
 "nbformat": 4,
 "nbformat_minor": 5
}
